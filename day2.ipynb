{
 "cells": [
  {
   "cell_type": "code",
   "execution_count": 1,
   "id": "16eb3679-c752-4b78-8245-8b195aaf5354",
   "metadata": {},
   "outputs": [
    {
     "name": "stdout",
     "output_type": "stream",
     "text": [
      "hello\n"
     ]
    }
   ],
   "source": [
    "print(\"hello\")"
   ]
  },
  {
   "cell_type": "code",
   "execution_count": 3,
   "id": "2835d1de-d036-4422-a5f9-918802d74d3d",
   "metadata": {},
   "outputs": [
    {
     "name": "stdout",
     "output_type": "stream",
     "text": [
      "my age is  22\n"
     ]
    }
   ],
   "source": [
    "age = 23\n",
    "print(\"my age is \",age-1)"
   ]
  },
  {
   "cell_type": "code",
   "execution_count": 4,
   "id": "02c3961d-e725-4d25-b549-63fa29830f36",
   "metadata": {},
   "outputs": [
    {
     "name": "stdout",
     "output_type": "stream",
     "text": [
      "my age is 23\n"
     ]
    }
   ],
   "source": [
    "# f string\n",
    "print(f\"my age is {age}\")\n"
   ]
  },
  {
   "cell_type": "code",
   "execution_count": 7,
   "id": "14f55eab-4a36-4dba-ae60-3f50ec5f4f2a",
   "metadata": {},
   "outputs": [
    {
     "name": "stdout",
     "output_type": "stream",
     "text": [
      "my name is Akash and my age is 23\n"
     ]
    }
   ],
   "source": [
    "## format\n",
    "name=\"Akash\"\n",
    "print(\"my name is {} and my age is {}\".format(name,age))"
   ]
  },
  {
   "cell_type": "code",
   "execution_count": 8,
   "id": "db166541-ef16-47e0-b6a5-e62ed21cc163",
   "metadata": {},
   "outputs": [
    {
     "name": "stdout",
     "output_type": "stream",
     "text": [
      "my name is Akash and my age is 23\n"
     ]
    }
   ],
   "source": [
    "print(\"my name is {firstname} and my age is {firstage}\".format(firstname=name,firstage=age))"
   ]
  },
  {
   "cell_type": "code",
   "execution_count": 9,
   "id": "28763960-3f30-4d46-a646-1dbe656ca755",
   "metadata": {},
   "outputs": [],
   "source": [
    "degree=\"b.tech\""
   ]
  },
  {
   "cell_type": "raw",
   "id": "d9beafd6-0e71-4d93-826e-9be5430c4636",
   "metadata": {},
   "source": [
    "print(\"my name is {} my age is {} and I have completed my {} in 2024\" .format(age , degree))\n"
   ]
  },
  {
   "cell_type": "code",
   "execution_count": 10,
   "id": "41500118-ce9a-44e1-9f0f-9abe8524cd38",
   "metadata": {},
   "outputs": [
    {
     "name": "stdout",
     "output_type": "stream",
     "text": [
      "my name is Akash my age is 23 and I have completed my b.tech in 2024\n"
     ]
    }
   ],
   "source": [
    "print(\"my name is {} my age is {} and I have completed my {} in 2024\" .format(name,age , degree))"
   ]
  },
  {
   "cell_type": "code",
   "execution_count": 3,
   "id": "07dca9d7-ec06-4324-a7f7-b1f9eb12d054",
   "metadata": {},
   "outputs": [],
   "source": [
    "## control flow\n",
    "## decision making statements\n"
   ]
  },
  {
   "cell_type": "code",
   "execution_count": 8,
   "id": "ed4917c5-2a8d-4a5d-a62b-7dd07b13369a",
   "metadata": {},
   "outputs": [
    {
     "name": "stdout",
     "output_type": "stream",
     "text": [
      "you can drive\n"
     ]
    }
   ],
   "source": [
    "age=19\n",
    "if age>=18 :\n",
    "    print(\"you can drive\")\n",
    "    "
   ]
  },
  {
   "cell_type": "code",
   "execution_count": 9,
   "id": "ec4fb4a9-f1ae-40f8-ad2d-c6a5b705e4f9",
   "metadata": {},
   "outputs": [
    {
     "name": "stdin",
     "output_type": "stream",
     "text": [
      " akash\n"
     ]
    },
    {
     "data": {
      "text/plain": [
       "'akash'"
      ]
     },
     "execution_count": 9,
     "metadata": {},
     "output_type": "execute_result"
    }
   ],
   "source": [
    "input()"
   ]
  },
  {
   "cell_type": "code",
   "execution_count": 10,
   "id": "e0595a86-14a7-408c-a8ac-0fb0396499d9",
   "metadata": {},
   "outputs": [
    {
     "name": "stdin",
     "output_type": "stream",
     "text": [
      "19 12\n"
     ]
    },
    {
     "data": {
      "text/plain": [
       "'12'"
      ]
     },
     "execution_count": 10,
     "metadata": {},
     "output_type": "execute_result"
    }
   ],
   "source": [
    "input(age)"
   ]
  },
  {
   "cell_type": "code",
   "execution_count": 16,
   "id": "ebd361df-53cb-4d9e-ab70-812076ad5384",
   "metadata": {},
   "outputs": [
    {
     "name": "stdin",
     "output_type": "stream",
     "text": [
      "enter the age 45\n"
     ]
    }
   ],
   "source": [
    "age=int(input(\"enter the age\"))"
   ]
  },
  {
   "cell_type": "code",
   "execution_count": 18,
   "id": "f48378ba-8e52-4fef-9297-f9a3a815be0a",
   "metadata": {},
   "outputs": [
    {
     "data": {
      "text/plain": [
       "int"
      ]
     },
     "execution_count": 18,
     "metadata": {},
     "output_type": "execute_result"
    }
   ],
   "source": [
    "type(age)"
   ]
  },
  {
   "cell_type": "code",
   "execution_count": 24,
   "id": "713b8ceb-25d5-4e20-bb12-68b5362baf19",
   "metadata": {},
   "outputs": [
    {
     "name": "stdin",
     "output_type": "stream",
     "text": [
      "enter the age 45\n"
     ]
    },
    {
     "name": "stdout",
     "output_type": "stream",
     "text": [
      "you are young\n"
     ]
    }
   ],
   "source": [
    "age=int(input(\"enter the age\"))\n",
    "if age>=18 and age<=45:\n",
    "    print(\"you are young\")\n",
    "else:\n",
    "    print(\"your appllication is rejected\")"
   ]
  },
  {
   "cell_type": "code",
   "execution_count": 4,
   "id": "05a9742b-2a3a-440d-8320-cf11431d1ce8",
   "metadata": {},
   "outputs": [
    {
     "name": "stdin",
     "output_type": "stream",
     "text": [
      "enter the product price : 4000\n"
     ]
    },
    {
     "name": "stdout",
     "output_type": "stream",
     "text": [
      "you get the goa trip\n",
      "you will get 20% off \n",
      " product price is  3200.0\n"
     ]
    }
   ],
   "source": [
    "amount=int(input(\"enter the product price :\"))\n",
    "\n",
    "if amount>3000:\n",
    "    if amount==4000:\n",
    "    print(\"you get the goa trip\")\n",
    "    print(\"you will get 20% off \\n product price is \" ,0.8*amount)\n",
    "elif amount>=2000 and amount<=3000:\n",
    "    print(\"you will get 30% off \\n product price is \" ,0.7*amount)    \n",
    "else:\n",
    "    print(\"you will get 40% off \\n product price is \" ,0.6*amount) "
   ]
  },
  {
   "cell_type": "markdown",
   "id": "5734e1db-7027-415a-b3be-b5f6d0165961",
   "metadata": {},
   "source": [
    "# loops"
   ]
  },
  {
   "cell_type": "markdown",
   "id": "0cd5ac21-9627-4aa9-ac95-b6f46cfa537b",
   "metadata": {},
   "source": [
    "### 1.while loop"
   ]
  },
  {
   "cell_type": "code",
   "execution_count": 6,
   "id": "414270c5-e2a0-4aae-8e17-c169cee9567d",
   "metadata": {},
   "outputs": [
    {
     "name": "stdout",
     "output_type": "stream",
     "text": [
      "26\n",
      "27\n",
      "28\n",
      "29\n",
      "30\n",
      "31\n",
      "32\n",
      "33\n",
      "34\n",
      "35\n",
      "36\n",
      "37\n",
      "38\n",
      "39\n",
      "40\n",
      "41\n",
      "42\n",
      "43\n",
      "44\n",
      "45\n",
      "46\n",
      "47\n",
      "48\n",
      "49\n",
      "50\n",
      "51\n",
      "52\n",
      "53\n",
      "54\n",
      "55\n",
      "56\n",
      "now its your time to retire!!\n"
     ]
    }
   ],
   "source": [
    "joining_age=25\n",
    "while joining_age<=55:\n",
    "    joining_age=joining_age+1\n",
    "    print(joining_age)\n",
    "    \n",
    "else:\n",
    "    print(\"now its your time to retire!!\")\n",
    "    "
   ]
  },
  {
   "cell_type": "code",
   "execution_count": 7,
   "id": "487ec361-a753-471f-b6c9-e33a51f4e939",
   "metadata": {},
   "outputs": [
    {
     "name": "stdout",
     "output_type": "stream",
     "text": [
      "900\n",
      "800\n",
      "700\n",
      "600\n",
      "500\n",
      "400\n",
      "300\n",
      "200\n",
      "100\n",
      "0\n",
      "sorry..!! no money left\n"
     ]
    }
   ],
   "source": [
    "wallet=1000\n",
    "while wallet !=0:\n",
    "    wallet=wallet-100\n",
    "    print(wallet)\n",
    "else:\n",
    "    print(\"sorry..!! no money left\")\n",
    "    "
   ]
  },
  {
   "cell_type": "markdown",
   "id": "379d27dd-3048-47ce-8a7b-11b1e35e9f1b",
   "metadata": {},
   "source": [
    "## 2. for loop"
   ]
  },
  {
   "cell_type": "code",
   "execution_count": 1,
   "id": "7eff60c4-c867-4c6e-8787-ba103be7309d",
   "metadata": {},
   "outputs": [],
   "source": [
    "## basics of list\n",
    "list = [\"Akash\",1,66,4,\"soni\",\"Ujjwal\"]\n"
   ]
  },
  {
   "cell_type": "code",
   "execution_count": 2,
   "id": "076934d2-36b7-45b1-bae1-989d1418885a",
   "metadata": {},
   "outputs": [
    {
     "data": {
      "text/plain": [
       "list"
      ]
     },
     "execution_count": 2,
     "metadata": {},
     "output_type": "execute_result"
    }
   ],
   "source": [
    "type(list)"
   ]
  },
  {
   "cell_type": "code",
   "execution_count": 4,
   "id": "63765ed8-1c0c-437d-8bd0-333f9968a6d0",
   "metadata": {},
   "outputs": [
    {
     "data": {
      "text/plain": [
       "66"
      ]
     },
     "execution_count": 4,
     "metadata": {},
     "output_type": "execute_result"
    }
   ],
   "source": [
    "list[2]"
   ]
  },
  {
   "cell_type": "code",
   "execution_count": 5,
   "id": "dab4ba72-87af-427e-becd-f05c49b4daff",
   "metadata": {},
   "outputs": [
    {
     "name": "stdout",
     "output_type": "stream",
     "text": [
      "Akash\n",
      "1\n",
      "66\n",
      "4\n",
      "soni\n",
      "Ujjwal\n"
     ]
    }
   ],
   "source": [
    "## basic of for loop\n",
    "for x in list:\n",
    "    print(x)"
   ]
  },
  {
   "cell_type": "code",
   "execution_count": 6,
   "id": "acedcf3b-7762-499b-b818-7fc0bf30559e",
   "metadata": {},
   "outputs": [],
   "source": [
    "## example 2\n",
    "\n",
    "fruits=[\"mango\",\"cherry\",\"banana\",\"guava\"]\n"
   ]
  },
  {
   "cell_type": "code",
   "execution_count": 14,
   "id": "e6561f97-6f04-4b0d-8ab2-7d63a153818a",
   "metadata": {},
   "outputs": [
    {
     "name": "stdout",
     "output_type": "stream",
     "text": [
      "The fruit is  mango\n",
      "The fruit is  cherry\n",
      "The fruit is  banana\n",
      "The fruit is  guava\n"
     ]
    }
   ],
   "source": [
    "for x in fruits:\n",
    "    print(\"The fruit is \",x)"
   ]
  },
  {
   "cell_type": "code",
   "execution_count": 10,
   "id": "a9fd5c93-d71c-406f-b566-b63982c967fc",
   "metadata": {},
   "outputs": [
    {
     "data": {
      "text/plain": [
       "'banana'"
      ]
     },
     "execution_count": 10,
     "metadata": {},
     "output_type": "execute_result"
    }
   ],
   "source": [
    "fruits[2]"
   ]
  },
  {
   "cell_type": "code",
   "execution_count": 11,
   "id": "ac53b380-ea44-45fa-93ca-e34ecf9834d9",
   "metadata": {},
   "outputs": [],
   "source": [
    "name='phillippinnes'"
   ]
  },
  {
   "cell_type": "code",
   "execution_count": 17,
   "id": "891042ba-51bc-4204-bd58-2b203cc5caa0",
   "metadata": {},
   "outputs": [
    {
     "name": "stdout",
     "output_type": "stream",
     "text": [
      "p h i l l i p p i n n e s "
     ]
    }
   ],
   "source": [
    "for x  in name:\n",
    "    print(x,end=\" \")"
   ]
  },
  {
   "cell_type": "code",
   "execution_count": 18,
   "id": "8505f5cf-29aa-41c0-873d-620e643ee518",
   "metadata": {},
   "outputs": [
    {
     "name": "stdout",
     "output_type": "stream",
     "text": [
      "1\n",
      "2\n",
      "3\n",
      "4\n",
      "5\n",
      "6\n",
      "7\n",
      "8\n",
      "9\n"
     ]
    }
   ],
   "source": [
    "## range\n",
    "for i in range(1,10):\n",
    "    print(i)"
   ]
  },
  {
   "cell_type": "code",
   "execution_count": 19,
   "id": "8af014a9-dd88-48de-9d72-d01583a4c274",
   "metadata": {},
   "outputs": [
    {
     "name": "stdout",
     "output_type": "stream",
     "text": [
      "1\n",
      "3\n",
      "5\n",
      "7\n",
      "9\n"
     ]
    }
   ],
   "source": [
    "for i in range(1,10,2):\n",
    "    print(i)"
   ]
  },
  {
   "cell_type": "code",
   "execution_count": 23,
   "id": "f501b12f-7f50-421b-80d2-8e9f7cf18060",
   "metadata": {},
   "outputs": [
    {
     "name": "stdout",
     "output_type": "stream",
     "text": [
      "*\n",
      "**\n",
      "***\n",
      "****\n",
      "*****\n",
      "******\n",
      "*******\n"
     ]
    }
   ],
   "source": [
    "n=7\n",
    "for i in range(0,n):\n",
    "    for j in range(0,i+1):\n",
    "        print(\"*\",end=\"\")\n",
    "    print(\"\\r\")    "
   ]
  },
  {
   "cell_type": "code",
   "execution_count": 29,
   "id": "3c43ac72-3f63-45f5-a70e-2d6c345b23a5",
   "metadata": {},
   "outputs": [
    {
     "name": "stdout",
     "output_type": "stream",
     "text": [
      "*******\n",
      "*******\n",
      "*******\n",
      "*******\n",
      "*******\n",
      "*******\n",
      "*******\n"
     ]
    }
   ],
   "source": [
    "n=7\n",
    "for i in range(0,n):\n",
    "    for j in range(0,n):\n",
    "        print(\"*\",end=\"\")\n",
    "    print(\"\\r\")    "
   ]
  },
  {
   "cell_type": "code",
   "execution_count": 31,
   "id": "fc1d03c9-84cd-4066-acd0-31f9039728e9",
   "metadata": {},
   "outputs": [
    {
     "name": "stdout",
     "output_type": "stream",
     "text": [
      "*\n",
      "**\n",
      "***\n",
      "****\n",
      "*****\n",
      "******\n",
      "*******\n",
      "@@@@@@@\n",
      "@@@@@@@\n",
      "@@@@@@@\n",
      "@@@@@@@\n",
      "@@@@@@@\n",
      "@@@@@@@\n",
      "@@@@@@@\n"
     ]
    }
   ],
   "source": [
    "for i in range(0,n):\n",
    "    for j in range(0,i+1):\n",
    "        print(\"*\",end=\"\")\n",
    "    print(\"\\r\")    \n",
    "for i in range(0,n):\n",
    "    for j in range(0,n):\n",
    "        print(\"@\",end=\"\")\n",
    "    print(\"\\r\")  "
   ]
  },
  {
   "cell_type": "code",
   "execution_count": 10,
   "id": "870d2fb0-fb9a-4a85-be29-7b8376236cab",
   "metadata": {},
   "outputs": [
    {
     "name": "stdin",
     "output_type": "stream",
     "text": [
      "enter the size of the pyramid:  9\n"
     ]
    },
    {
     "name": "stdout",
     "output_type": "stream",
     "text": [
      "       *\n",
      "      **\n",
      "     ***\n",
      "    ****\n",
      "   *****\n",
      "  ******\n",
      " *******\n",
      "********\n"
     ]
    }
   ],
   "source": [
    "n=int(input(\"enter the size of the pyramid: \"))\n",
    "for i in range(1,n):\n",
    "    for j in range(1,n):\n",
    "        if j<n-i:\n",
    "            print(\" \",end=\"\")\n",
    "        else:\n",
    "            print(\"*\",end=\"\")\n",
    "    print(\"\\r\")            "
   ]
  },
  {
   "cell_type": "code",
   "execution_count": 20,
   "id": "ddd614f7-9f6e-494e-86aa-5bd8b3c5d2c8",
   "metadata": {},
   "outputs": [
    {
     "name": "stdin",
     "output_type": "stream",
     "text": [
      "enter the size of the pyramid:  20\n"
     ]
    },
    {
     "name": "stdout",
     "output_type": "stream",
     "text": [
      "                                    \n",
      "                 *                  \n",
      "                * *                 \n",
      "               * * *                \n",
      "              * * * *               \n",
      "             * * * * *              \n",
      "            * * * * * *             \n",
      "           * * * * * * *            \n",
      "          * * * * * * * *           \n",
      "         * * * * * * * * *          \n",
      "        * * * * * * * * * *         \n",
      "       * * * * * * * * * * *        \n",
      "      * * * * * * * * * * * *       \n",
      "     * * * * * * * * * * * * *      \n",
      "    * * * * * * * * * * * * * *     \n",
      "   * * * * * * * * * * * * * * *    \n",
      "  * * * * * * * * * * * * * * * *   \n",
      " * * * * * * * * * * * * * * * * *  \n",
      "* * * * * * * * * * * * * * * * * * \n"
     ]
    }
   ],
   "source": [
    "## equilateral triangle\n",
    "n=int(input(\"enter the size of the pyramid: \"))\n",
    "\n",
    "for i in range(1,n):\n",
    "    for j in range(1,n-i):\n",
    "        print(\" \",end=\"\")\n",
    "    for j in range(1,i):\n",
    "        print(\"* \",end=\"\")\n",
    "    for j in range(1,n-i):\n",
    "        print(\" \",end=\"\")\n",
    "    print(\"\\r\")    "
   ]
  },
  {
   "cell_type": "code",
   "execution_count": 17,
   "id": "2f022a3b-8660-490d-9816-1cb8e5861809",
   "metadata": {},
   "outputs": [
    {
     "name": "stdout",
     "output_type": "stream",
     "text": [
      "                    * \n",
      "                   * * \n",
      "                  * * * \n",
      "                 * * * * \n",
      "                * * * * * \n",
      "               * * * * * * \n",
      "              * * * * * * * \n",
      "             * * * * * * * * \n",
      "            * * * * * * * * * \n",
      "           * * * * * * * * * * \n"
     ]
    }
   ],
   "source": [
    "n=20\n",
    "for i in range(1, 11):\n",
    "    print(' '*n, end='') # repet space for n times\n",
    "    print('* '*(i)) # repeat stars for i times\n",
    "    n-=1"
   ]
  },
  {
   "cell_type": "code",
   "execution_count": null,
   "id": "05f5d767-8e14-4129-8232-ababb4c0f4bd",
   "metadata": {},
   "outputs": [],
   "source": []
  }
 ],
 "metadata": {
  "kernelspec": {
   "display_name": "Python 3 (ipykernel)",
   "language": "python",
   "name": "python3"
  },
  "language_info": {
   "codemirror_mode": {
    "name": "ipython",
    "version": 3
   },
   "file_extension": ".py",
   "mimetype": "text/x-python",
   "name": "python",
   "nbconvert_exporter": "python",
   "pygments_lexer": "ipython3",
   "version": "3.10.8"
  }
 },
 "nbformat": 4,
 "nbformat_minor": 5
}
