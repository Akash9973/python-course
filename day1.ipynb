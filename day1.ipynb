{
 "cells": [
  {
   "cell_type": "markdown",
   "id": "6ff431e2-111f-4375-8cf0-9dc058c7b7c1",
   "metadata": {},
   "source": [
    "# Numbers"
   ]
  },
  {
   "cell_type": "code",
   "execution_count": 17,
   "id": "7348787d-ada8-44a0-bedb-09683131fe39",
   "metadata": {},
   "outputs": [
    {
     "name": "stdout",
     "output_type": "stream",
     "text": [
      "hello my name is akash roy \n",
      " I study in HITK\n"
     ]
    }
   ],
   "source": [
    "print(\"hello my name is akash roy \\n I study in HITK\")"
   ]
  },
  {
   "cell_type": "markdown",
   "id": "c408affe-5049-448b-821c-7150c87d03c1",
   "metadata": {},
   "source": [
    "# variable assignment"
   ]
  },
  {
   "cell_type": "code",
   "execution_count": 18,
   "id": "b8dfb796-4e80-40fb-be18-4bcc56c7b20a",
   "metadata": {},
   "outputs": [],
   "source": [
    "name=\"akash\"\n",
    "college=\"HITK \""
   ]
  },
  {
   "cell_type": "code",
   "execution_count": 19,
   "id": "cb8e2f92-c105-4d86-ac62-3844acbce6ae",
   "metadata": {},
   "outputs": [
    {
     "data": {
      "text/plain": [
       "'akash'"
      ]
     },
     "execution_count": 19,
     "metadata": {},
     "output_type": "execute_result"
    }
   ],
   "source": [
    "name"
   ]
  },
  {
   "cell_type": "code",
   "execution_count": 20,
   "id": "0569d9ac-c878-488c-b978-0818995ee6a9",
   "metadata": {},
   "outputs": [
    {
     "data": {
      "text/plain": [
       "('akash', 'HITK ')"
      ]
     },
     "execution_count": 20,
     "metadata": {},
     "output_type": "execute_result"
    }
   ],
   "source": [
    "name,college"
   ]
  },
  {
   "cell_type": "code",
   "execution_count": 21,
   "id": "b3aee7e9-185e-41a6-b560-871ba73ba6ba",
   "metadata": {},
   "outputs": [
    {
     "data": {
      "text/plain": [
       "str"
      ]
     },
     "execution_count": 21,
     "metadata": {},
     "output_type": "execute_result"
    }
   ],
   "source": [
    "type(\"\")"
   ]
  },
  {
   "cell_type": "code",
   "execution_count": 22,
   "id": "02f2f8d8-c8bf-41f9-bc90-03daa429d052",
   "metadata": {},
   "outputs": [
    {
     "data": {
      "text/plain": [
       "int"
      ]
     },
     "execution_count": 22,
     "metadata": {},
     "output_type": "execute_result"
    }
   ],
   "source": [
    "type(2)"
   ]
  },
  {
   "cell_type": "code",
   "execution_count": 24,
   "id": "b32898ca-f435-4a67-878a-702ceb51241d",
   "metadata": {},
   "outputs": [
    {
     "name": "stdout",
     "output_type": "stream",
     "text": [
      "<class 'float'>\n"
     ]
    }
   ],
   "source": [
    "print(type(9.9))"
   ]
  },
  {
   "cell_type": "code",
   "execution_count": 25,
   "id": "8e87c4a7-1ba2-451f-a2a7-3abb4292e9f1",
   "metadata": {},
   "outputs": [
    {
     "name": "stdout",
     "output_type": "stream",
     "text": [
      "<class 'complex'>\n"
     ]
    }
   ],
   "source": [
    "print(type(2+3j))"
   ]
  },
  {
   "cell_type": "code",
   "execution_count": 26,
   "id": "c2b50894-48b5-422b-88d7-9f8758debd4d",
   "metadata": {},
   "outputs": [],
   "source": [
    "#note = dont start a variable name with number"
   ]
  },
  {
   "cell_type": "code",
   "execution_count": 27,
   "id": "671951fa-6d07-457b-8d79-66c87f34af2e",
   "metadata": {},
   "outputs": [],
   "source": [
    "# variables are case sensitive\n",
    "\n",
    "company=\"balaji\"\n",
    "Company=\"black buk\""
   ]
  },
  {
   "cell_type": "code",
   "execution_count": 30,
   "id": "ae5c01e1-c243-40dd-9410-b39f7d229643",
   "metadata": {},
   "outputs": [
    {
     "name": "stdout",
     "output_type": "stream",
     "text": [
      "black buk\n"
     ]
    }
   ],
   "source": [
    "print(Company)"
   ]
  },
  {
   "cell_type": "code",
   "execution_count": 34,
   "id": "cbf40318-ff6b-45ff-a726-e3dbc530408c",
   "metadata": {},
   "outputs": [
    {
     "data": {
      "text/plain": [
       "bool"
      ]
     },
     "execution_count": 34,
     "metadata": {},
     "output_type": "execute_result"
    }
   ],
   "source": [
    "type(True and  False)"
   ]
  },
  {
   "cell_type": "code",
   "execution_count": 35,
   "id": "b038565c-7a8c-470b-9d38-172a25054eec",
   "metadata": {},
   "outputs": [
    {
     "data": {
      "text/plain": [
       "False"
      ]
     },
     "execution_count": 35,
     "metadata": {},
     "output_type": "execute_result"
    }
   ],
   "source": [
    "True and  False"
   ]
  },
  {
   "cell_type": "markdown",
   "id": "5e0a0cbf-dd89-416c-992b-6971cbdf4a1e",
   "metadata": {},
   "source": [
    "# Dynamic Typing"
   ]
  },
  {
   "cell_type": "code",
   "execution_count": 36,
   "id": "01820030-2c13-48f7-bea3-a927bbd5a138",
   "metadata": {},
   "outputs": [],
   "source": [
    "a=12"
   ]
  },
  {
   "cell_type": "code",
   "execution_count": 37,
   "id": "d8137361-ea83-4c30-97b3-321aa81a9452",
   "metadata": {},
   "outputs": [
    {
     "data": {
      "text/plain": [
       "int"
      ]
     },
     "execution_count": 37,
     "metadata": {},
     "output_type": "execute_result"
    }
   ],
   "source": [
    "type(a)"
   ]
  },
  {
   "cell_type": "code",
   "execution_count": 41,
   "id": "625222c1-452f-4201-a10e-c8c396a72887",
   "metadata": {},
   "outputs": [
    {
     "data": {
      "text/plain": [
       "'24'"
      ]
     },
     "execution_count": 41,
     "metadata": {},
     "output_type": "execute_result"
    }
   ],
   "source": [
    "str(\"24\")"
   ]
  },
  {
   "cell_type": "markdown",
   "id": "f2d3e086-5d30-4a7b-89a3-08fd37138fcd",
   "metadata": {},
   "source": [
    "# concatenation"
   ]
  },
  {
   "cell_type": "code",
   "execution_count": 44,
   "id": "c47754e5-efa2-4957-bea0-a53aeb29a64c",
   "metadata": {},
   "outputs": [
    {
     "data": {
      "text/plain": [
       "'52'"
      ]
     },
     "execution_count": 44,
     "metadata": {},
     "output_type": "execute_result"
    }
   ],
   "source": [
    "\"5\" + \"2\"   #its showing a string"
   ]
  },
  {
   "cell_type": "code",
   "execution_count": 45,
   "id": "91f1dbee-1be4-4c64-ae63-3e3eafb1e65d",
   "metadata": {},
   "outputs": [
    {
     "data": {
      "text/plain": [
       "7"
      ]
     },
     "execution_count": 45,
     "metadata": {},
     "output_type": "execute_result"
    }
   ],
   "source": [
    "int(\"5\") + int(\"2\")  #it showing a number"
   ]
  },
  {
   "cell_type": "code",
   "execution_count": 46,
   "id": "30bdc857-a015-4549-b155-fad8d561d1f9",
   "metadata": {},
   "outputs": [
    {
     "data": {
      "text/plain": [
       "'69 69 69 69 69 69 69 '"
      ]
     },
     "execution_count": 46,
     "metadata": {},
     "output_type": "execute_result"
    }
   ],
   "source": [
    "\"69 \" * 7"
   ]
  },
  {
   "cell_type": "code",
   "execution_count": 49,
   "id": "bd5234ad-3ae2-45ae-9503-1b27323fa372",
   "metadata": {},
   "outputs": [
    {
     "data": {
      "text/plain": [
       "'23'"
      ]
     },
     "execution_count": 49,
     "metadata": {},
     "output_type": "execute_result"
    }
   ],
   "source": [
    "str(\"23\")"
   ]
  },
  {
   "cell_type": "code",
   "execution_count": null,
   "id": "b61034f1-da60-4738-ab5a-a7dad2c72d0f",
   "metadata": {},
   "outputs": [],
   "source": []
  },
  {
   "cell_type": "code",
   "execution_count": null,
   "id": "c6d94d9c-1419-448a-8ecf-b15351c7d0bf",
   "metadata": {},
   "outputs": [],
   "source": []
  },
  {
   "cell_type": "code",
   "execution_count": null,
   "id": "672a0360-4a1c-435f-ace5-2e593df9c4bd",
   "metadata": {},
   "outputs": [],
   "source": []
  },
  {
   "cell_type": "code",
   "execution_count": null,
   "id": "05d2a9d9-3a68-484d-8f92-f0c4a7aec837",
   "metadata": {},
   "outputs": [],
   "source": []
  },
  {
   "cell_type": "code",
   "execution_count": null,
   "id": "f6b6b0a5-2748-4835-b698-884b5d477f4e",
   "metadata": {},
   "outputs": [],
   "source": []
  }
 ],
 "metadata": {
  "kernelspec": {
   "display_name": "Python 3 (ipykernel)",
   "language": "python",
   "name": "python3"
  },
  "language_info": {
   "codemirror_mode": {
    "name": "ipython",
    "version": 3
   },
   "file_extension": ".py",
   "mimetype": "text/x-python",
   "name": "python",
   "nbconvert_exporter": "python",
   "pygments_lexer": "ipython3",
   "version": "3.10.8"
  }
 },
 "nbformat": 4,
 "nbformat_minor": 5
}
