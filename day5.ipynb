{
 "cells": [
  {
   "cell_type": "markdown",
   "id": "970b1e75-297a-4de6-80f4-3fb10f665350",
   "metadata": {},
   "source": [
    "# tuples"
   ]
  },
  {
   "cell_type": "code",
   "execution_count": 3,
   "id": "4528a051-6f7e-435b-a1d7-d7aa6754006f",
   "metadata": {},
   "outputs": [],
   "source": [
    "l=[]"
   ]
  },
  {
   "cell_type": "code",
   "execution_count": 4,
   "id": "ec469353-130c-4db7-93db-d3d05af69a47",
   "metadata": {},
   "outputs": [
    {
     "data": {
      "text/plain": [
       "list"
      ]
     },
     "execution_count": 4,
     "metadata": {},
     "output_type": "execute_result"
    }
   ],
   "source": [
    "type(l)"
   ]
  },
  {
   "cell_type": "code",
   "execution_count": 5,
   "id": "f9aad42c-4db8-4248-b27c-f41d501be06e",
   "metadata": {},
   "outputs": [],
   "source": [
    "t=()"
   ]
  },
  {
   "cell_type": "code",
   "execution_count": 6,
   "id": "0dfe48ab-7051-480a-835b-d98ecd505ea0",
   "metadata": {},
   "outputs": [
    {
     "data": {
      "text/plain": [
       "tuple"
      ]
     },
     "execution_count": 6,
     "metadata": {},
     "output_type": "execute_result"
    }
   ],
   "source": [
    "type(t)"
   ]
  },
  {
   "cell_type": "code",
   "execution_count": 7,
   "id": "06015cab-93d3-4c8d-88f6-95d455e1b1ab",
   "metadata": {},
   "outputs": [],
   "source": [
    "t1=(1,2,3,5,7+6j,\"Akash\",True)"
   ]
  },
  {
   "cell_type": "code",
   "execution_count": 8,
   "id": "d3efb0fc-1a96-43ca-ab31-171a87a660b2",
   "metadata": {},
   "outputs": [
    {
     "data": {
      "text/plain": [
       "(1, 2, 3, 5, (7+6j), 'Akash', True)"
      ]
     },
     "execution_count": 8,
     "metadata": {},
     "output_type": "execute_result"
    }
   ],
   "source": [
    "t1"
   ]
  },
  {
   "cell_type": "code",
   "execution_count": 10,
   "id": "ec9a328e-f48f-41d7-b709-c6287d1871f6",
   "metadata": {},
   "outputs": [
    {
     "data": {
      "text/plain": [
       "(7+6j)"
      ]
     },
     "execution_count": 10,
     "metadata": {},
     "output_type": "execute_result"
    }
   ],
   "source": [
    "t1[4]"
   ]
  },
  {
   "cell_type": "code",
   "execution_count": 11,
   "id": "8a1a18f0-70f6-4983-b603-7a28d4b7f26e",
   "metadata": {},
   "outputs": [
    {
     "data": {
      "text/plain": [
       "(True, 'Akash', (7+6j), 5, 3, 2, 1)"
      ]
     },
     "execution_count": 11,
     "metadata": {},
     "output_type": "execute_result"
    }
   ],
   "source": [
    "t1[::-1] ## This will not going to change the tuple until and unless you have to write { t1=t1[::-1] }"
   ]
  },
  {
   "cell_type": "code",
   "execution_count": 13,
   "id": "2dbc17b7-ece0-4f3d-923a-b3854e66143a",
   "metadata": {},
   "outputs": [
    {
     "data": {
      "text/plain": [
       "(3, 5, (7+6j), 'Akash', True)"
      ]
     },
     "execution_count": 13,
     "metadata": {},
     "output_type": "execute_result"
    }
   ],
   "source": [
    "t1[2:7]"
   ]
  },
  {
   "cell_type": "code",
   "execution_count": 17,
   "id": "7f6e1205-1d10-4e84-8857-d5bdb450f4d8",
   "metadata": {},
   "outputs": [
    {
     "data": {
      "text/plain": [
       "1"
      ]
     },
     "execution_count": 17,
     "metadata": {},
     "output_type": "execute_result"
    }
   ],
   "source": [
    "t1.count('Akash')  ## it is going to check whether the give value is present in the tuple or not"
   ]
  },
  {
   "cell_type": "code",
   "execution_count": 21,
   "id": "c1b11de3-e831-4b71-918c-6dc194e067ce",
   "metadata": {},
   "outputs": [
    {
     "data": {
      "text/plain": [
       "3"
      ]
     },
     "execution_count": 21,
     "metadata": {},
     "output_type": "execute_result"
    }
   ],
   "source": [
    "t1.index(5)  ## it will going to tell you the indexing value of the given number"
   ]
  },
  {
   "cell_type": "code",
   "execution_count": 24,
   "id": "ccea2cd0-0ce5-4cef-99f1-aae5352e24de",
   "metadata": {},
   "outputs": [
    {
     "data": {
      "text/plain": [
       "2"
      ]
     },
     "execution_count": 24,
     "metadata": {},
     "output_type": "execute_result"
    }
   ],
   "source": [
    "t1.count(True)   ## it will going to return 2 but it contain only one TRUE because in boolean TRUE is considered as 1 and in \n",
    "                 ##tuple t1 it also contains 1 so computer will count it 2 times  "
   ]
  },
  {
   "cell_type": "code",
   "execution_count": 25,
   "id": "d5827131-9da5-4fd1-95ba-e070c76bb842",
   "metadata": {},
   "outputs": [
    {
     "data": {
      "text/plain": [
       "2"
      ]
     },
     "execution_count": 25,
     "metadata": {},
     "output_type": "execute_result"
    }
   ],
   "source": [
    "t1.count(1)   ## 1 in tuple and 1 is of count"
   ]
  },
  {
   "cell_type": "code",
   "execution_count": 26,
   "id": "520224c1-c4c9-4dad-bc48-5ff0483c0d2c",
   "metadata": {},
   "outputs": [],
   "source": [
    "## difference between list and tuples is that list is mutable (it can be changed) whereas tuples cannot be changes (immutable)"
   ]
  },
  {
   "cell_type": "code",
   "execution_count": 27,
   "id": "c36b91c7-f6f2-4869-9eb4-e34c7f7642b1",
   "metadata": {},
   "outputs": [],
   "source": [
    "##eg\n",
    "l1=[1,2,4,5,7]"
   ]
  },
  {
   "cell_type": "code",
   "execution_count": 28,
   "id": "b353082e-34ec-4d46-bd49-2d307773e54d",
   "metadata": {},
   "outputs": [
    {
     "data": {
      "text/plain": [
       "1"
      ]
     },
     "execution_count": 28,
     "metadata": {},
     "output_type": "execute_result"
    }
   ],
   "source": [
    "t1[0]"
   ]
  },
  {
   "cell_type": "code",
   "execution_count": 29,
   "id": "88c4fba4-18c6-4b5d-ad6c-5c84212544e1",
   "metadata": {},
   "outputs": [
    {
     "ename": "TypeError",
     "evalue": "'tuple' object does not support item assignment",
     "output_type": "error",
     "traceback": [
      "\u001b[0;31m---------------------------------------------------------------------------\u001b[0m",
      "\u001b[0;31mTypeError\u001b[0m                                 Traceback (most recent call last)",
      "Cell \u001b[0;32mIn[29], line 1\u001b[0m\n\u001b[0;32m----> 1\u001b[0m \u001b[43mt1\u001b[49m\u001b[43m[\u001b[49m\u001b[38;5;241;43m0\u001b[39;49m\u001b[43m]\u001b[49m\u001b[38;5;241m=\u001b[39m\u001b[38;5;241m34\u001b[39m\n",
      "\u001b[0;31mTypeError\u001b[0m: 'tuple' object does not support item assignment"
     ]
    }
   ],
   "source": [
    "t1[0]=34"
   ]
  },
  {
   "cell_type": "code",
   "execution_count": 31,
   "id": "27f07e29-5cc9-4df4-9ee1-b1383d0ef58d",
   "metadata": {},
   "outputs": [],
   "source": [
    "l1[0]=34"
   ]
  },
  {
   "cell_type": "code",
   "execution_count": 32,
   "id": "99bd5840-f49e-4e15-a916-1bf0fdbd362e",
   "metadata": {},
   "outputs": [
    {
     "data": {
      "text/plain": [
       "[34, 2, 4, 5, 7]"
      ]
     },
     "execution_count": 32,
     "metadata": {},
     "output_type": "execute_result"
    }
   ],
   "source": [
    "l1    ## it will going to change"
   ]
  },
  {
   "cell_type": "code",
   "execution_count": 37,
   "id": "9d56a904-ea90-4136-bc02-890cfd70d86d",
   "metadata": {},
   "outputs": [
    {
     "name": "stdout",
     "output_type": "stream",
     "text": [
      "1 <class 'int'>\n",
      "2 <class 'int'>\n",
      "3 <class 'int'>\n",
      "5 <class 'int'>\n",
      "(7+6j) <class 'complex'>\n",
      "Akash <class 'str'>\n",
      "True <class 'bool'>\n"
     ]
    }
   ],
   "source": [
    "for i in t1:\n",
    "    print(i, type(i))"
   ]
  },
  {
   "cell_type": "code",
   "execution_count": 38,
   "id": "85ef02ba-daea-4db3-b5a4-ec064683c331",
   "metadata": {},
   "outputs": [],
   "source": [
    "t2=(1,2,3,4,5,6,7)\n"
   ]
  },
  {
   "cell_type": "code",
   "execution_count": 39,
   "id": "809dc2ad-e415-4e8c-85b8-e6e1f1e64e8b",
   "metadata": {},
   "outputs": [
    {
     "data": {
      "text/plain": [
       "(1, 2, 3, 4, 5, 6, 7, 1, 2, 3, 4, 5, 6, 7, 1, 2, 3, 4, 5, 6, 7)"
      ]
     },
     "execution_count": 39,
     "metadata": {},
     "output_type": "execute_result"
    }
   ],
   "source": [
    " t2*3"
   ]
  },
  {
   "cell_type": "code",
   "execution_count": 44,
   "id": "e0076499-c774-4743-acd6-5d10d3049d2e",
   "metadata": {},
   "outputs": [
    {
     "name": "stdout",
     "output_type": "stream",
     "text": [
      "7\n",
      "1\n"
     ]
    }
   ],
   "source": [
    "print(max(t2))\n",
    "print(min(t2))\n"
   ]
  },
  {
   "cell_type": "code",
   "execution_count": 45,
   "id": "4085826b-82d4-4afd-be4c-45427bc86c03",
   "metadata": {},
   "outputs": [],
   "source": [
    "t3=(1,23,56,8,5)\n",
    "t4=(5,7,8,4,9)"
   ]
  },
  {
   "cell_type": "code",
   "execution_count": 47,
   "id": "e3b1bb2c-23c6-490c-a2c8-d0aac624a1ea",
   "metadata": {},
   "outputs": [
    {
     "data": {
      "text/plain": [
       "((1, 23, 56, 8, 5), (5, 7, 8, 4, 9))"
      ]
     },
     "execution_count": 47,
     "metadata": {},
     "output_type": "execute_result"
    }
   ],
   "source": [
    "## tuples inside a tuples\n",
    "t5=(t3,t4)\n",
    "t5"
   ]
  },
  {
   "cell_type": "code",
   "execution_count": 49,
   "id": "8645732c-33c7-4e06-be1b-29208d90ad64",
   "metadata": {},
   "outputs": [
    {
     "data": {
      "text/plain": [
       "((1, 2, 3), [99, 55, 33])"
      ]
     },
     "execution_count": 49,
     "metadata": {},
     "output_type": "execute_result"
    }
   ],
   "source": [
    "## list and tuples inside a tuples\n",
    "t6=((1,2,3),[99,55,33])\n",
    "t6"
   ]
  },
  {
   "cell_type": "code",
   "execution_count": 50,
   "id": "1e5318fc-91e5-4137-82b6-330a54eb833f",
   "metadata": {},
   "outputs": [
    {
     "data": {
      "text/plain": [
       "7"
      ]
     },
     "execution_count": 50,
     "metadata": {},
     "output_type": "execute_result"
    }
   ],
   "source": [
    "len(t1)"
   ]
  },
  {
   "cell_type": "markdown",
   "id": "fa6af9e4-1478-4e89-a61e-5dbcbd71caba",
   "metadata": {},
   "source": [
    " "
   ]
  },
  {
   "cell_type": "code",
   "execution_count": 52,
   "id": "c8414ce5-a477-4354-8367-9bfd2d521634",
   "metadata": {},
   "outputs": [
    {
     "data": {
      "text/plain": [
       "True"
      ]
     },
     "execution_count": 52,
     "metadata": {},
     "output_type": "execute_result"
    }
   ],
   "source": [
    "## if else condition\n",
    "\"Akash\" in t1"
   ]
  },
  {
   "cell_type": "code",
   "execution_count": 54,
   "id": "38fa559a-8774-4039-81ad-26aa2220b53f",
   "metadata": {},
   "outputs": [
    {
     "data": {
      "text/plain": [
       "False"
      ]
     },
     "execution_count": 54,
     "metadata": {},
     "output_type": "execute_result"
    }
   ],
   "source": [
    "99 in t1"
   ]
  },
  {
   "cell_type": "markdown",
   "id": "a7e67c19-0db8-49f9-81ba-c6ce5843789c",
   "metadata": {},
   "source": [
    "# SETS"
   ]
  },
  {
   "cell_type": "code",
   "execution_count": 55,
   "id": "115335a6-50bd-494a-8310-7cafbead8c13",
   "metadata": {},
   "outputs": [],
   "source": [
    "# list = []\n",
    "# tuples = ()\n",
    "# SET = {}\n"
   ]
  },
  {
   "cell_type": "code",
   "execution_count": 57,
   "id": "d4428564-264f-4013-87c1-67be55a9ca9c",
   "metadata": {},
   "outputs": [
    {
     "data": {
      "text/plain": [
       "dict"
      ]
     },
     "execution_count": 57,
     "metadata": {},
     "output_type": "execute_result"
    }
   ],
   "source": [
    "s={}\n",
    "type(s)   ## when a blank set is there itt will going to treat like a dictionary"
   ]
  },
  {
   "cell_type": "code",
   "execution_count": 58,
   "id": "eda3cb2b-4066-4f15-acc2-ab119f31beb4",
   "metadata": {},
   "outputs": [
    {
     "data": {
      "text/plain": [
       "set"
      ]
     },
     "execution_count": 58,
     "metadata": {},
     "output_type": "execute_result"
    }
   ],
   "source": [
    "s1={1,2,3,4,5}\n",
    "type(s1)"
   ]
  },
  {
   "cell_type": "code",
   "execution_count": 59,
   "id": "9d5f4843-fe35-4e8e-90f4-4d5a6f264a67",
   "metadata": {},
   "outputs": [],
   "source": [
    "s2={1,1,1,3,3,5,7,4,55,5,6,7,7,7,7,7,66,6}"
   ]
  },
  {
   "cell_type": "code",
   "execution_count": 60,
   "id": "586a76c5-db0d-4adb-94ff-bd2bf5bc27b8",
   "metadata": {},
   "outputs": [
    {
     "data": {
      "text/plain": [
       "{1, 3, 4, 5, 6, 7, 55, 66}"
      ]
     },
     "execution_count": 60,
     "metadata": {},
     "output_type": "execute_result"
    }
   ],
   "source": [
    "s2"
   ]
  },
  {
   "cell_type": "code",
   "execution_count": 61,
   "id": "3a68e67c-58a3-4569-9384-97395170a658",
   "metadata": {},
   "outputs": [],
   "source": [
    "## set is a collection which only shows identical elements"
   ]
  },
  {
   "cell_type": "code",
   "execution_count": 62,
   "id": "591dfec4-e1b9-48ca-83cf-134ea2fe7b7f",
   "metadata": {},
   "outputs": [
    {
     "data": {
      "text/plain": [
       "[1, 66, 3, 4, 5, 6, 7, 55]"
      ]
     },
     "execution_count": 62,
     "metadata": {},
     "output_type": "execute_result"
    }
   ],
   "source": [
    "#converting set into a list\n",
    "list(s2)"
   ]
  },
  {
   "cell_type": "code",
   "execution_count": 64,
   "id": "4e3725bd-ae3c-4578-a1a9-2e0eb07c711d",
   "metadata": {},
   "outputs": [
    {
     "data": {
      "text/plain": [
       "(1, 66, 3, 4, 5, 6, 7, 55)"
      ]
     },
     "execution_count": 64,
     "metadata": {},
     "output_type": "execute_result"
    }
   ],
   "source": [
    "#converting set into a tuples\n",
    "\n",
    "tuple(s2)"
   ]
  },
  {
   "cell_type": "code",
   "execution_count": 65,
   "id": "06355051-6300-4059-add7-1d0dbc208d81",
   "metadata": {},
   "outputs": [],
   "source": [
    "l9=[2,46,3,3,3,3,5,6,5,7,8,8]"
   ]
  },
  {
   "cell_type": "code",
   "execution_count": 66,
   "id": "6de8398b-c460-42ed-947a-0c4f63aa19e2",
   "metadata": {},
   "outputs": [],
   "source": [
    "s9=set(l9)"
   ]
  },
  {
   "cell_type": "code",
   "execution_count": 67,
   "id": "ccd5a0b0-9f79-4a91-9a79-1ecbc8075f58",
   "metadata": {},
   "outputs": [
    {
     "data": {
      "text/plain": [
       "{2, 3, 5, 6, 7, 8, 46}"
      ]
     },
     "execution_count": 67,
     "metadata": {},
     "output_type": "execute_result"
    }
   ],
   "source": [
    "s9"
   ]
  },
  {
   "cell_type": "code",
   "execution_count": 70,
   "id": "138643cd-09c1-43cb-b594-3583b870e733",
   "metadata": {},
   "outputs": [
    {
     "ename": "TypeError",
     "evalue": "unhashable type: 'list'",
     "output_type": "error",
     "traceback": [
      "\u001b[0;31m---------------------------------------------------------------------------\u001b[0m",
      "\u001b[0;31mTypeError\u001b[0m                                 Traceback (most recent call last)",
      "Cell \u001b[0;32mIn[70], line 2\u001b[0m\n\u001b[1;32m      1\u001b[0m \u001b[38;5;66;03m## you cam store a tuple inside a set but you cannot store a list inside a set because list is mutable whereas tuple is not mutable\u001b[39;00m\n\u001b[0;32m----> 2\u001b[0m s0\u001b[38;5;241m=\u001b[39m{\u001b[38;5;241m1\u001b[39m,\u001b[38;5;241m2\u001b[39m,\u001b[38;5;241m4\u001b[39m,\u001b[38;5;241m5\u001b[39m,\u001b[38;5;241m7\u001b[39m,[\u001b[38;5;241m2\u001b[39m,\u001b[38;5;241m3\u001b[39m,\u001b[38;5;241m4\u001b[39m]}\n",
      "\u001b[0;31mTypeError\u001b[0m: unhashable type: 'list'"
     ]
    }
   ],
   "source": [
    "## you cam store a tuple inside a set but you cannot store a list inside a set because list is mutable whereas tuple is not mutable\n",
    "s0={1,2,4,5,7,[2,3,4]}"
   ]
  },
  {
   "cell_type": "code",
   "execution_count": 73,
   "id": "341ae7ec-6894-4dc3-a95f-83afb73c52bb",
   "metadata": {},
   "outputs": [
    {
     "data": {
      "text/plain": [
       "{(2, 3, 4), 1, 2, 4, 5, 7}"
      ]
     },
     "execution_count": 73,
     "metadata": {},
     "output_type": "execute_result"
    }
   ],
   "source": [
    "s10={1,2,4,5,7,(2,3,4)}\n",
    "s10"
   ]
  },
  {
   "cell_type": "code",
   "execution_count": 74,
   "id": "7b9a2e5a-428d-4423-a040-19953d3e4a4a",
   "metadata": {},
   "outputs": [],
   "source": [
    "## you cannot extarct elements from the set"
   ]
  },
  {
   "cell_type": "code",
   "execution_count": 75,
   "id": "8f6478cf-f798-4a90-8c4f-b00b8bd19f1b",
   "metadata": {},
   "outputs": [
    {
     "name": "stdout",
     "output_type": "stream",
     "text": [
      "1\n",
      "66\n",
      "3\n",
      "4\n",
      "5\n",
      "6\n",
      "7\n",
      "55\n"
     ]
    }
   ],
   "source": [
    "for i in s2:\n",
    "    print(i)"
   ]
  },
  {
   "cell_type": "code",
   "execution_count": 76,
   "id": "9639aa50-d587-416d-be93-0347f5749015",
   "metadata": {},
   "outputs": [
    {
     "data": {
      "text/plain": [
       "{1, 2, 3, 4, 5, 33}"
      ]
     },
     "execution_count": 76,
     "metadata": {},
     "output_type": "execute_result"
    }
   ],
   "source": [
    "## adding elements in a set\n",
    "s11={1,1,2,4,5,33,3}\n",
    "s11"
   ]
  },
  {
   "cell_type": "code",
   "execution_count": 77,
   "id": "7ccc3937-5766-48ba-8279-24d4583fa11b",
   "metadata": {},
   "outputs": [],
   "source": [
    "s11.add(69)"
   ]
  },
  {
   "cell_type": "code",
   "execution_count": 78,
   "id": "11c36a94-afa2-4496-9735-e26e13d971cc",
   "metadata": {},
   "outputs": [
    {
     "data": {
      "text/plain": [
       "{1, 2, 3, 4, 5, 33, 69}"
      ]
     },
     "execution_count": 78,
     "metadata": {},
     "output_type": "execute_result"
    }
   ],
   "source": [
    "s11"
   ]
  },
  {
   "cell_type": "code",
   "execution_count": 79,
   "id": "7ce13de5-6dd1-454c-b696-b45065d12447",
   "metadata": {},
   "outputs": [
    {
     "data": {
      "text/plain": [
       "1"
      ]
     },
     "execution_count": 79,
     "metadata": {},
     "output_type": "execute_result"
    }
   ],
   "source": [
    "s11.pop()"
   ]
  },
  {
   "cell_type": "code",
   "execution_count": 80,
   "id": "e8660e76-a5af-4516-9b9d-ee8957de0cfc",
   "metadata": {},
   "outputs": [],
   "source": [
    "s11.clear() ##  it will going to delete all the elements in sets"
   ]
  },
  {
   "cell_type": "code",
   "execution_count": 81,
   "id": "ce73a542-7a4c-4233-8eda-1ea8411ec941",
   "metadata": {},
   "outputs": [
    {
     "data": {
      "text/plain": [
       "set()"
      ]
     },
     "execution_count": 81,
     "metadata": {},
     "output_type": "execute_result"
    }
   ],
   "source": [
    "s11"
   ]
  },
  {
   "cell_type": "code",
   "execution_count": 82,
   "id": "4557d9ae-8954-4bab-b145-8601171a1be5",
   "metadata": {},
   "outputs": [],
   "source": [
    "s12={1,2,3,4}\n",
    "s13={1,2,3,5}"
   ]
  },
  {
   "cell_type": "code",
   "execution_count": 84,
   "id": "060fa8d4-ea06-454f-884c-dd1426ccccc0",
   "metadata": {},
   "outputs": [
    {
     "data": {
      "text/plain": [
       "{4}"
      ]
     },
     "execution_count": 84,
     "metadata": {},
     "output_type": "execute_result"
    }
   ],
   "source": [
    "s12.difference(s13)"
   ]
  },
  {
   "cell_type": "markdown",
   "id": "4a9725f6-9e48-4986-90d4-1872d7a74de2",
   "metadata": {},
   "source": [
    "# dictionary"
   ]
  },
  {
   "cell_type": "code",
   "execution_count": 85,
   "id": "aaafcb71-f4c6-4db1-870a-c12d2791946f",
   "metadata": {},
   "outputs": [],
   "source": [
    "d= {}"
   ]
  },
  {
   "cell_type": "code",
   "execution_count": 86,
   "id": "59c4ca8a-1f4f-45b9-b6a1-6ef43bb263b8",
   "metadata": {},
   "outputs": [],
   "source": [
    "d1={\"name\":\"Akash\", \n",
    "     \"email\":\"akash@123\",\n",
    "       \"number\":1234}"
   ]
  },
  {
   "cell_type": "code",
   "execution_count": 87,
   "id": "f16b5663-223f-460e-954a-792897ee52b0",
   "metadata": {},
   "outputs": [
    {
     "data": {
      "text/plain": [
       "{'name': 'Akash', 'email': 'akash@123', 'number': 1234}"
      ]
     },
     "execution_count": 87,
     "metadata": {},
     "output_type": "execute_result"
    }
   ],
   "source": [
    "d1"
   ]
  },
  {
   "cell_type": "code",
   "execution_count": 2,
   "id": "d3c35eb3-75c3-4ff8-980e-7015e4c6ff89",
   "metadata": {},
   "outputs": [],
   "source": [
    "d2={\"name\":\"AKASH\",\"name\":\"akash\"}"
   ]
  },
  {
   "cell_type": "code",
   "execution_count": 3,
   "id": "9dba336a-c4ff-4241-b3ed-ba35ea537590",
   "metadata": {},
   "outputs": [
    {
     "data": {
      "text/plain": [
       "{'name': 'akash'}"
      ]
     },
     "execution_count": 3,
     "metadata": {},
     "output_type": "execute_result"
    }
   ],
   "source": [
    "d2  ##  it do not showing AKASH because name is a key which is being updated by akash"
   ]
  },
  {
   "cell_type": "code",
   "execution_count": 90,
   "id": "9634d2e3-7069-4de6-a7d6-3b30a2e98440",
   "metadata": {},
   "outputs": [
    {
     "data": {
      "text/plain": [
       "{1243: 'ad'}"
      ]
     },
     "execution_count": 90,
     "metadata": {},
     "output_type": "execute_result"
    }
   ],
   "source": [
    "d3={1243:\"ad\"}\n",
    "d3"
   ]
  },
  {
   "cell_type": "code",
   "execution_count": 91,
   "id": "faa6d957-78b5-422c-8529-1c5f97ea6660",
   "metadata": {},
   "outputs": [
    {
     "data": {
      "text/plain": [
       "{True: 'qas'}"
      ]
     },
     "execution_count": 91,
     "metadata": {},
     "output_type": "execute_result"
    }
   ],
   "source": [
    "d4={True:\"qas\"}\n",
    "d4"
   ]
  },
  {
   "cell_type": "code",
   "execution_count": 92,
   "id": "2d1963f8-a28f-431e-80e2-9fe0d44c4458",
   "metadata": {},
   "outputs": [
    {
     "ename": "TypeError",
     "evalue": "unhashable type: 'list'",
     "output_type": "error",
     "traceback": [
      "\u001b[0;31m---------------------------------------------------------------------------\u001b[0m",
      "\u001b[0;31mTypeError\u001b[0m                                 Traceback (most recent call last)",
      "Cell \u001b[0;32mIn[92], line 1\u001b[0m\n\u001b[0;32m----> 1\u001b[0m d5\u001b[38;5;241m=\u001b[39m{[\u001b[38;5;241m1\u001b[39m,\u001b[38;5;241m2\u001b[39m,\u001b[38;5;241m3\u001b[39m]:\u001b[38;5;124m\"\u001b[39m\u001b[38;5;124mabd\u001b[39m\u001b[38;5;124m\"\u001b[39m}\n",
      "\u001b[0;31mTypeError\u001b[0m: unhashable type: 'list'"
     ]
    }
   ],
   "source": [
    "d5={[1,2,3]:\"abd\"}"
   ]
  },
  {
   "cell_type": "code",
   "execution_count": 94,
   "id": "1677fcaf-2fa4-4706-bf4c-95ddb22a4719",
   "metadata": {},
   "outputs": [
    {
     "data": {
      "text/plain": [
       "{(1, 2, 3): 'qwe'}"
      ]
     },
     "execution_count": 94,
     "metadata": {},
     "output_type": "execute_result"
    }
   ],
   "source": [
    "d6={(1,2,3):\"qwe\"}\n",
    "d6"
   ]
  },
  {
   "cell_type": "code",
   "execution_count": 95,
   "id": "0394d742-0973-463c-938a-7dbcd2640eb1",
   "metadata": {},
   "outputs": [
    {
     "ename": "TypeError",
     "evalue": "unhashable type: 'set'",
     "output_type": "error",
     "traceback": [
      "\u001b[0;31m---------------------------------------------------------------------------\u001b[0m",
      "\u001b[0;31mTypeError\u001b[0m                                 Traceback (most recent call last)",
      "Cell \u001b[0;32mIn[95], line 1\u001b[0m\n\u001b[0;32m----> 1\u001b[0m d7\u001b[38;5;241m=\u001b[39m{{\u001b[38;5;241m1\u001b[39m,\u001b[38;5;241m2\u001b[39m,\u001b[38;5;241m3\u001b[39m}:\u001b[38;5;124m\"\u001b[39m\u001b[38;5;124mqwte\u001b[39m\u001b[38;5;124m\"\u001b[39m}\n\u001b[1;32m      2\u001b[0m d7\n",
      "\u001b[0;31mTypeError\u001b[0m: unhashable type: 'set'"
     ]
    }
   ],
   "source": [
    "d7={{1,2,3}:\"qwte\"}\n",
    "d7"
   ]
  },
  {
   "cell_type": "code",
   "execution_count": 96,
   "id": "d56b6f08-44c2-4c00-a0ad-af0291693290",
   "metadata": {},
   "outputs": [],
   "source": [
    "## list and set cannot be considered as key but you can take tuples as  a key because key is hashable type. it is of unique  type"
   ]
  },
  {
   "cell_type": "code",
   "execution_count": 97,
   "id": "934a056e-718e-4f3e-a177-b9ca83c0ba39",
   "metadata": {},
   "outputs": [
    {
     "ename": "TypeError",
     "evalue": "unhashable type: 'dict'",
     "output_type": "error",
     "traceback": [
      "\u001b[0;31m---------------------------------------------------------------------------\u001b[0m",
      "\u001b[0;31mTypeError\u001b[0m                                 Traceback (most recent call last)",
      "Cell \u001b[0;32mIn[97], line 1\u001b[0m\n\u001b[0;32m----> 1\u001b[0m d11\u001b[38;5;241m=\u001b[39m{{\u001b[38;5;124m\"\u001b[39m\u001b[38;5;124mkey\u001b[39m\u001b[38;5;124m\"\u001b[39m:\u001b[38;5;124m\"\u001b[39m\u001b[38;5;124mhello\u001b[39m\u001b[38;5;124m\"\u001b[39m}:\u001b[38;5;241m123\u001b[39m}\n",
      "\u001b[0;31mTypeError\u001b[0m: unhashable type: 'dict'"
     ]
    }
   ],
   "source": [
    "d11={{\"key\":\"hello\"}:123}  ## you cant even take disctionary as a key"
   ]
  },
  {
   "cell_type": "code",
   "execution_count": 98,
   "id": "e0a50420-e474-40e8-8f87-621b0a2411e1",
   "metadata": {},
   "outputs": [
    {
     "data": {
      "text/plain": [
       "{'course_name': ['data science', 'dsa', 'java']}"
      ]
     },
     "execution_count": 98,
     "metadata": {},
     "output_type": "execute_result"
    }
   ],
   "source": [
    "s12={\"course_name\":[\"data science\",\"dsa\",\"java\"]}\n",
    "s12"
   ]
  },
  {
   "cell_type": "code",
   "execution_count": 99,
   "id": "caec4fb2-1a30-4662-847b-0c7416ec86cc",
   "metadata": {},
   "outputs": [],
   "source": [
    "d13={\"key\":{1,2,34}}"
   ]
  },
  {
   "cell_type": "code",
   "execution_count": 101,
   "id": "7c6ecce9-486f-450a-8a4e-ffdb9c0fc0b8",
   "metadata": {},
   "outputs": [],
   "source": [
    "d14={\"key\":(1,2,34)}"
   ]
  },
  {
   "cell_type": "code",
   "execution_count": 102,
   "id": "e24f4483-cd1e-4c74-bcdd-7a8ef4ada5ed",
   "metadata": {},
   "outputs": [],
   "source": [
    "d15={\"key\":[1,2,34]}"
   ]
  },
  {
   "cell_type": "code",
   "execution_count": 104,
   "id": "0a88a540-5b43-46e5-b487-55d3a752503a",
   "metadata": {},
   "outputs": [
    {
     "data": {
      "text/plain": [
       "{'key': {'key_1': 'akash', 'age': '22'}}"
      ]
     },
     "execution_count": 104,
     "metadata": {},
     "output_type": "execute_result"
    }
   ],
   "source": [
    "d16={\"key\":{\"key_1\":\"akash\",\"age\":\"22\"}}\n",
    "d16"
   ]
  },
  {
   "cell_type": "code",
   "execution_count": 4,
   "id": "cc1317c3-bc06-4c0f-8ebc-b498030ef793",
   "metadata": {},
   "outputs": [
    {
     "data": {
      "text/plain": [
       "{'course_name': ['data science', 'dsa', 'java'],\n",
       " 'date': (12, 13, 14),\n",
       " 'mentor_name': {'krish_sir', 'skd_sir', 'sudh_sir'}}"
      ]
     },
     "execution_count": 4,
     "metadata": {},
     "output_type": "execute_result"
    }
   ],
   "source": [
    "d17={\"course_name\":[\"data science\",\"dsa\",\"java\"],\"date\":(12,13,14),\"mentor_name\":{\"krish_sir\",\"sudh_sir\",\"skd_sir\"}}\n",
    "d17"
   ]
  },
  {
   "cell_type": "code",
   "execution_count": 106,
   "id": "5a4fda42-8e06-4afd-b870-4f8fd4f839f8",
   "metadata": {},
   "outputs": [],
   "source": [
    "## adding a key and a vlaue pair"
   ]
  },
  {
   "cell_type": "code",
   "execution_count": 109,
   "id": "b5e28b21-f9d6-48ac-9e6c-a41e9173d76e",
   "metadata": {},
   "outputs": [
    {
     "data": {
      "text/plain": [
       "{'course_name': ['data science', 'dsa', 'java'],\n",
       " 'date': (12, 13, 14),\n",
       " 'mentor_name': {'krish_sir', 'skd_sir', 'sudh_sir'},\n",
       " 'timing': (5, 4, 2)}"
      ]
     },
     "execution_count": 109,
     "metadata": {},
     "output_type": "execute_result"
    }
   ],
   "source": [
    "d17[\"timing\"]=(5,4,2)\n",
    "d17"
   ]
  },
  {
   "cell_type": "code",
   "execution_count": 110,
   "id": "10e8017d-030d-43ca-a345-1e3fd07fcf0c",
   "metadata": {},
   "outputs": [
    {
     "data": {
      "text/plain": [
       "(12, 13, 14)"
      ]
     },
     "execution_count": 110,
     "metadata": {},
     "output_type": "execute_result"
    }
   ],
   "source": [
    "d17[\"date\"]"
   ]
  },
  {
   "cell_type": "code",
   "execution_count": 111,
   "id": "9d8be4f0-9627-4e13-8121-31f52d936bd7",
   "metadata": {},
   "outputs": [
    {
     "data": {
      "text/plain": [
       "tuple"
      ]
     },
     "execution_count": 111,
     "metadata": {},
     "output_type": "execute_result"
    }
   ],
   "source": [
    "type(d17[\"date\"])"
   ]
  },
  {
   "cell_type": "code",
   "execution_count": 114,
   "id": "6eacbf18-c6d2-407c-9754-53d49926e7cf",
   "metadata": {},
   "outputs": [],
   "source": [
    "d17[\"name\"]=\"amit\""
   ]
  },
  {
   "cell_type": "code",
   "execution_count": 115,
   "id": "7c85da4b-db83-4794-98d3-043177edcfdc",
   "metadata": {},
   "outputs": [
    {
     "data": {
      "text/plain": [
       "{'course_name': ['data science', 'dsa', 'java'],\n",
       " 'date': (12, 13, 14),\n",
       " 'mentor_name': {'krish_sir', 'skd_sir', 'sudh_sir'},\n",
       " 'timing': (5, 4, 2),\n",
       " 'name': 'amit'}"
      ]
     },
     "execution_count": 115,
     "metadata": {},
     "output_type": "execute_result"
    }
   ],
   "source": [
    "d17"
   ]
  },
  {
   "cell_type": "code",
   "execution_count": 117,
   "id": "c30b0022-e3b3-4e79-9870-6f280ce303b3",
   "metadata": {},
   "outputs": [
    {
     "data": {
      "text/plain": [
       "'AMIT'"
      ]
     },
     "execution_count": 117,
     "metadata": {},
     "output_type": "execute_result"
    }
   ],
   "source": [
    "d17['name'].upper()"
   ]
  },
  {
   "cell_type": "code",
   "execution_count": 118,
   "id": "8aafb6a6-e70a-4897-86b5-34e61035c1e9",
   "metadata": {},
   "outputs": [
    {
     "data": {
      "text/plain": [
       "{'key': {'key_1': 'akash', 'age': '22'}}"
      ]
     },
     "execution_count": 118,
     "metadata": {},
     "output_type": "execute_result"
    }
   ],
   "source": [
    "d15"
   ]
  },
  {
   "cell_type": "code",
   "execution_count": 120,
   "id": "a0360fd6-0538-4b33-bd2c-5cec30b6d893",
   "metadata": {},
   "outputs": [
    {
     "data": {
      "text/plain": [
       "'22'"
      ]
     },
     "execution_count": 120,
     "metadata": {},
     "output_type": "execute_result"
    }
   ],
   "source": [
    "## fetching dictionary inside dicctionary \n",
    "d15['key']['age']"
   ]
  },
  {
   "cell_type": "code",
   "execution_count": 121,
   "id": "1b981537-4334-4a45-b03e-009519ae9560",
   "metadata": {},
   "outputs": [
    {
     "data": {
      "text/plain": [
       "5"
      ]
     },
     "execution_count": 122,
     "metadata": {},
     "output_type": "execute_result"
    }
   ],
   "source": [
    "len(d17)"
   ]
  },
  {
   "cell_type": "code",
   "execution_count": 123,
   "id": "d35c15f8-7c11-4dfb-807a-38715c2f8f20",
   "metadata": {},
   "outputs": [
    {
     "data": {
      "text/plain": [
       "dict_keys(['course_name', 'date', 'mentor_name', 'timing', 'name'])"
      ]
     },
     "execution_count": 123,
     "metadata": {},
     "output_type": "execute_result"
    }
   ],
   "source": [
    "d17.keys()"
   ]
  },
  {
   "cell_type": "code",
   "execution_count": 124,
   "id": "6130be3a-c202-4c9b-9fbe-67bcde9999fd",
   "metadata": {},
   "outputs": [
    {
     "data": {
      "text/plain": [
       "dict_values([['data science', 'dsa', 'java'], (12, 13, 14), {'sudh_sir', 'skd_sir', 'krish_sir'}, (5, 4, 2), 'amit'])"
      ]
     },
     "execution_count": 124,
     "metadata": {},
     "output_type": "execute_result"
    }
   ],
   "source": [
    "d17.values()"
   ]
  },
  {
   "cell_type": "code",
   "execution_count": 126,
   "id": "dae100fd-d76c-47a3-8853-56ca77264c52",
   "metadata": {},
   "outputs": [
    {
     "data": {
      "text/plain": [
       "[['data science', 'dsa', 'java'],\n",
       " (12, 13, 14),\n",
       " {'krish_sir', 'skd_sir', 'sudh_sir'},\n",
       " (5, 4, 2),\n",
       " 'amit']"
      ]
     },
     "execution_count": 126,
     "metadata": {},
     "output_type": "execute_result"
    }
   ],
   "source": [
    "list(d17.values())"
   ]
  },
  {
   "cell_type": "code",
   "execution_count": 6,
   "id": "9301314e-0fb9-4492-bf68-0e8b60206f3a",
   "metadata": {},
   "outputs": [],
   "source": [
    "d17[\"course_name\"]=\"C++\""
   ]
  },
  {
   "cell_type": "code",
   "execution_count": 5,
   "id": "91692cfe-efe5-431a-9bf1-5cafc5292822",
   "metadata": {},
   "outputs": [
    {
     "data": {
      "text/plain": [
       "{'course_name': ['data science', 'dsa', 'java'],\n",
       " 'date': (12, 13, 14),\n",
       " 'mentor_name': {'krish_sir', 'skd_sir', 'sudh_sir'}}"
      ]
     },
     "execution_count": 5,
     "metadata": {},
     "output_type": "execute_result"
    }
   ],
   "source": [
    "d17"
   ]
  },
  {
   "cell_type": "code",
   "execution_count": 6,
   "id": "d9740dae-b83e-47a9-8b5f-4bd965e3433b",
   "metadata": {},
   "outputs": [],
   "source": [
    "d18=d17.copy()"
   ]
  },
  {
   "cell_type": "code",
   "execution_count": 7,
   "id": "8aadc8e9-a4dc-46b6-b61f-82eadd5e3715",
   "metadata": {},
   "outputs": [
    {
     "data": {
      "text/plain": [
       "{'course_name': ['data science', 'dsa', 'java'],\n",
       " 'date': (12, 13, 14),\n",
       " 'mentor_name': {'krish_sir', 'skd_sir', 'sudh_sir'}}"
      ]
     },
     "execution_count": 7,
     "metadata": {},
     "output_type": "execute_result"
    }
   ],
   "source": [
    "d18 ## when you going to copy the dictionary then a new memory will be created so when you going to change in d18 then there will be no change in d17 but but but if you write d17 = d18 then change in d18 will definiitely going to effect d17 also as both are pointing to the same dictionary\n"
   ]
  },
  {
   "cell_type": "code",
   "execution_count": 8,
   "id": "8138ae9f-6980-4625-9ec6-9bd8b83ba459",
   "metadata": {},
   "outputs": [
    {
     "data": {
      "text/plain": [
       "{'course_name': ['data science', 'dsa', 'java'],\n",
       " 'date': (12, 13, 14),\n",
       " 'mentor_name': {'krish_sir', 'skd_sir', 'sudh_sir'}}"
      ]
     },
     "execution_count": 8,
     "metadata": {},
     "output_type": "execute_result"
    }
   ],
   "source": [
    "d17.pop(\"key name\")  ## this is going to delete the key name from the dictionary"
   ]
  },
  {
   "cell_type": "code",
   "execution_count": 11,
   "id": "746cd15a-8930-41ef-b3ce-f9768161c957",
   "metadata": {},
   "outputs": [
    {
     "data": {
      "text/plain": [
       "{1: ('a', 'b', 'c'), 2: ('a', 'b', 'c'), 3: ('a', 'b', 'c')}"
      ]
     },
     "execution_count": 11,
     "metadata": {},
     "output_type": "execute_result"
    }
   ],
   "source": [
    "d17.fromkeys((1,2,3),(\"a\",\"b\",\"c\"))"
   ]
  },
  {
   "cell_type": "code",
   "execution_count": 14,
   "id": "ef2bb4dc-7660-410b-9f0e-b246861b270b",
   "metadata": {},
   "outputs": [
    {
     "data": {
      "text/plain": [
       "{1: [('a', 'b', 'c'), ('d', 'e', 'f'), ('g', 'h', 'i')],\n",
       " 2: [('a', 'b', 'c'), ('d', 'e', 'f'), ('g', 'h', 'i')],\n",
       " 3: [('a', 'b', 'c'), ('d', 'e', 'f'), ('g', 'h', 'i')]}"
      ]
     },
     "execution_count": 14,
     "metadata": {},
     "output_type": "execute_result"
    }
   ],
   "source": [
    "d17.fromkeys((1,2,3),[(\"a\",\"b\",\"c\"),(\"d\",\"e\",\"f\"),(\"g\",\"h\",\"i\")])"
   ]
  },
  {
   "cell_type": "code",
   "execution_count": 16,
   "id": "b8632140-6939-4a7e-991c-a7d2402e6928",
   "metadata": {},
   "outputs": [],
   "source": [
    "d19={\"key1\":\"value1\",\"key2\":\"value2\"}\n",
    "d20={\"key3\":\"value3\",\"key4\":\"value4\"}"
   ]
  },
  {
   "cell_type": "code",
   "execution_count": 17,
   "id": "139696b7-cd44-42d1-9166-3571bbaa388f",
   "metadata": {},
   "outputs": [
    {
     "data": {
      "text/plain": [
       "({'key1': 'value1', 'key2': 'value2'}, {'key3': 'value3', 'key4': 'value4'})"
      ]
     },
     "execution_count": 17,
     "metadata": {},
     "output_type": "execute_result"
    }
   ],
   "source": [
    "(d19,d20)"
   ]
  },
  {
   "cell_type": "code",
   "execution_count": 18,
   "id": "64908b43-499d-4a9c-81fa-590dd7e18c27",
   "metadata": {},
   "outputs": [],
   "source": [
    "d19.update (d20) ## the value of d19 will be same as it is but aditionally it will going to add all the values of d20 "
   ]
  },
  {
   "cell_type": "code",
   "execution_count": 19,
   "id": "bf1d5a9a-d460-4e45-a750-a6d0b117cb9a",
   "metadata": {},
   "outputs": [
    {
     "data": {
      "text/plain": [
       "{'key1': 'value1', 'key2': 'value2', 'key3': 'value3', 'key4': 'value4'}"
      ]
     },
     "execution_count": 19,
     "metadata": {},
     "output_type": "execute_result"
    }
   ],
   "source": [
    "d19"
   ]
  },
  {
   "cell_type": "code",
   "execution_count": 22,
   "id": "d0db69b0-3cef-4382-87cb-eccf3404df3e",
   "metadata": {},
   "outputs": [],
   "source": [
    "d20.get('key2')\n"
   ]
  },
  {
   "cell_type": "markdown",
   "id": "2424242a-d270-46ea-82ac-a468a96521d4",
   "metadata": {},
   "source": [
    "### Dictionary comprehenision\n"
   ]
  },
  {
   "cell_type": "code",
   "execution_count": 25,
   "id": "44466811-562c-41bc-9225-aef4bb7b28ef",
   "metadata": {},
   "outputs": [
    {
     "data": {
      "text/plain": [
       "set"
      ]
     },
     "execution_count": 25,
     "metadata": {},
     "output_type": "execute_result"
    }
   ],
   "source": [
    "type({i**2 for i in range(10)})"
   ]
  },
  {
   "cell_type": "code",
   "execution_count": 26,
   "id": "1774c0bf-edeb-4c7d-aa92-e01a40a78058",
   "metadata": {},
   "outputs": [
    {
     "data": {
      "text/plain": [
       "{0, 1, 4, 9, 16, 25, 36, 49, 64, 81}"
      ]
     },
     "execution_count": 26,
     "metadata": {},
     "output_type": "execute_result"
    }
   ],
   "source": [
    "{i**2 for i in range(10)}"
   ]
  },
  {
   "cell_type": "code",
   "execution_count": 27,
   "id": "03b55bd7-878f-4b78-bdcf-42f202c5e886",
   "metadata": {},
   "outputs": [],
   "source": [
    "import math"
   ]
  },
  {
   "cell_type": "code",
   "execution_count": 34,
   "id": "b1187358-0939-4466-b4b5-8dab8261f6fc",
   "metadata": {},
   "outputs": [
    {
     "data": {
      "text/plain": [
       "{1: 0.0,\n",
       " 2: 0.3010299956639812,\n",
       " 3: 0.47712125471966244,\n",
       " 4: 0.6020599913279624,\n",
       " 5: 0.6989700043360189,\n",
       " 6: 0.7781512503836436,\n",
       " 7: 0.8450980400142568,\n",
       " 8: 0.9030899869919435,\n",
       " 9: 0.9542425094393249,\n",
       " 10: 1.0,\n",
       " 11: 1.041392685158225,\n",
       " 12: 1.0791812460476249,\n",
       " 13: 1.1139433523068367,\n",
       " 14: 1.146128035678238,\n",
       " 15: 1.1760912590556813,\n",
       " 16: 1.2041199826559248,\n",
       " 17: 1.2304489213782739,\n",
       " 18: 1.255272505103306,\n",
       " 19: 1.2787536009528289}"
      ]
     },
     "execution_count": 34,
     "metadata": {},
     "output_type": "execute_result"
    }
   ],
   "source": [
    "{i: math.log10(i) for i in range (1,20)}"
   ]
  },
  {
   "cell_type": "code",
   "execution_count": 36,
   "id": "a2d32b52-fa90-46c2-bb0f-15e5dc894b40",
   "metadata": {},
   "outputs": [],
   "source": [
    "d20={i: math.log10(i) if i%2==0 else \"\" for i in range (1,20)}"
   ]
  },
  {
   "cell_type": "code",
   "execution_count": 37,
   "id": "787ab24d-380e-4cb9-bfa4-82f26e58ef2d",
   "metadata": {},
   "outputs": [
    {
     "data": {
      "text/plain": [
       "{1: '',\n",
       " 2: 0.3010299956639812,\n",
       " 3: '',\n",
       " 4: 0.6020599913279624,\n",
       " 5: '',\n",
       " 6: 0.7781512503836436,\n",
       " 7: '',\n",
       " 8: 0.9030899869919435,\n",
       " 9: '',\n",
       " 10: 1.0,\n",
       " 11: '',\n",
       " 12: 1.0791812460476249,\n",
       " 13: '',\n",
       " 14: 1.146128035678238,\n",
       " 15: '',\n",
       " 16: 1.2041199826559248,\n",
       " 17: '',\n",
       " 18: 1.255272505103306,\n",
       " 19: ''}"
      ]
     },
     "execution_count": 37,
     "metadata": {},
     "output_type": "execute_result"
    }
   ],
   "source": [
    "d20"
   ]
  },
  {
   "cell_type": "code",
   "execution_count": 42,
   "id": "24b8605c-c466-41d5-8d05-c15d20cb063c",
   "metadata": {},
   "outputs": [
    {
     "name": "stdout",
     "output_type": "stream",
     "text": [
      "2 0.3010299956639812\n",
      "4 0.6020599913279624\n",
      "6 0.7781512503836436\n",
      "8 0.9030899869919435\n",
      "10 1.0\n",
      "12 1.0791812460476249\n",
      "14 1.146128035678238\n",
      "16 1.2041199826559248\n",
      "18 1.255272505103306\n"
     ]
    }
   ],
   "source": [
    "for i in d20.keys():\n",
    "    if i%2==0:\n",
    "        print(i,d20[i])"
   ]
  },
  {
   "cell_type": "code",
   "execution_count": 43,
   "id": "831ca535-cf48-47c2-a89f-1d8ef40225f1",
   "metadata": {},
   "outputs": [],
   "source": [
    "atuple = (100, 200, 300, 400, 500)"
   ]
  },
  {
   "cell_type": "code",
   "execution_count": 45,
   "id": "06d2769e-95a3-4d7e-a1dd-4709bd8c95b3",
   "metadata": {},
   "outputs": [
    {
     "name": "stdout",
     "output_type": "stream",
     "text": [
      "(200, 300, 400)\n"
     ]
    }
   ],
   "source": [
    "print(atuple[-4:-1])"
   ]
  },
  {
   "cell_type": "code",
   "execution_count": 49,
   "id": "adb90e4a-995e-490b-8f20-12484260b741",
   "metadata": {},
   "outputs": [
    {
     "name": "stdout",
     "output_type": "stream",
     "text": [
      "<class 'str'>\n"
     ]
    }
   ],
   "source": [
    "atuple = (\"Orange\")\n",
    "\n",
    "print(type(atuple))"
   ]
  },
  {
   "cell_type": "code",
   "execution_count": 53,
   "id": "837be69e-7094-4cb4-8a22-176af15e2f09",
   "metadata": {},
   "outputs": [],
   "source": [
    "tuple=(\"akash\",\"divyam\")"
   ]
  },
  {
   "cell_type": "code",
   "execution_count": 54,
   "id": "871908ab-aedc-4ac5-9233-29fce53e06ff",
   "metadata": {},
   "outputs": [
    {
     "name": "stdout",
     "output_type": "stream",
     "text": [
      "<class 'tuple'>\n"
     ]
    }
   ],
   "source": [
    "print(type(tuple))"
   ]
  },
  {
   "cell_type": "code",
   "execution_count": 58,
   "id": "2f0f2576-baea-4bcd-8ec8-c98ad3b46278",
   "metadata": {},
   "outputs": [
    {
     "ename": "IndentationError",
     "evalue": "unexpected indent (3156627916.py, line 3)",
     "output_type": "error",
     "traceback": [
      "\u001b[0;36m  Cell \u001b[0;32mIn[58], line 3\u001b[0;36m\u001b[0m\n\u001b[0;31m    dict1.get(\"age\")\u001b[0m\n\u001b[0m    ^\u001b[0m\n\u001b[0;31mIndentationError\u001b[0m\u001b[0;31m:\u001b[0m unexpected indent\n"
     ]
    }
   ],
   "source": [
    "dict1 = {\"name\": \"Mike\", \"salary\": 8000}\n",
    "\n",
    " dict1.get(\"age\")"
   ]
  },
  {
   "cell_type": "code",
   "execution_count": 1,
   "id": "e7c33509-ee8b-4025-a94a-76481debc334",
   "metadata": {},
   "outputs": [],
   "source": [
    "List = [1, 1, 1, 2, 1, 3, 1, 4, 2, 1, 2, 2, 2, 3, 2, 4, 3, 1, 3, 2, 3, 3, 3, 4, 4, 1, 4, 2, 4, 3, 4, 4]"
   ]
  },
  {
   "cell_type": "code",
   "execution_count": 2,
   "id": "f41ff763-00c6-41f2-8671-1644544bd497",
   "metadata": {},
   "outputs": [
    {
     "data": {
      "text/plain": [
       "{1, 2, 3, 4}"
      ]
     },
     "execution_count": 2,
     "metadata": {},
     "output_type": "execute_result"
    }
   ],
   "source": [
    "set(List)"
   ]
  },
  {
   "cell_type": "code",
   "execution_count": null,
   "id": "176390cb-c85a-4b40-a4f1-bc9bf5621a84",
   "metadata": {},
   "outputs": [],
   "source": []
  }
 ],
 "metadata": {
  "kernelspec": {
   "display_name": "Python 3 (ipykernel)",
   "language": "python",
   "name": "python3"
  },
  "language_info": {
   "codemirror_mode": {
    "name": "ipython",
    "version": 3
   },
   "file_extension": ".py",
   "mimetype": "text/x-python",
   "name": "python",
   "nbconvert_exporter": "python",
   "pygments_lexer": "ipython3",
   "version": "3.10.8"
  }
 },
 "nbformat": 4,
 "nbformat_minor": 5
}
