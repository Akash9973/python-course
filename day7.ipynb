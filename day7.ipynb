{
 "cells": [
  {
   "cell_type": "markdown",
   "id": "b6d7bc39-aa67-429c-8fd0-09c1b24f438e",
   "metadata": {},
   "source": [
    "## OOPs concept in python\n",
    "\n",
    "#### OOPs stans for object oriented programming\n",
    "\n",
    "##### oops is a method of creating an objects in our program which is used for making our code simpler and less comlex. for example if we are writing a code for frontend code then we will create a class of front end and do all the frontend coding there. Simlarly for backend we can create a class and do the backend programming there."
   ]
  },
  {
   "cell_type": "code",
   "execution_count": null,
   "id": "bb48de46-e7b2-4b34-a6aa-3bcaf328f946",
   "metadata": {},
   "outputs": [],
   "source": [
    "a=1"
   ]
  },
  {
   "cell_type": "code",
   "execution_count": 3,
   "id": "4259dfaa-7ef5-451f-a334-d36b12f63dd3",
   "metadata": {},
   "outputs": [
    {
     "name": "stdout",
     "output_type": "stream",
     "text": [
      "<class 'str'>\n"
     ]
    }
   ],
   "source": [
    "print(type(\"Hello\"))"
   ]
  },
  {
   "cell_type": "code",
   "execution_count": 3,
   "id": "b9d5730a-1a0d-4943-9135-1be13ae2b779",
   "metadata": {},
   "outputs": [
    {
     "name": "stdout",
     "output_type": "stream",
     "text": [
      "<class 'str'>\n"
     ]
    }
   ],
   "source": [
    "print(type(\"Hello\"))"
   ]
  },
  {
   "cell_type": "code",
   "execution_count": 4,
   "id": "1675ab83-226f-46bf-a3af-65152d8bde69",
   "metadata": {},
   "outputs": [],
   "source": [
    "## now the question comes what is class??\n",
    "\n",
    "##A Class is like an object constructor, or a \"blueprint\" for creating objects.\n",
    "\n",
    "## for example a human being is a class as it not specify a particular human, if you ask to sit on a car, a car \n",
    "## is a class because it do not specify the car . Laptop is a class but asus vivobook 14 is not a class"
   ]
  },
  {
   "cell_type": "code",
   "execution_count": 5,
   "id": "6eab95b5-bac1-4908-8930-a94ac457c272",
   "metadata": {},
   "outputs": [],
   "source": [
    "class test:   ##  if you dont write pass the class will unable to return anything\n",
    "    pass"
   ]
  },
  {
   "cell_type": "code",
   "execution_count": 6,
   "id": "7a088d90-50ec-4f3c-aab4-4d3e6709739f",
   "metadata": {},
   "outputs": [],
   "source": [
    "a= test()\n"
   ]
  },
  {
   "cell_type": "code",
   "execution_count": 7,
   "id": "7625558c-f8be-4ac5-a297-ed96c3b317ee",
   "metadata": {},
   "outputs": [
    {
     "name": "stdout",
     "output_type": "stream",
     "text": [
      "<class '__main__.test'>\n"
     ]
    }
   ],
   "source": [
    "print(type(a))"
   ]
  },
  {
   "cell_type": "code",
   "execution_count": 8,
   "id": "4ae1b5ff-d30a-4ffa-9e96-02517eebd87b",
   "metadata": {},
   "outputs": [],
   "source": [
    "class pwskills():\n",
    "    def msg(self):        ## self is used for pointing to the variable. It is a pointer\n",
    "        print(\"Welcome to this world called class\")"
   ]
  },
  {
   "cell_type": "code",
   "execution_count": 9,
   "id": "8b12c4d9-faba-4771-a85b-a04d72818363",
   "metadata": {},
   "outputs": [],
   "source": [
    "amit=pwskills()\n"
   ]
  },
  {
   "cell_type": "code",
   "execution_count": 10,
   "id": "6fce27b5-4285-4bcb-a0cb-ba4af6769a00",
   "metadata": {},
   "outputs": [
    {
     "name": "stdout",
     "output_type": "stream",
     "text": [
      "Welcome to this world called class\n"
     ]
    }
   ],
   "source": [
    "amit.msg()"
   ]
  },
  {
   "cell_type": "code",
   "execution_count": 11,
   "id": "26e697ae-0ec8-47e6-9739-09e40e294c37",
   "metadata": {},
   "outputs": [],
   "source": [
    "darshana=pwskills()"
   ]
  },
  {
   "cell_type": "code",
   "execution_count": 12,
   "id": "2c0eaedd-06c7-48aa-9214-6726dc293905",
   "metadata": {},
   "outputs": [
    {
     "name": "stdout",
     "output_type": "stream",
     "text": [
      "Welcome to this world called class\n"
     ]
    }
   ],
   "source": [
    "darshana.msg()"
   ]
  },
  {
   "cell_type": "code",
   "execution_count": 13,
   "id": "160d7656-c3b5-4634-bd56-84f0f3cf960f",
   "metadata": {},
   "outputs": [],
   "source": [
    "## _init_ is a constructor which is used for creating a data while creating an object\n",
    "## self is used for pointing a class so self act as a pointer\n",
    "\n",
    "## constructor is used for iniializing data variable of a class"
   ]
  },
  {
   "cell_type": "code",
   "execution_count": 14,
   "id": "fa01fee6-946e-47d9-9ee0-dd4769ac2960",
   "metadata": {},
   "outputs": [],
   "source": [
    "class pwskills1:\n",
    "    \n",
    "    def __init__(self ,phone_number , email_id, student_id ):\n",
    "        \n",
    "        self.phone_number = phone_number\n",
    "        self.email_id = email_id\n",
    "        self.student_id = student_id\n",
    "        \n",
    "    \n",
    "    def return_student_detials(self):\n",
    "        return self.phone_number, self.email_id , self.student_id"
   ]
  },
  {
   "cell_type": "code",
   "execution_count": 15,
   "id": "8e86b481-6afa-4421-9bff-870ca803562d",
   "metadata": {},
   "outputs": [],
   "source": [
    "akash = pwskills1(123,\"djfhdj\",344)"
   ]
  },
  {
   "cell_type": "code",
   "execution_count": 16,
   "id": "f24cd73d-3991-4fbc-b260-bef357ca1330",
   "metadata": {},
   "outputs": [
    {
     "data": {
      "text/plain": [
       "123"
      ]
     },
     "execution_count": 16,
     "metadata": {},
     "output_type": "execute_result"
    }
   ],
   "source": [
    "akash.phone_number"
   ]
  },
  {
   "cell_type": "code",
   "execution_count": 17,
   "id": "668f9423-9bb1-40cf-be32-f52afa1a7d44",
   "metadata": {},
   "outputs": [
    {
     "data": {
      "text/plain": [
       "'djfhdj'"
      ]
     },
     "execution_count": 17,
     "metadata": {},
     "output_type": "execute_result"
    }
   ],
   "source": [
    "akash.email_id"
   ]
  },
  {
   "cell_type": "code",
   "execution_count": 18,
   "id": "e97fad1c-cd0a-4dd0-b6a5-ef160d184edc",
   "metadata": {},
   "outputs": [
    {
     "data": {
      "text/plain": [
       "__main__.pwskills1"
      ]
     },
     "execution_count": 18,
     "metadata": {},
     "output_type": "execute_result"
    }
   ],
   "source": [
    "type(akash) "
   ]
  },
  {
   "cell_type": "code",
   "execution_count": 19,
   "id": "3ef447ea-4ecc-406d-ac2d-b8916b658fd0",
   "metadata": {},
   "outputs": [
    {
     "data": {
      "text/plain": [
       "(123, 'djfhdj', 344)"
      ]
     },
     "execution_count": 19,
     "metadata": {},
     "output_type": "execute_result"
    }
   ],
   "source": [
    "akash.return_student_detials()"
   ]
  },
  {
   "cell_type": "code",
   "execution_count": 22,
   "id": "91481a37-ac03-4504-9dca-55cf4771702e",
   "metadata": {},
   "outputs": [
    {
     "ename": "TypeError",
     "evalue": "pwskills1.__init__() missing 3 required positional arguments: 'phone_number', 'email_id', and 'student_id'",
     "output_type": "error",
     "traceback": [
      "\u001b[0;31m---------------------------------------------------------------------------\u001b[0m",
      "\u001b[0;31mTypeError\u001b[0m                                 Traceback (most recent call last)",
      "Cell \u001b[0;32mIn[22], line 1\u001b[0m\n\u001b[0;32m----> 1\u001b[0m divyam\u001b[38;5;241m=\u001b[39m\u001b[43mpwskills1\u001b[49m\u001b[43m(\u001b[49m\u001b[43m)\u001b[49m\n",
      "\u001b[0;31mTypeError\u001b[0m: pwskills1.__init__() missing 3 required positional arguments: 'phone_number', 'email_id', and 'student_id'"
     ]
    }
   ],
   "source": [
    "divyam=pwskills1()"
   ]
  },
  {
   "cell_type": "code",
   "execution_count": 23,
   "id": "7b69a154-6aa5-48c5-b9a2-a51bb897ab8e",
   "metadata": {},
   "outputs": [
    {
     "ename": "NameError",
     "evalue": "name 'divyam' is not defined",
     "output_type": "error",
     "traceback": [
      "\u001b[0;31m---------------------------------------------------------------------------\u001b[0m",
      "\u001b[0;31mNameError\u001b[0m                                 Traceback (most recent call last)",
      "Cell \u001b[0;32mIn[23], line 1\u001b[0m\n\u001b[0;32m----> 1\u001b[0m \u001b[43mdivyam\u001b[49m\u001b[38;5;241m.\u001b[39m_init_(\u001b[38;5;241m8945495\u001b[39m,\u001b[38;5;124m\"\u001b[39m\u001b[38;5;124md@123\u001b[39m\u001b[38;5;124m\"\u001b[39m,\u001b[38;5;241m393\u001b[39m)\n",
      "\u001b[0;31mNameError\u001b[0m: name 'divyam' is not defined"
     ]
    }
   ],
   "source": [
    "divyam._init_(8945495,\"d@123\",393)"
   ]
  },
  {
   "cell_type": "code",
   "execution_count": null,
   "id": "2a369e0b-3e8e-4ab6-bfa3-a61b1ff7ceaf",
   "metadata": {},
   "outputs": [],
   "source": [
    "divyam.phone_number"
   ]
  },
  {
   "cell_type": "code",
   "execution_count": 24,
   "id": "33ae5165-010a-42d0-8ecc-9bd96f00b1b1",
   "metadata": {},
   "outputs": [],
   "source": [
    "class pwskills2:\n",
    "    \n",
    "    def __init__(pw ,phone_number , email_id, student_id ):\n",
    "        \n",
    "        pw.phone_number = phone_number\n",
    "        pw.email_id = email_id\n",
    "        pw.student_id = student_id\n",
    "        \n",
    "    \n",
    "    def return_student_detials(self):\n",
    "        return self.phone_number, self.email_id , self.student_id"
   ]
  },
  {
   "cell_type": "code",
   "execution_count": 25,
   "id": "c46d4204-e88d-447a-b41a-5bed54bc7110",
   "metadata": {},
   "outputs": [],
   "source": [
    "ujjwal=pwskills2(9973,\"ujju@gmail.com\",111)  ## so you can use any value pw etc etc etc"
   ]
  },
  {
   "cell_type": "code",
   "execution_count": 26,
   "id": "d359d674-6530-426e-ac94-90d8a9a48b90",
   "metadata": {},
   "outputs": [
    {
     "data": {
      "text/plain": [
       "'ujju@gmail.com'"
      ]
     },
     "execution_count": 26,
     "metadata": {},
     "output_type": "execute_result"
    }
   ],
   "source": [
    "ujjwal.email_id"
   ]
  },
  {
   "cell_type": "code",
   "execution_count": 27,
   "id": "284e6343-4a8b-4ad7-92a3-e199681a78d5",
   "metadata": {},
   "outputs": [
    {
     "data": {
      "text/plain": [
       "9973"
      ]
     },
     "execution_count": 27,
     "metadata": {},
     "output_type": "execute_result"
    }
   ],
   "source": [
    "ujjwal.phone_number"
   ]
  },
  {
   "cell_type": "code",
   "execution_count": 28,
   "id": "acd35690-a5c3-4431-8e09-2a10022c91d0",
   "metadata": {},
   "outputs": [
    {
     "data": {
      "text/plain": [
       "(9973, 'ujju@gmail.com', 111)"
      ]
     },
     "execution_count": 28,
     "metadata": {},
     "output_type": "execute_result"
    }
   ],
   "source": [
    "ujjwal.return_student_detials()"
   ]
  },
  {
   "cell_type": "markdown",
   "id": "8a999259-278b-4c26-b190-6f390ed2d61b",
   "metadata": {},
   "source": [
    "## Polymorphism\n",
    "\n",
    "### Polymorphism means performing differently under different situation"
   ]
  },
  {
   "cell_type": "code",
   "execution_count": 29,
   "id": "cf0c2372-e4c8-461b-8b7a-58d70a8148d9",
   "metadata": {},
   "outputs": [],
   "source": [
    "def test(a,b):\n",
    "    return a+b"
   ]
  },
  {
   "cell_type": "code",
   "execution_count": 30,
   "id": "53c4cd40-1352-414c-bae3-da0e703fe6fa",
   "metadata": {},
   "outputs": [
    {
     "data": {
      "text/plain": [
       "13"
      ]
     },
     "execution_count": 30,
     "metadata": {},
     "output_type": "execute_result"
    }
   ],
   "source": [
    "test(4,9)   ## here the function behaves like a addition function"
   ]
  },
  {
   "cell_type": "code",
   "execution_count": 31,
   "id": "19d6c3eb-9675-44db-bec0-615579cfdf32",
   "metadata": {},
   "outputs": [
    {
     "data": {
      "text/plain": [
       "'Akash Roy'"
      ]
     },
     "execution_count": 31,
     "metadata": {},
     "output_type": "execute_result"
    }
   ],
   "source": [
    "test(\"Akash \",\"Roy\")   ## here the same function behaves like a concatenation function\n",
    "                       ## The function test is a clear example of polymorphism"
   ]
  },
  {
   "cell_type": "code",
   "execution_count": 32,
   "id": "aaf3efc6-ce2c-4525-af8b-450e328763a9",
   "metadata": {},
   "outputs": [
    {
     "data": {
      "text/plain": [
       "[1, 2, 3, 6, 5, 7]"
      ]
     },
     "execution_count": 32,
     "metadata": {},
     "output_type": "execute_result"
    }
   ],
   "source": [
    "test([1,2,3],[6,5,7])"
   ]
  },
  {
   "cell_type": "code",
   "execution_count": 33,
   "id": "8c386fbe-4cb4-4a01-85c9-c1f90070d893",
   "metadata": {},
   "outputs": [],
   "source": [
    "class data_science:\n",
    "    def syllabus(self):\n",
    "        print(\"This is my method of data science syllabus \")"
   ]
  },
  {
   "cell_type": "code",
   "execution_count": 34,
   "id": "879089dc-3880-4020-8874-ba6f800d1b19",
   "metadata": {},
   "outputs": [],
   "source": [
    "class web_dev:\n",
    "    def syllabus(self):\n",
    "        print(\"This is my method a web_dev \")"
   ]
  },
  {
   "cell_type": "code",
   "execution_count": 35,
   "id": "e67b7709-f237-4060-8f0a-1b1632703b53",
   "metadata": {},
   "outputs": [],
   "source": [
    "def class_parcer(class_obj):\n",
    "    for i in class_obj:\n",
    "        i.syllabus()"
   ]
  },
  {
   "cell_type": "code",
   "execution_count": 36,
   "id": "40b88d7d-63d9-4261-840e-442f27346abd",
   "metadata": {},
   "outputs": [
    {
     "data": {
      "text/plain": [
       "__main__.data_science"
      ]
     },
     "execution_count": 36,
     "metadata": {},
     "output_type": "execute_result"
    }
   ],
   "source": [
    "obj_data_science= data_science()   ## it wil try to access the function syllabus of data_science\n",
    "type(obj_data_science)"
   ]
  },
  {
   "cell_type": "code",
   "execution_count": 37,
   "id": "08a1729d-d48f-4962-afc2-a6516abb5400",
   "metadata": {},
   "outputs": [],
   "source": [
    "obj_web_dev= web_dev()       ## it wil try to access the function syllabus of web_dev"
   ]
  },
  {
   "cell_type": "code",
   "execution_count": 38,
   "id": "56721aac-02a2-45c1-aa4c-920c3bf9e827",
   "metadata": {},
   "outputs": [
    {
     "data": {
      "text/plain": [
       "list"
      ]
     },
     "execution_count": 38,
     "metadata": {},
     "output_type": "execute_result"
    }
   ],
   "source": [
    "class_obj=[obj_data_science,obj_web_dev]   ## it will try to create both the class into a single wrapper\n",
    "type(class_obj)"
   ]
  },
  {
   "cell_type": "code",
   "execution_count": 39,
   "id": "36e13762-c37d-4d70-ab8e-9c014d930831",
   "metadata": {},
   "outputs": [
    {
     "name": "stdout",
     "output_type": "stream",
     "text": [
      "This is my method of data science syllabus \n",
      "This is my method a web_dev \n"
     ]
    }
   ],
   "source": [
    "class_parcer(class_obj)   ## In the first iteration it wil try to find the class obj of data_science return the function syllabus of data_sceince\n",
    "                          ## In the second iteration it will do the same for the web_dev\n",
    "##NOTE : The function syllabus is behaving differently in different situation So this is what it called polymorphism"
   ]
  },
  {
   "cell_type": "code",
   "execution_count": 40,
   "id": "20ef646e-07e7-49ca-8edb-e7fd5ea6288a",
   "metadata": {},
   "outputs": [
    {
     "data": {
      "text/plain": [
       "function"
      ]
     },
     "execution_count": 40,
     "metadata": {},
     "output_type": "execute_result"
    }
   ],
   "source": [
    "type(class_parcer)"
   ]
  },
  {
   "cell_type": "markdown",
   "id": "decde430-bfb7-4c06-9213-53115d1940ff",
   "metadata": {},
   "source": [
    "## Encapsulation"
   ]
  },
  {
   "cell_type": "code",
   "execution_count": 41,
   "id": "ae59b114-68a4-478d-a2c6-216e203eff09",
   "metadata": {},
   "outputs": [],
   "source": [
    "class test :\n",
    "    def __init__(self,a,b):\n",
    "        self.a=a\n",
    "        self.b=b"
   ]
  },
  {
   "cell_type": "code",
   "execution_count": 42,
   "id": "9f34012c-806d-488d-b75b-066aaee34244",
   "metadata": {},
   "outputs": [],
   "source": [
    "t=test(22,77)"
   ]
  },
  {
   "cell_type": "code",
   "execution_count": 43,
   "id": "24d1d5a1-e5ea-4cd7-8a69-e2425a047f62",
   "metadata": {},
   "outputs": [
    {
     "data": {
      "text/plain": [
       "22"
      ]
     },
     "execution_count": 43,
     "metadata": {},
     "output_type": "execute_result"
    }
   ],
   "source": [
    "t.a       ## If you press tab button you can able to find the insataces of a, b beacuse it kept public "
   ]
  },
  {
   "cell_type": "code",
   "execution_count": 44,
   "id": "7421d75d-8db0-4f4d-a1c1-26894e2505d8",
   "metadata": {},
   "outputs": [
    {
     "data": {
      "text/plain": [
       "77"
      ]
     },
     "execution_count": 44,
     "metadata": {},
     "output_type": "execute_result"
    }
   ],
   "source": [
    "t.b"
   ]
  },
  {
   "cell_type": "code",
   "execution_count": 45,
   "id": "f8f31904-2c31-401c-a9ee-eed07179d45b",
   "metadata": {},
   "outputs": [],
   "source": [
    "t.a=45555"
   ]
  },
  {
   "cell_type": "code",
   "execution_count": 46,
   "id": "ab4ad1af-a1c9-4adb-b8c8-eac5866ad69d",
   "metadata": {},
   "outputs": [
    {
     "data": {
      "text/plain": [
       "45555"
      ]
     },
     "execution_count": 46,
     "metadata": {},
     "output_type": "execute_result"
    }
   ],
   "source": [
    "t.a"
   ]
  },
  {
   "cell_type": "markdown",
   "id": "5ad30ef2-59d4-42e4-88c7-392d662110f3",
   "metadata": {},
   "source": [
    "NOTE: In the above example you can able to access the value of the variable also you can able to change the value of the variable which becomes dangerous while coding in a corporate as anyone can access or change the data of the variable......So sometimes it becomes very very necessary to restrict the variables... Hence from here the concpt of encapsulation takes place.\n",
    "\n",
    "Encapsulation is an idea where you can able to prevent the direct access of data. If you have to access the data then you can do it only by the method provided by the maker \n"
   ]
  },
  {
   "cell_type": "code",
   "execution_count": 47,
   "id": "ab0bbdfc-d9ff-471e-8a0a-37fd5985cb83",
   "metadata": {},
   "outputs": [],
   "source": [
    "class car():\n",
    "    def __init__(self,year,make,model,speed):\n",
    "        self.__year=year\n",
    "        self.__make=make\n",
    "        self.__model=model\n",
    "        self.__speed=0"
   ]
  },
  {
   "cell_type": "code",
   "execution_count": 48,
   "id": "315427a4-eea0-4014-8a0b-8960f14deaf7",
   "metadata": {},
   "outputs": [],
   "source": [
    "obj_car =car(2020,\"maruti\",\"swift\",\"45\")"
   ]
  },
  {
   "cell_type": "code",
   "execution_count": 49,
   "id": "07b209e0-04b6-45f7-989f-9a24f00d9949",
   "metadata": {},
   "outputs": [
    {
     "ename": "AttributeError",
     "evalue": "'car' object has no attribute 'year'",
     "output_type": "error",
     "traceback": [
      "\u001b[0;31m---------------------------------------------------------------------------\u001b[0m",
      "\u001b[0;31mAttributeError\u001b[0m                            Traceback (most recent call last)",
      "Cell \u001b[0;32mIn[49], line 1\u001b[0m\n\u001b[0;32m----> 1\u001b[0m \u001b[43mobj_car\u001b[49m\u001b[38;5;241;43m.\u001b[39;49m\u001b[43myear\u001b[49m    \u001b[38;5;66;03m## if you press tab button then nothing will be shown beacuse all variables are kept private\u001b[39;00m\n",
      "\u001b[0;31mAttributeError\u001b[0m: 'car' object has no attribute 'year'"
     ]
    }
   ],
   "source": [
    "obj_car.year    ## if you press tab button then nothing will be shown beacuse all variables are kept private\n"
   ]
  },
  {
   "cell_type": "code",
   "execution_count": 50,
   "id": "fbbf9cd5-a5d5-4b31-9db8-5faaf8ed6c43",
   "metadata": {},
   "outputs": [
    {
     "data": {
      "text/plain": [
       "2020"
      ]
     },
     "execution_count": 50,
     "metadata": {},
     "output_type": "execute_result"
    }
   ],
   "source": [
    "obj_car._car__year       ## as it going to kept private then you will not see anything therefore you cant able to see the obejct "
   ]
  },
  {
   "cell_type": "code",
   "execution_count": 51,
   "id": "63e34970-9ab4-43d5-9cad-60773ad1c624",
   "metadata": {},
   "outputs": [],
   "source": [
    "obj_car.__year_car=2023"
   ]
  },
  {
   "cell_type": "code",
   "execution_count": 52,
   "id": "c9da1d65-3d7f-49e2-b83c-c9d1e1dbf747",
   "metadata": {},
   "outputs": [
    {
     "data": {
      "text/plain": [
       "2023"
      ]
     },
     "execution_count": 52,
     "metadata": {},
     "output_type": "execute_result"
    }
   ],
   "source": [
    "obj_car.__year_car"
   ]
  },
  {
   "cell_type": "code",
   "execution_count": 53,
   "id": "e66e94d7-1687-4712-8f02-5e152825e465",
   "metadata": {},
   "outputs": [],
   "source": [
    "## How to create an access for the user"
   ]
  },
  {
   "cell_type": "code",
   "execution_count": 54,
   "id": "c7992d11-ac9b-45e0-8636-827ac7d56e8f",
   "metadata": {},
   "outputs": [],
   "source": [
    "class car():\n",
    "    def __init__(self,year,make,model,speed):\n",
    "        self.__year=year\n",
    "        self.__make=make\n",
    "        self.__model=model\n",
    "        self.__speed=0\n",
    "        \n",
    "    def set_speed(self,speed):\n",
    "        self.__speed=0 if speed<0 else speed\n",
    "        \n",
    "        \n",
    "    def get_speed(self):\n",
    "        return self.__speed"
   ]
  },
  {
   "cell_type": "code",
   "execution_count": 55,
   "id": "bcc510e9-c19b-45de-b8f1-eaad13d5c67f",
   "metadata": {},
   "outputs": [
    {
     "ename": "AttributeError",
     "evalue": "'car' object has no attribute 'set_speed'",
     "output_type": "error",
     "traceback": [
      "\u001b[0;31m---------------------------------------------------------------------------\u001b[0m",
      "\u001b[0;31mAttributeError\u001b[0m                            Traceback (most recent call last)",
      "Cell \u001b[0;32mIn[55], line 1\u001b[0m\n\u001b[0;32m----> 1\u001b[0m \u001b[43mobj_car\u001b[49m\u001b[38;5;241;43m.\u001b[39;49m\u001b[43mset_speed\u001b[49m(\u001b[38;5;241m132\u001b[39m)\n",
      "\u001b[0;31mAttributeError\u001b[0m: 'car' object has no attribute 'set_speed'"
     ]
    }
   ],
   "source": [
    "obj_car.set_speed(132)"
   ]
  },
  {
   "cell_type": "code",
   "execution_count": 56,
   "id": "04821b45-07dd-451a-b2b4-b5ee885cbf06",
   "metadata": {},
   "outputs": [],
   "source": [
    "obj_car =car(2020,\"maruti\",\"swift\",\"45\")"
   ]
  },
  {
   "cell_type": "code",
   "execution_count": 57,
   "id": "6c516241-ef58-48c5-b844-3b6dab3467ae",
   "metadata": {},
   "outputs": [
    {
     "data": {
      "text/plain": [
       "0"
      ]
     },
     "execution_count": 57,
     "metadata": {},
     "output_type": "execute_result"
    }
   ],
   "source": [
    "obj_car._car__speed"
   ]
  },
  {
   "cell_type": "code",
   "execution_count": 58,
   "id": "0c67c98d-7c36-40c9-999e-580338ff2025",
   "metadata": {},
   "outputs": [
    {
     "data": {
      "text/plain": [
       "0"
      ]
     },
     "execution_count": 58,
     "metadata": {},
     "output_type": "execute_result"
    }
   ],
   "source": [
    "obj_car.get_speed()"
   ]
  },
  {
   "cell_type": "code",
   "execution_count": 59,
   "id": "7d1181be-8ce4-4546-92db-75a395b278bb",
   "metadata": {},
   "outputs": [],
   "source": [
    "obj_car.set_speed(-88)"
   ]
  },
  {
   "cell_type": "code",
   "execution_count": 60,
   "id": "4610189e-6a61-47f0-a323-acdb4fef4ca3",
   "metadata": {},
   "outputs": [
    {
     "data": {
      "text/plain": [
       "0"
      ]
     },
     "execution_count": 60,
     "metadata": {},
     "output_type": "execute_result"
    }
   ],
   "source": [
    "obj_car.get_speed()"
   ]
  },
  {
   "cell_type": "raw",
   "id": "5b707c03-319b-4292-911f-61a6f01dc0f5",
   "metadata": {},
   "source": []
  },
  {
   "cell_type": "code",
   "execution_count": 67,
   "id": "ab9f8827-3a1e-4931-b6e9-aaee98256e6a",
   "metadata": {},
   "outputs": [],
   "source": [
    "class bank_account():\n",
    "    def __init__(self,balance):\n",
    "        self.__balance=balance\n",
    "    \n",
    "    def deposit(self,amount):\n",
    "        self.__balance=self.__balance+amount\n",
    "        \n",
    "    def withdraw(self,withdraw):\n",
    "        if self.__balance>=amount:\n",
    "            self.__balance=self.__balance-withdraw\n",
    "            \n",
    "            return Tr\n",
    "        else:\n",
    "            return False\n",
    "    def get_balance(self):\n",
    "        return self.__balance\n",
    "        "
   ]
  },
  {
   "cell_type": "code",
   "execution_count": 62,
   "id": "67cdff30-3e5b-44cf-b126-6772d638ba80",
   "metadata": {},
   "outputs": [],
   "source": [
    "obj_bank_account=bank_account(1000)"
   ]
  },
  {
   "cell_type": "code",
   "execution_count": 63,
   "id": "ac9e0d9e-e965-40e5-959c-3653274421df",
   "metadata": {},
   "outputs": [
    {
     "data": {
      "text/plain": [
       "1000"
      ]
     },
     "execution_count": 63,
     "metadata": {},
     "output_type": "execute_result"
    }
   ],
   "source": [
    "obj_bank_account.get_balance()"
   ]
  },
  {
   "cell_type": "code",
   "execution_count": 71,
   "id": "fa98639a-9f7f-4382-b491-17c6cc4c7914",
   "metadata": {},
   "outputs": [],
   "source": [
    "obj_bank_account.deposit(6000)"
   ]
  },
  {
   "cell_type": "code",
   "execution_count": 65,
   "id": "cfc5ada7-6d83-46fd-a3df-ac11be8a25d2",
   "metadata": {},
   "outputs": [
    {
     "data": {
      "text/plain": [
       "7000"
      ]
     },
     "execution_count": 65,
     "metadata": {},
     "output_type": "execute_result"
    }
   ],
   "source": [
    "obj_bank_account.get_balance()"
   ]
  },
  {
   "cell_type": "code",
   "execution_count": 69,
   "id": "e4608145-a7d9-49a5-9216-303125757751",
   "metadata": {},
   "outputs": [
    {
     "data": {
      "text/plain": [
       "False"
      ]
     },
     "execution_count": 69,
     "metadata": {},
     "output_type": "execute_result"
    }
   ],
   "source": [
    "obj_bank_account.withdraw(30000)"
   ]
  },
  {
   "cell_type": "code",
   "execution_count": 72,
   "id": "032015ed-d9eb-43f4-b861-92d80515d8c5",
   "metadata": {},
   "outputs": [
    {
     "data": {
      "text/plain": [
       "7000"
      ]
     },
     "execution_count": 72,
     "metadata": {},
     "output_type": "execute_result"
    }
   ],
   "source": [
    "obj_bank_account.get_balance()"
   ]
  },
  {
   "cell_type": "code",
   "execution_count": 73,
   "id": "172214a6-c609-4474-b693-8ef86d8a5ada",
   "metadata": {},
   "outputs": [
    {
     "data": {
      "text/plain": [
       "True"
      ]
     },
     "execution_count": 73,
     "metadata": {},
     "output_type": "execute_result"
    }
   ],
   "source": [
    "obj_bank_account.withdraw(5000)"
   ]
  },
  {
   "cell_type": "code",
   "execution_count": 74,
   "id": "fe4ecf30-9020-488c-9ad8-efbb0906d115",
   "metadata": {},
   "outputs": [
    {
     "data": {
      "text/plain": [
       "2000"
      ]
     },
     "execution_count": 74,
     "metadata": {},
     "output_type": "execute_result"
    }
   ],
   "source": [
    "obj_bank_account.get_balance()"
   ]
  },
  {
   "cell_type": "markdown",
   "id": "b492c83f-e818-4a5e-8291-7d08967325c1",
   "metadata": {},
   "source": [
    "# Inheritance\n",
    "\n",
    " In inheritance one class is tries to takes takes the proprty of another class as like as child tries to copy the beahviour from the parent class"
   ]
  },
  {
   "cell_type": "code",
   "execution_count": 75,
   "id": "fe0b2199-cc31-42ed-9c56-6d3e84a6286a",
   "metadata": {},
   "outputs": [],
   "source": [
    "class parent:\n",
    "    def test_parent(self):\n",
    "        print(\"This is my parent class\")\n",
    "        "
   ]
  },
  {
   "cell_type": "code",
   "execution_count": 76,
   "id": "e4fb9f73-bfc5-4328-b07f-0fd1ae65ce16",
   "metadata": {},
   "outputs": [],
   "source": [
    "class child(parent):\n",
    "    pass"
   ]
  },
  {
   "cell_type": "code",
   "execution_count": 77,
   "id": "91543968-4f1c-49c7-ad89-f0743d18b368",
   "metadata": {},
   "outputs": [],
   "source": [
    "child_obj=child()"
   ]
  },
  {
   "cell_type": "code",
   "execution_count": 78,
   "id": "5ab95f84-43bc-4e99-b218-f30c4251f3fb",
   "metadata": {},
   "outputs": [
    {
     "name": "stdout",
     "output_type": "stream",
     "text": [
      "This is my parent class\n"
     ]
    }
   ],
   "source": [
    "child_obj.test_parent()  ## after writing child_obj. and press tab button then automatically you will lnotice that it will going to printt test_parent which is the function of parent class "
   ]
  },
  {
   "cell_type": "markdown",
   "id": "0ca2d381-ba28-4676-9a0b-e1f774881aa5",
   "metadata": {},
   "source": [
    "There are two types of inheritance \n",
    "1. multilevel inheritance\n",
    "2. multiple inheritance"
   ]
  },
  {
   "cell_type": "markdown",
   "id": "febcec8c-45cb-4065-b33c-ca332e2cd6c5",
   "metadata": {},
   "source": [
    "## multilevel inheritance\n",
    "\n",
    "here the classes are assigned in a single row"
   ]
  },
  {
   "cell_type": "code",
   "execution_count": 91,
   "id": "ce0333e7-edef-4034-88b3-4f1938bdb554",
   "metadata": {},
   "outputs": [],
   "source": [
    "\n",
    "\n",
    "class class1:\n",
    "    def test_class1(self):\n",
    "        print(\"This is my class 1\")"
   ]
  },
  {
   "cell_type": "code",
   "execution_count": 92,
   "id": "1c49eb51-e2e0-4658-abb0-4e9ded258f02",
   "metadata": {},
   "outputs": [],
   "source": [
    "class class2(class1):\n",
    "    def test_class2(self):\n",
    "        print(\"This is my class 2\")"
   ]
  },
  {
   "cell_type": "code",
   "execution_count": 93,
   "id": "4d0e1a0f-75f1-4f77-b66b-c6442b027bd1",
   "metadata": {},
   "outputs": [],
   "source": [
    "class class3(class2):\n",
    "    def test_class3(self):\n",
    "        print(\"This is my class 3\")"
   ]
  },
  {
   "cell_type": "code",
   "execution_count": 94,
   "id": "69276be4-2db5-415e-b79b-cc3d37b5b007",
   "metadata": {},
   "outputs": [],
   "source": [
    "obj_class3=class3()"
   ]
  },
  {
   "cell_type": "code",
   "execution_count": 96,
   "id": "feef56c8-5091-4132-b7d7-23c7a5301d6b",
   "metadata": {},
   "outputs": [
    {
     "name": "stdout",
     "output_type": "stream",
     "text": [
      "This is my class 1\n"
     ]
    }
   ],
   "source": [
    "obj_class3.test_class1()  ## obj_class3 can able to access class 2 class 3 and class 1 respectively"
   ]
  },
  {
   "cell_type": "code",
   "execution_count": 97,
   "id": "f0c68a39-2b1a-4071-b8be-b69123a7ca9f",
   "metadata": {},
   "outputs": [
    {
     "name": "stdout",
     "output_type": "stream",
     "text": [
      "This is my class 2\n"
     ]
    }
   ],
   "source": [
    "obj_class3.test_class2()"
   ]
  },
  {
   "cell_type": "code",
   "execution_count": 98,
   "id": "65bb7fb1-b4f2-46b2-9017-50f791c776d7",
   "metadata": {},
   "outputs": [
    {
     "name": "stdout",
     "output_type": "stream",
     "text": [
      "This is my class 3\n"
     ]
    }
   ],
   "source": [
    "obj_class3.test_class3()"
   ]
  },
  {
   "cell_type": "markdown",
   "id": "165f52ee-143c-49c9-a9b4-1497e80063c7",
   "metadata": {},
   "source": [
    "## multiple inheritance"
   ]
  },
  {
   "cell_type": "markdown",
   "id": "231dba8f-24f5-4351-b079-3f5fbc863e42",
   "metadata": {},
   "source": [
    "suppose there is class 1 class 2 and class 3 if class 1 and 2 can able to access directly class 3 then you can say it is a multiple inheritance"
   ]
  },
  {
   "cell_type": "code",
   "execution_count": 104,
   "id": "ca364532-6be7-4cef-830f-3c087938d25b",
   "metadata": {},
   "outputs": [],
   "source": [
    "class class1:\n",
    "    def test_class1(self):\n",
    "        print(\"This is my class 1\")"
   ]
  },
  {
   "cell_type": "code",
   "execution_count": 105,
   "id": "77a65308-4743-49a6-b4e3-3db622b52bc4",
   "metadata": {},
   "outputs": [],
   "source": [
    "class class2:\n",
    "    def test_class2(self):\n",
    "        print(\"This is my class 2\")"
   ]
  },
  {
   "cell_type": "code",
   "execution_count": 106,
   "id": "772ab5d8-41c8-497a-9e4b-4316b76f6834",
   "metadata": {},
   "outputs": [],
   "source": [
    "class class3(class1 , class2):\n",
    "    pass"
   ]
  },
  {
   "cell_type": "code",
   "execution_count": 107,
   "id": "966abab7-3ac0-4086-909b-c43c36f255c5",
   "metadata": {},
   "outputs": [],
   "source": [
    "obj_class3=class3()\n"
   ]
  },
  {
   "cell_type": "code",
   "execution_count": 108,
   "id": "6be27af4-c8ad-4a80-9b37-35eda001fd4d",
   "metadata": {},
   "outputs": [
    {
     "name": "stdout",
     "output_type": "stream",
     "text": [
      "This is my class 1\n"
     ]
    }
   ],
   "source": [
    "obj_class3.test_class1()"
   ]
  },
  {
   "cell_type": "code",
   "execution_count": 109,
   "id": "2af641a1-7a73-4151-a468-3ccec7d0982a",
   "metadata": {},
   "outputs": [
    {
     "name": "stdout",
     "output_type": "stream",
     "text": [
      "This is my class 2\n"
     ]
    }
   ],
   "source": [
    "obj_class3.test_class2()"
   ]
  },
  {
   "cell_type": "markdown",
   "id": "a4f61636-5518-4fb7-ad2b-d5393319b103",
   "metadata": {},
   "source": [
    "# Decorators"
   ]
  },
  {
   "cell_type": "code",
   "execution_count": 1,
   "id": "deec5bd9-2771-46db-8e82-bb8631890998",
   "metadata": {},
   "outputs": [],
   "source": [
    "def test():\n",
    "    print(\"This is the start of my function\")\n",
    "    print(4+5)\n",
    "    print(\"This is the end of my function\")"
   ]
  },
  {
   "cell_type": "code",
   "execution_count": 2,
   "id": "0fa81125-f341-431d-a444-ee1f6b1f5f10",
   "metadata": {},
   "outputs": [
    {
     "name": "stdout",
     "output_type": "stream",
     "text": [
      "This is the start of my function\n",
      "9\n",
      "This is the end of my function\n"
     ]
    }
   ],
   "source": [
    "test()"
   ]
  },
  {
   "cell_type": "code",
   "execution_count": 3,
   "id": "1cae59d8-466c-42bc-8ebe-b7461b2dd71f",
   "metadata": {},
   "outputs": [],
   "source": [
    "## now suppose if you have to call the start and end of the my function in any function then you have to do repetative each times"
   ]
  },
  {
   "cell_type": "code",
   "execution_count": 18,
   "id": "ad4565be-b81e-456f-a084-eb16b13dba48",
   "metadata": {},
   "outputs": [],
   "source": [
    "## Now a new method will be\n",
    "def deco(func):\n",
    "    print(\"This is my first functio\")\n",
    "    func()\n",
    "    print(\"This is my second function\")"
   ]
  },
  {
   "cell_type": "code",
   "execution_count": 19,
   "id": "a6596b0b-39e1-45a5-b1e1-c9c353366ab0",
   "metadata": {},
   "outputs": [
    {
     "name": "stdout",
     "output_type": "stream",
     "text": [
      "This is my first functio\n",
      "9\n",
      "This is my second function\n"
     ]
    }
   ],
   "source": [
    "@deco     ## so if you write @deco then you dont have to print fisrt and last function again  and again \n",
    "def test1():\n",
    "    print(4+5)"
   ]
  },
  {
   "cell_type": "markdown",
   "id": "2985d97e-6c0b-46cb-b085-de71ff2e1fc2",
   "metadata": {},
   "source": [
    "Decorator function is used to remove the repetativeness of the function"
   ]
  },
  {
   "cell_type": "code",
   "execution_count": 20,
   "id": "c918025f-d366-4be7-8e5d-59656f6c7b45",
   "metadata": {},
   "outputs": [],
   "source": [
    "## Now you have to find out how much time it is being taken to execute the function"
   ]
  },
  {
   "cell_type": "code",
   "execution_count": 27,
   "id": "79e2fc45-8d58-4edc-ba2d-efc0a6b33364",
   "metadata": {},
   "outputs": [],
   "source": [
    "import time\n",
    "\n",
    "def timer_test(func):\n",
    "    def timer_test_inner():\n",
    "        start=time.time()\n",
    "        func()\n",
    "        end=time.time()\n",
    "        print(end-start)\n",
    "    return timer_test_inner    "
   ]
  },
  {
   "cell_type": "code",
   "execution_count": 28,
   "id": "6bbce24b-bfb3-46b0-a735-218da166c175",
   "metadata": {},
   "outputs": [],
   "source": [
    "@timer_test\n",
    "def test2():\n",
    "    print(4+4)"
   ]
  },
  {
   "cell_type": "code",
   "execution_count": 29,
   "id": "12fbd32f-8701-426a-a51a-2c68442b4a88",
   "metadata": {},
   "outputs": [
    {
     "name": "stdout",
     "output_type": "stream",
     "text": [
      "8\n",
      "5.316734313964844e-05\n"
     ]
    }
   ],
   "source": [
    "test2()"
   ]
  },
  {
   "cell_type": "code",
   "execution_count": 36,
   "id": "247d730c-d5ef-472d-a5ee-4624aa63047b",
   "metadata": {},
   "outputs": [],
   "source": [
    "@timer_test\n",
    "def test3():\n",
    "    for i in range(100000000):\n",
    "        pass"
   ]
  },
  {
   "cell_type": "code",
   "execution_count": 37,
   "id": "2b76460e-bd2f-4553-b9d7-d7723459440e",
   "metadata": {},
   "outputs": [
    {
     "name": "stdout",
     "output_type": "stream",
     "text": [
      "2.5085811614990234\n"
     ]
    }
   ],
   "source": [
    "test3()"
   ]
  },
  {
   "cell_type": "code",
   "execution_count": null,
   "id": "8a2c08ef-e0dc-4773-b377-afb49c134297",
   "metadata": {},
   "outputs": [],
   "source": []
  }
 ],
 "metadata": {
  "kernelspec": {
   "display_name": "Python 3 (ipykernel)",
   "language": "python",
   "name": "python3"
  },
  "language_info": {
   "codemirror_mode": {
    "name": "ipython",
    "version": 3
   },
   "file_extension": ".py",
   "mimetype": "text/x-python",
   "name": "python",
   "nbconvert_exporter": "python",
   "pygments_lexer": "ipython3",
   "version": "3.10.8"
  }
 },
 "nbformat": 4,
 "nbformat_minor": 5
}
