{
 "cells": [
  {
   "cell_type": "markdown",
   "id": "e8c1cfa9-823a-4eab-8d52-56bbe83852a1",
   "metadata": {},
   "source": [
    "# Functions"
   ]
  },
  {
   "cell_type": "code",
   "execution_count": 1,
   "id": "7730cfa7-8fb9-4e47-8f2a-3652aad3c2d2",
   "metadata": {},
   "outputs": [],
   "source": [
    "## For making the function you have to use the one command called def function_name()"
   ]
  },
  {
   "cell_type": "code",
   "execution_count": 2,
   "id": "978d021a-4098-4459-99c8-93741a7c2fc9",
   "metadata": {},
   "outputs": [],
   "source": [
    "def test():  ## writing an empty function we have to write pass in it\n",
    "    pass"
   ]
  },
  {
   "cell_type": "code",
   "execution_count": 3,
   "id": "4bfccd5b-5ba9-4919-b565-fbd95db2197a",
   "metadata": {},
   "outputs": [],
   "source": [
    "def test1():\n",
    "    print(\"This is my very very first fucntion\")"
   ]
  },
  {
   "cell_type": "markdown",
   "id": "1b8713e9-075a-4e29-a75a-71e5f2838b09",
   "metadata": {},
   "source": [
    "The fucntion do not return anything as it is only doing print so its type will be none type\n",
    "in order to pass a function you have to return something"
   ]
  },
  {
   "cell_type": "code",
   "execution_count": 6,
   "id": "fa8f346d-1e11-41f6-a75f-dcf5a0e32603",
   "metadata": {},
   "outputs": [
    {
     "name": "stdout",
     "output_type": "stream",
     "text": [
      "This is my very very first fucntion\n"
     ]
    },
    {
     "data": {
      "text/plain": [
       "NoneType"
      ]
     },
     "execution_count": 6,
     "metadata": {},
     "output_type": "execute_result"
    }
   ],
   "source": [
    "type(test1())"
   ]
  },
  {
   "cell_type": "code",
   "execution_count": null,
   "id": "0ec6ec4b-aab5-47ac-af26-3a2e9aa30e84",
   "metadata": {},
   "outputs": [],
   "source": [
    "def test2():\n",
    "    return \"This is my fucntion called return\""
   ]
  },
  {
   "cell_type": "code",
   "execution_count": 2,
   "id": "8d708519-6b24-4c12-9ca7-92978f4f09da",
   "metadata": {},
   "outputs": [
    {
     "data": {
      "text/plain": [
       "str"
      ]
     },
     "execution_count": 2,
     "metadata": {},
     "output_type": "execute_result"
    }
   ],
   "source": [
    "type(test2())"
   ]
  },
  {
   "cell_type": "code",
   "execution_count": 18,
   "id": "f6cc7c15-c6ce-4e72-9a04-ca25f0c7a986",
   "metadata": {},
   "outputs": [
    {
     "data": {
      "text/plain": [
       "'This is my fucntion called return and this is not noneType'"
      ]
     },
     "execution_count": 18,
     "metadata": {},
     "output_type": "execute_result"
    }
   ],
   "source": [
    "test2() + \" and this is not noneType\""
   ]
  },
  {
   "cell_type": "code",
   "execution_count": 22,
   "id": "02c50708-3d4b-4b83-aae0-62e621ffb8e8",
   "metadata": {},
   "outputs": [],
   "source": [
    "def test3():\n",
    "    return [1,5,\"pwskills\",45.89]"
   ]
  },
  {
   "cell_type": "code",
   "execution_count": 23,
   "id": "46031a3d-9e00-46b5-a9d3-4bc6a36e68ee",
   "metadata": {},
   "outputs": [
    {
     "data": {
      "text/plain": [
       "list"
      ]
     },
     "execution_count": 23,
     "metadata": {},
     "output_type": "execute_result"
    }
   ],
   "source": [
    "type(test3())"
   ]
  },
  {
   "cell_type": "code",
   "execution_count": 25,
   "id": "756c7b7e-2f7f-4668-b750-a306955414f2",
   "metadata": {},
   "outputs": [
    {
     "data": {
      "text/plain": [
       "[1, 5, 'pwskills', 45.89]"
      ]
     },
     "execution_count": 25,
     "metadata": {},
     "output_type": "execute_result"
    }
   ],
   "source": [
    "test3()"
   ]
  },
  {
   "cell_type": "code",
   "execution_count": 26,
   "id": "9c40314e-7979-4429-823f-aca40b9d8c8c",
   "metadata": {},
   "outputs": [],
   "source": [
    "def test3():\n",
    "    return 1,5,\"pwskills\",45.89"
   ]
  },
  {
   "cell_type": "code",
   "execution_count": 28,
   "id": "32923f9f-a6b0-4624-96f8-121da1ab4b85",
   "metadata": {},
   "outputs": [
    {
     "data": {
      "text/plain": [
       "(1, 5, 'pwskills', 45.89)"
      ]
     },
     "execution_count": 28,
     "metadata": {},
     "output_type": "execute_result"
    }
   ],
   "source": [
    "test3()    ## it willl return a tuple"
   ]
  },
  {
   "cell_type": "code",
   "execution_count": 29,
   "id": "014e2d7c-b218-467d-a3e6-3e49e14ed702",
   "metadata": {},
   "outputs": [],
   "source": [
    "a,b,c,d=1,2,3,4"
   ]
  },
  {
   "cell_type": "code",
   "execution_count": 30,
   "id": "2f890495-729d-47e1-ae27-5a714e42589e",
   "metadata": {},
   "outputs": [
    {
     "data": {
      "text/plain": [
       "1"
      ]
     },
     "execution_count": 30,
     "metadata": {},
     "output_type": "execute_result"
    }
   ],
   "source": [
    "a"
   ]
  },
  {
   "cell_type": "code",
   "execution_count": 31,
   "id": "14213c06-93ca-4649-9969-50e97dec69ce",
   "metadata": {},
   "outputs": [
    {
     "data": {
      "text/plain": [
       "2"
      ]
     },
     "execution_count": 31,
     "metadata": {},
     "output_type": "execute_result"
    }
   ],
   "source": [
    "b"
   ]
  },
  {
   "cell_type": "code",
   "execution_count": 32,
   "id": "91140576-bd99-4761-b01d-630eaa3adeba",
   "metadata": {},
   "outputs": [
    {
     "data": {
      "text/plain": [
       "3"
      ]
     },
     "execution_count": 32,
     "metadata": {},
     "output_type": "execute_result"
    }
   ],
   "source": [
    "c"
   ]
  },
  {
   "cell_type": "code",
   "execution_count": 33,
   "id": "3135e9ad-50df-45c5-970a-2ca9843d85e1",
   "metadata": {},
   "outputs": [
    {
     "data": {
      "text/plain": [
       "4"
      ]
     },
     "execution_count": 33,
     "metadata": {},
     "output_type": "execute_result"
    }
   ],
   "source": [
    "d"
   ]
  },
  {
   "cell_type": "code",
   "execution_count": 35,
   "id": "48b196ea-2406-4a9b-81be-6ae0b70a03c9",
   "metadata": {},
   "outputs": [
    {
     "data": {
      "text/plain": [
       "5"
      ]
     },
     "execution_count": 35,
     "metadata": {},
     "output_type": "execute_result"
    }
   ],
   "source": [
    "##extracting elements  from a funtion\n",
    "test3()[1]"
   ]
  },
  {
   "cell_type": "code",
   "execution_count": 36,
   "id": "8aa41569-5d56-4ecf-b8c1-cfd701df5862",
   "metadata": {},
   "outputs": [
    {
     "data": {
      "text/plain": [
       "(5, 'pwskills')"
      ]
     },
     "execution_count": 36,
     "metadata": {},
     "output_type": "execute_result"
    }
   ],
   "source": [
    "test3()[1:3]"
   ]
  },
  {
   "cell_type": "code",
   "execution_count": 37,
   "id": "4e3dde89-dcbd-4247-94f8-8c4e867d1b92",
   "metadata": {},
   "outputs": [
    {
     "data": {
      "text/plain": [
       "(45.89, 'pwskills', 5, 1)"
      ]
     },
     "execution_count": 37,
     "metadata": {},
     "output_type": "execute_result"
    }
   ],
   "source": [
    "test3()[::-1]"
   ]
  },
  {
   "cell_type": "code",
   "execution_count": 38,
   "id": "d298b806-90bd-40f3-b398-fffd1c0b112c",
   "metadata": {},
   "outputs": [],
   "source": [
    "a,b,c,d=test3()"
   ]
  },
  {
   "cell_type": "code",
   "execution_count": 39,
   "id": "8250cbf6-31fa-4b85-874b-11c23086f381",
   "metadata": {},
   "outputs": [
    {
     "data": {
      "text/plain": [
       "1"
      ]
     },
     "execution_count": 39,
     "metadata": {},
     "output_type": "execute_result"
    }
   ],
   "source": [
    "a\n"
   ]
  },
  {
   "cell_type": "code",
   "execution_count": 40,
   "id": "9777d17e-914b-4973-8867-51002c0cc63b",
   "metadata": {},
   "outputs": [
    {
     "data": {
      "text/plain": [
       "5"
      ]
     },
     "execution_count": 40,
     "metadata": {},
     "output_type": "execute_result"
    }
   ],
   "source": [
    "b"
   ]
  },
  {
   "cell_type": "code",
   "execution_count": 41,
   "id": "25636176-378d-4c07-8107-daa36b500d88",
   "metadata": {},
   "outputs": [
    {
     "data": {
      "text/plain": [
       "'pwskills'"
      ]
     },
     "execution_count": 41,
     "metadata": {},
     "output_type": "execute_result"
    }
   ],
   "source": [
    "c\n"
   ]
  },
  {
   "cell_type": "code",
   "execution_count": 42,
   "id": "a04a7edc-47c9-4676-ad09-0f94fce8f4a2",
   "metadata": {},
   "outputs": [
    {
     "data": {
      "text/plain": [
       "45.89"
      ]
     },
     "execution_count": 42,
     "metadata": {},
     "output_type": "execute_result"
    }
   ],
   "source": [
    "d"
   ]
  },
  {
   "cell_type": "code",
   "execution_count": 45,
   "id": "7b173d28-f3e1-436d-b250-6eb34d7433ea",
   "metadata": {},
   "outputs": [],
   "source": [
    "def test4():\n",
    "    a= 2*4 +5\n",
    "    return a"
   ]
  },
  {
   "cell_type": "code",
   "execution_count": 46,
   "id": "af479c84-c1ab-41fd-9bda-e34fbe8d1b46",
   "metadata": {},
   "outputs": [
    {
     "data": {
      "text/plain": [
       "13"
      ]
     },
     "execution_count": 46,
     "metadata": {},
     "output_type": "execute_result"
    }
   ],
   "source": [
    "test4()"
   ]
  },
  {
   "cell_type": "code",
   "execution_count": 53,
   "id": "35b6d835-261b-4a7b-acf9-10d12412d195",
   "metadata": {},
   "outputs": [
    {
     "name": "stdin",
     "output_type": "stream",
     "text": [
      "enter first number: 5\n",
      "enter second number: 6\n"
     ]
    },
    {
     "data": {
      "text/plain": [
       "11"
      ]
     },
     "execution_count": 53,
     "metadata": {},
     "output_type": "execute_result"
    }
   ],
   "source": [
    "a=int(input(\"enter first number:\"))\n",
    "b=int(input(\"enter second number:\"))\n",
    "def test5(a,b):\n",
    "    c=a+b\n",
    "    return c\n",
    "\n",
    "test5(a,b)\n"
   ]
  },
  {
   "cell_type": "code",
   "execution_count": 55,
   "id": "8fac313a-88e1-4787-b057-2d50e167765b",
   "metadata": {},
   "outputs": [
    {
     "data": {
      "text/plain": [
       "'akashkumar'"
      ]
     },
     "execution_count": 55,
     "metadata": {},
     "output_type": "execute_result"
    }
   ],
   "source": [
    "test5(\"akash\",\"kumar\")"
   ]
  },
  {
   "cell_type": "code",
   "execution_count": 57,
   "id": "7309a23c-bdbf-4ab8-86f1-914e859f2bfa",
   "metadata": {},
   "outputs": [
    {
     "data": {
      "text/plain": [
       "[1, 2, 3, 4, 4, 6, 8, 9]"
      ]
     },
     "execution_count": 57,
     "metadata": {},
     "output_type": "execute_result"
    }
   ],
   "source": [
    "test5([1,2,3,4],[4,6,8,9])"
   ]
  },
  {
   "cell_type": "code",
   "execution_count": 58,
   "id": "410eedcf-688b-453d-b404-aa2078821a49",
   "metadata": {},
   "outputs": [
    {
     "ename": "TypeError",
     "evalue": "can only concatenate list (not \"set\") to list",
     "output_type": "error",
     "traceback": [
      "\u001b[0;31m---------------------------------------------------------------------------\u001b[0m",
      "\u001b[0;31mTypeError\u001b[0m                                 Traceback (most recent call last)",
      "Cell \u001b[0;32mIn[58], line 1\u001b[0m\n\u001b[0;32m----> 1\u001b[0m \u001b[43mtest5\u001b[49m\u001b[43m(\u001b[49m\u001b[43m[\u001b[49m\u001b[38;5;241;43m1\u001b[39;49m\u001b[43m,\u001b[49m\u001b[38;5;241;43m2\u001b[39;49m\u001b[43m,\u001b[49m\u001b[38;5;241;43m3\u001b[39;49m\u001b[43m,\u001b[49m\u001b[38;5;241;43m4\u001b[39;49m\u001b[43m]\u001b[49m\u001b[43m,\u001b[49m\u001b[43m{\u001b[49m\u001b[38;5;241;43m23\u001b[39;49m\u001b[43m,\u001b[49m\u001b[38;5;241;43m56\u001b[39;49m\u001b[43m,\u001b[49m\u001b[38;5;241;43m74\u001b[39;49m\u001b[43m}\u001b[49m\u001b[43m)\u001b[49m\n",
      "Cell \u001b[0;32mIn[53], line 4\u001b[0m, in \u001b[0;36mtest5\u001b[0;34m(a, b)\u001b[0m\n\u001b[1;32m      3\u001b[0m \u001b[38;5;28;01mdef\u001b[39;00m \u001b[38;5;21mtest5\u001b[39m(a,b):\n\u001b[0;32m----> 4\u001b[0m     c\u001b[38;5;241m=\u001b[39m\u001b[43ma\u001b[49m\u001b[38;5;241;43m+\u001b[39;49m\u001b[43mb\u001b[49m\n\u001b[1;32m      5\u001b[0m     \u001b[38;5;28;01mreturn\u001b[39;00m c\n",
      "\u001b[0;31mTypeError\u001b[0m: can only concatenate list (not \"set\") to list"
     ]
    }
   ],
   "source": [
    "test5([1,2,3,4],{23,56,74})"
   ]
  },
  {
   "cell_type": "code",
   "execution_count": 13,
   "id": "798b5d81-a3d4-47e1-97ef-3d047027d724",
   "metadata": {},
   "outputs": [],
   "source": [
    "list=[1,4,7,3,\"Akash\",34.6,\"data\",4,[2,6,4,3,2,5,666]]"
   ]
  },
  {
   "cell_type": "code",
   "execution_count": 14,
   "id": "f6f9147d-566c-4fd9-adcf-db52dda69c67",
   "metadata": {},
   "outputs": [],
   "source": [
    "def test6(a):     ## from a list writing a function which can only print int value \n",
    "    n=[]\n",
    "    for i in a:\n",
    "        if type(i)== int or type(i)==float:\n",
    "            n.append(i)\n",
    "            \n",
    "            \n",
    "    return n  \n"
   ]
  },
  {
   "cell_type": "code",
   "execution_count": 15,
   "id": "eff7578b-d46f-47de-88c6-585741c428eb",
   "metadata": {},
   "outputs": [
    {
     "data": {
      "text/plain": [
       "[1, 4, 7, 3, 34.6, 4]"
      ]
     },
     "execution_count": 15,
     "metadata": {},
     "output_type": "execute_result"
    }
   ],
   "source": [
    "test6(list)"
   ]
  },
  {
   "cell_type": "code",
   "execution_count": 21,
   "id": "03250ee3-7fa8-4a09-9880-30fedd926e5b",
   "metadata": {},
   "outputs": [],
   "source": [
    "def test7(a):\n",
    "    n=[]\n",
    "    for i in a:\n",
    "        if type(i)==list:\n",
    "            for j in i:\n",
    "                if type(j)==int or type(j)==float:\n",
    "                    n.append(j)\n",
    "        else:\n",
    "            if type(i)==int or type(i)==float:\n",
    "                n.append(i)\n",
    "                \n",
    "    return n        "
   ]
  },
  {
   "cell_type": "code",
   "execution_count": 22,
   "id": "9896d605-ff2b-4f38-96f4-ec58c96f9d4a",
   "metadata": {},
   "outputs": [
    {
     "data": {
      "text/plain": [
       "[1, 4, 7, 3, 34.6, 4]"
      ]
     },
     "execution_count": 22,
     "metadata": {},
     "output_type": "execute_result"
    }
   ],
   "source": [
    "test7(list)"
   ]
  },
  {
   "cell_type": "code",
   "execution_count": 28,
   "id": "e744a9de-6697-46a6-8520-9444eeb8ecf3",
   "metadata": {},
   "outputs": [],
   "source": [
    "def test(a,b,c):\n",
    "    pass"
   ]
  },
  {
   "cell_type": "code",
   "execution_count": 29,
   "id": "662c7b82-32b8-4473-ba83-aaa03d378fbe",
   "metadata": {},
   "outputs": [],
   "source": [
    "test(1,2,3)"
   ]
  },
  {
   "cell_type": "code",
   "execution_count": 32,
   "id": "743c1607-33f3-4707-99b8-a7dc043567f1",
   "metadata": {},
   "outputs": [
    {
     "ename": "TypeError",
     "evalue": "test() takes 3 positional arguments but 4 were given",
     "output_type": "error",
     "traceback": [
      "\u001b[0;31m---------------------------------------------------------------------------\u001b[0m",
      "\u001b[0;31mTypeError\u001b[0m                                 Traceback (most recent call last)",
      "Cell \u001b[0;32mIn[32], line 1\u001b[0m\n\u001b[0;32m----> 1\u001b[0m \u001b[43mtest\u001b[49m\u001b[43m(\u001b[49m\u001b[38;5;241;43m1\u001b[39;49m\u001b[43m,\u001b[49m\u001b[38;5;241;43m2\u001b[39;49m\u001b[43m,\u001b[49m\u001b[38;5;241;43m3\u001b[39;49m\u001b[43m,\u001b[49m\u001b[38;5;241;43m4\u001b[39;49m\u001b[43m)\u001b[49m\n",
      "\u001b[0;31mTypeError\u001b[0m: test() takes 3 positional arguments but 4 were given"
     ]
    }
   ],
   "source": [
    "test(1,2,3,4)  ## function test have only "
   ]
  },
  {
   "cell_type": "code",
   "execution_count": null,
   "id": "a619fa3f-a228-4dc1-9b19-ce737464cfbc",
   "metadata": {},
   "outputs": [],
   "source": []
  },
  {
   "cell_type": "code",
   "execution_count": 24,
   "id": "4ee096e6-7cfc-4371-a836-a192223c0f4b",
   "metadata": {},
   "outputs": [],
   "source": [
    "## in the above functionn test you can only pass 5 avriables but if you have to pass n number of functions then"
   ]
  },
  {
   "cell_type": "code",
   "execution_count": 4,
   "id": "0fc5aace-2cdb-410c-aa87-9b05b0d3480e",
   "metadata": {},
   "outputs": [],
   "source": [
    "def test8(*args):   ## This can be able to pass any number of function\n",
    "    return args"
   ]
  },
  {
   "cell_type": "code",
   "execution_count": 34,
   "id": "8be5d0ae-146b-4e0f-bca7-ae0140183395",
   "metadata": {},
   "outputs": [
    {
     "data": {
      "text/plain": [
       "(1,)"
      ]
     },
     "execution_count": 34,
     "metadata": {},
     "output_type": "execute_result"
    }
   ],
   "source": [
    "test8(1)"
   ]
  },
  {
   "cell_type": "code",
   "execution_count": 35,
   "id": "7ad76aac-7dc1-460d-97c3-414a691626cf",
   "metadata": {},
   "outputs": [
    {
     "data": {
      "text/plain": [
       "(1, 4, 6, 7, 3)"
      ]
     },
     "execution_count": 35,
     "metadata": {},
     "output_type": "execute_result"
    }
   ],
   "source": [
    "test8(1,4,6,7,3)"
   ]
  },
  {
   "cell_type": "code",
   "execution_count": 5,
   "id": "9d4bec51-ab37-4fe2-a010-8f4161c8d7da",
   "metadata": {},
   "outputs": [
    {
     "data": {
      "text/plain": [
       "(1, 2, 3, 'abc', [4, 6, 87])"
      ]
     },
     "execution_count": 5,
     "metadata": {},
     "output_type": "execute_result"
    }
   ],
   "source": [
    "test8(1,2,3,\"abc\",[4,6,87])"
   ]
  },
  {
   "cell_type": "code",
   "execution_count": 7,
   "id": "0e03d85d-c022-4830-a474-8ca2e2dff378",
   "metadata": {},
   "outputs": [],
   "source": [
    "def test9(*akash):\n",
    "    return akash"
   ]
  },
  {
   "cell_type": "code",
   "execution_count": 8,
   "id": "c3a5b413-731d-49ed-88fc-a10d6dfa1f55",
   "metadata": {},
   "outputs": [
    {
     "data": {
      "text/plain": [
       "(123, 4, 6, 6, 7, 4)"
      ]
     },
     "execution_count": 8,
     "metadata": {},
     "output_type": "execute_result"
    }
   ],
   "source": [
    "test9(123,4,6,6,7,4)"
   ]
  },
  {
   "cell_type": "code",
   "execution_count": 15,
   "id": "59bd201e-66dd-481d-bc6f-9a335596cfb4",
   "metadata": {},
   "outputs": [],
   "source": [
    "def test10(*arg,a):\n",
    "    return arg, a"
   ]
  },
  {
   "cell_type": "code",
   "execution_count": 16,
   "id": "5eaf3691-4be9-4bc6-9430-867ce5d78362",
   "metadata": {},
   "outputs": [
    {
     "ename": "TypeError",
     "evalue": "test10() missing 1 required keyword-only argument: 'a'",
     "output_type": "error",
     "traceback": [
      "\u001b[0;31m---------------------------------------------------------------------------\u001b[0m",
      "\u001b[0;31mTypeError\u001b[0m                                 Traceback (most recent call last)",
      "Cell \u001b[0;32mIn[16], line 1\u001b[0m\n\u001b[0;32m----> 1\u001b[0m \u001b[43mtest10\u001b[49m\u001b[43m(\u001b[49m\u001b[38;5;241;43m1\u001b[39;49m\u001b[43m,\u001b[49m\u001b[38;5;241;43m2\u001b[39;49m\u001b[43m)\u001b[49m  \u001b[38;5;66;03m## the code will shoe error because one arguement is missing.. So you need to specfy the second arguement\u001b[39;00m\n",
      "\u001b[0;31mTypeError\u001b[0m: test10() missing 1 required keyword-only argument: 'a'"
     ]
    }
   ],
   "source": [
    "test10(1,2)  ## the code will shoe error because one arguement is missing.. So you need to specfy the second arguement"
   ]
  },
  {
   "cell_type": "code",
   "execution_count": 17,
   "id": "c9bdf9eb-feb7-442d-be54-88fc4025d59a",
   "metadata": {},
   "outputs": [
    {
     "data": {
      "text/plain": [
       "((1, 2), 'amit')"
      ]
     },
     "execution_count": 17,
     "metadata": {},
     "output_type": "execute_result"
    }
   ],
   "source": [
    "test10(1,2,a=\"amit\")"
   ]
  },
  {
   "cell_type": "code",
   "execution_count": 18,
   "id": "ddc39a6e-4f22-4782-8c45-42b9a32765e4",
   "metadata": {},
   "outputs": [
    {
     "ename": "TypeError",
     "evalue": "test10() missing 1 required keyword-only argument: 'a'",
     "output_type": "error",
     "traceback": [
      "\u001b[0;31m---------------------------------------------------------------------------\u001b[0m",
      "\u001b[0;31mTypeError\u001b[0m                                 Traceback (most recent call last)",
      "Cell \u001b[0;32mIn[18], line 1\u001b[0m\n\u001b[0;32m----> 1\u001b[0m \u001b[38;5;28mtype\u001b[39m(\u001b[43mtest10\u001b[49m\u001b[43m(\u001b[49m\u001b[43m)\u001b[49m)\n",
      "\u001b[0;31mTypeError\u001b[0m: test10() missing 1 required keyword-only argument: 'a'"
     ]
    }
   ],
   "source": [
    "type(test10())   ## you neend to specfy the types of arguement a"
   ]
  },
  {
   "cell_type": "code",
   "execution_count": 21,
   "id": "e483ee02-b482-4068-b726-2a8d06e3ec95",
   "metadata": {},
   "outputs": [],
   "source": [
    "def test11(*args):\n",
    "    l=[]\n",
    "    \n",
    "    for i in args:\n",
    "        if type(i)== list:\n",
    "            l.append(i)\n",
    "    return l        "
   ]
  },
  {
   "cell_type": "code",
   "execution_count": 23,
   "id": "45efc3ba-99f7-4d8f-b079-4c68cb7ecad6",
   "metadata": {},
   "outputs": [
    {
     "data": {
      "text/plain": [
       "[[4, 5, 7, 4, 2, 4], [99, 77, 55]]"
      ]
     },
     "execution_count": 23,
     "metadata": {},
     "output_type": "execute_result"
    }
   ],
   "source": [
    "test11(1,2,4,[4,5,7,4,2,4],{0,8,6},[99,77,55])"
   ]
  },
  {
   "cell_type": "code",
   "execution_count": 24,
   "id": "5c8d50ad-b5cf-44df-9725-19a3550bc10b",
   "metadata": {},
   "outputs": [],
   "source": [
    "## For passing a key and a value pair"
   ]
  },
  {
   "cell_type": "code",
   "execution_count": 4,
   "id": "56dbd934-7455-4631-8761-311cfdbbd817",
   "metadata": {},
   "outputs": [],
   "source": [
    "def test12(**kwargs):\n",
    "    return kwargs"
   ]
  },
  {
   "cell_type": "code",
   "execution_count": 5,
   "id": "6f1a204d-754a-4d2b-805e-10db1c0d6786",
   "metadata": {},
   "outputs": [
    {
     "data": {
      "text/plain": [
       "{}"
      ]
     },
     "execution_count": 5,
     "metadata": {},
     "output_type": "execute_result"
    }
   ],
   "source": [
    "test12()"
   ]
  },
  {
   "cell_type": "code",
   "execution_count": 6,
   "id": "b0cc541d-a60f-471a-bd6a-067bb0c4cb01",
   "metadata": {},
   "outputs": [
    {
     "data": {
      "text/plain": [
       "dict"
      ]
     },
     "execution_count": 6,
     "metadata": {},
     "output_type": "execute_result"
    }
   ],
   "source": [
    "type(test12())"
   ]
  },
  {
   "cell_type": "code",
   "execution_count": 7,
   "id": "7ec58714-f9d1-4c98-883c-6e267062dbeb",
   "metadata": {},
   "outputs": [
    {
     "data": {
      "text/plain": [
       "{'a': 23, 'b': 'aka', 'c': [1, 2, 3], 'd': {33, 77, 555}, 'e': (5, 6, 7)}"
      ]
     },
     "execution_count": 7,
     "metadata": {},
     "output_type": "execute_result"
    }
   ],
   "source": [
    "test12(a=23,b=\"aka\",c=[1,2,3],d={77,555,33},e=(5,6,7))"
   ]
  },
  {
   "cell_type": "code",
   "execution_count": 10,
   "id": "746e896f-a18b-437c-bea2-acec31409dde",
   "metadata": {},
   "outputs": [],
   "source": [
    "def test13(**kwargs):\n",
    "    for i in kwargs.keys():\n",
    "        if type(kwargs[i])==list:\n",
    "            return i, kwargs[i]"
   ]
  },
  {
   "cell_type": "code",
   "execution_count": 11,
   "id": "e6d29bcc-7080-483f-8f88-0e5e457016e1",
   "metadata": {},
   "outputs": [
    {
     "data": {
      "text/plain": [
       "('c', [1, 2, 3])"
      ]
     },
     "execution_count": 11,
     "metadata": {},
     "output_type": "execute_result"
    }
   ],
   "source": [
    "test13(a=23,b=\"aka\",c=[1,2,3],d={77,555,33},e=(5,6,7))"
   ]
  },
  {
   "cell_type": "code",
   "execution_count": 13,
   "id": "501757c1-e1ca-4688-8653-a3a65abb1d52",
   "metadata": {},
   "outputs": [],
   "source": [
    "def test14(**dict):      ## you can give any names dict,kwargs etc etc\n",
    "    for i in dict.keys():\n",
    "        if type(dict[i])==int:\n",
    "            return i,dict[i]"
   ]
  },
  {
   "cell_type": "code",
   "execution_count": 17,
   "id": "d9ef5e27-f84c-4631-aed6-b2c38f36c846",
   "metadata": {},
   "outputs": [
    {
     "data": {
      "text/plain": [
       "('a', 23)"
      ]
     },
     "execution_count": 17,
     "metadata": {},
     "output_type": "execute_result"
    }
   ],
   "source": [
    "test14(a=23,b=\"aka\",c=[1,2,3],d={77,555,33},e=(5,6,7))"
   ]
  },
  {
   "cell_type": "code",
   "execution_count": 22,
   "id": "bca9607e-6b70-4be5-a125-173394036e0a",
   "metadata": {},
   "outputs": [],
   "source": [
    "def range(a,b):\n",
    "    while a<b :\n",
    "        print(a,end=\" \")\n",
    "        a=a+1"
   ]
  },
  {
   "cell_type": "markdown",
   "id": "3dbaff25-33b0-43cb-9cd5-c53b8c0646ed",
   "metadata": {},
   "source": [
    "range(1,100)"
   ]
  },
  {
   "cell_type": "code",
   "execution_count": null,
   "id": "1b7e50b1-e104-4055-9770-8a829a5bd20e",
   "metadata": {},
   "outputs": [],
   "source": []
  },
  {
   "cell_type": "markdown",
   "id": "e284118b-4322-40ce-b672-7c7c2cce82f9",
   "metadata": {},
   "source": [
    "# Generators\n"
   ]
  },
  {
   "cell_type": "markdown",
   "id": "043d2c9d-c1e6-4853-a032-74e1cc10d06c",
   "metadata": {},
   "source": [
    " generators are the statement which is used to return the sequence of value. We uses yield to return the value of function"
   ]
  },
  {
   "cell_type": "code",
   "execution_count": null,
   "id": "0a7bfd6d-b9fd-4d94-90de-5c6f5a0a9049",
   "metadata": {},
   "outputs": [],
   "source": [
    "## Yield function return the elements from the generator function into generator objects"
   ]
  },
  {
   "cell_type": "code",
   "execution_count": 1,
   "id": "cf561207-d5b4-450c-8095-ddae98a910a8",
   "metadata": {},
   "outputs": [],
   "source": [
    "def test_fib(n):\n",
    "    a,b=0,1\n",
    "    for i in range(n):\n",
    "        yield a\n",
    "        a,b = b,a+b\n",
    "       "
   ]
  },
  {
   "cell_type": "code",
   "execution_count": null,
   "id": "76785efc-9b6c-4e90-9597-2825b277e40e",
   "metadata": {},
   "outputs": [],
   "source": []
  },
  {
   "cell_type": "code",
   "execution_count": 2,
   "id": "d80d84f3-90b7-4006-90b5-e46aca17f70a",
   "metadata": {},
   "outputs": [
    {
     "data": {
      "text/plain": [
       "<generator object test_fib at 0x7f7841d05bd0>"
      ]
     },
     "execution_count": 2,
     "metadata": {},
     "output_type": "execute_result"
    }
   ],
   "source": [
    "test_fib(5)"
   ]
  },
  {
   "cell_type": "code",
   "execution_count": 4,
   "id": "7ca2d951-78c4-4634-898e-83e78e94c9c8",
   "metadata": {},
   "outputs": [
    {
     "name": "stdout",
     "output_type": "stream",
     "text": [
      "0\n",
      "1\n",
      "1\n",
      "2\n",
      "3\n",
      "5\n",
      "8\n",
      "13\n",
      "21\n"
     ]
    }
   ],
   "source": [
    "for i in test_fib(9):\n",
    "    print(i)"
   ]
  },
  {
   "cell_type": "code",
   "execution_count": null,
   "id": "0c4b0f86-1e35-4f3c-8ab3-30db50e215d4",
   "metadata": {},
   "outputs": [],
   "source": []
  }
 ],
 "metadata": {
  "kernelspec": {
   "display_name": "Python 3 (ipykernel)",
   "language": "python",
   "name": "python3"
  },
  "language_info": {
   "codemirror_mode": {
    "name": "ipython",
    "version": 3
   },
   "file_extension": ".py",
   "mimetype": "text/x-python",
   "name": "python",
   "nbconvert_exporter": "python",
   "pygments_lexer": "ipython3",
   "version": "3.10.8"
  }
 },
 "nbformat": 4,
 "nbformat_minor": 5
}
