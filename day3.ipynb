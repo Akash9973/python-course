{
 "cells": [
  {
   "cell_type": "markdown",
   "id": "c7831ee4-edc1-4fea-98de-4d0c34826d56",
   "metadata": {},
   "source": [
    "# logical operators\n",
    "\n",
    "### 1.And\n",
    "### 2.or\n",
    "### 3.not"
   ]
  },
  {
   "cell_type": "code",
   "execution_count": 1,
   "id": "66fd5ead-22e5-40d0-9861-37b73ec2c685",
   "metadata": {},
   "outputs": [
    {
     "data": {
      "text/plain": [
       "True"
      ]
     },
     "execution_count": 1,
     "metadata": {},
     "output_type": "execute_result"
    }
   ],
   "source": [
    "True and True"
   ]
  },
  {
   "cell_type": "code",
   "execution_count": 2,
   "id": "95dae272-f11e-4dd7-9021-aac05e321175",
   "metadata": {},
   "outputs": [
    {
     "data": {
      "text/plain": [
       "False"
      ]
     },
     "execution_count": 2,
     "metadata": {},
     "output_type": "execute_result"
    }
   ],
   "source": [
    "True and False"
   ]
  },
  {
   "cell_type": "code",
   "execution_count": 4,
   "id": "e0039b0e-5d69-4416-8700-bea71d30f5ea",
   "metadata": {},
   "outputs": [
    {
     "data": {
      "text/plain": [
       "False"
      ]
     },
     "execution_count": 4,
     "metadata": {},
     "output_type": "execute_result"
    }
   ],
   "source": [
    "not True"
   ]
  },
  {
   "cell_type": "code",
   "execution_count": 5,
   "id": "1f218687-12a7-4bdc-92c7-dae392fbc8f5",
   "metadata": {},
   "outputs": [
    {
     "data": {
      "text/plain": [
       "True"
      ]
     },
     "execution_count": 5,
     "metadata": {},
     "output_type": "execute_result"
    }
   ],
   "source": [
    "bool(1)"
   ]
  },
  {
   "cell_type": "code",
   "execution_count": 6,
   "id": "1c3dde74-6932-41f2-9784-a155bb422fd9",
   "metadata": {},
   "outputs": [
    {
     "data": {
      "text/plain": [
       "False"
      ]
     },
     "execution_count": 6,
     "metadata": {},
     "output_type": "execute_result"
    }
   ],
   "source": [
    "not bool(1)"
   ]
  },
  {
   "cell_type": "code",
   "execution_count": 8,
   "id": "7720a738-7f78-4cb1-b45d-f1a208976a45",
   "metadata": {},
   "outputs": [
    {
     "data": {
      "text/plain": [
       "True"
      ]
     },
     "execution_count": 8,
     "metadata": {},
     "output_type": "execute_result"
    }
   ],
   "source": [
    "not int(bool(0))"
   ]
  },
  {
   "cell_type": "code",
   "execution_count": 32,
   "id": "ea409b23-3326-470d-9f76-c4208b4b5ff2",
   "metadata": {},
   "outputs": [
    {
     "data": {
      "text/plain": [
       "0"
      ]
     },
     "execution_count": 32,
     "metadata": {},
     "output_type": "execute_result"
    }
   ],
   "source": [
    "int(bool(0))"
   ]
  },
  {
   "cell_type": "code",
   "execution_count": 10,
   "id": "00ebaf7a-31d0-4cfe-8181-1ef5dfc3fbfd",
   "metadata": {},
   "outputs": [],
   "source": [
    "## note: 0 is always considered as FALSE whereas all the other numbers other than 0 is considered as TRUE "
   ]
  },
  {
   "cell_type": "code",
   "execution_count": 13,
   "id": "75ca06b4-efed-4b98-9eea-adcc6b409aa3",
   "metadata": {},
   "outputs": [
    {
     "data": {
      "text/plain": [
       "False"
      ]
     },
     "execution_count": 13,
     "metadata": {},
     "output_type": "execute_result"
    }
   ],
   "source": [
    "start=1\n",
    "stop=0\n",
    "\n",
    "(not start)"
   ]
  },
  {
   "cell_type": "code",
   "execution_count": 15,
   "id": "f75f2d9d-68b8-4f66-bbf5-d73ec2d89da7",
   "metadata": {},
   "outputs": [
    {
     "data": {
      "text/plain": [
       "True"
      ]
     },
     "execution_count": 16,
     "metadata": {},
     "output_type": "execute_result"
    }
   ],
   "source": [
    "bool(0)"
   ]
  },
  {
   "cell_type": "code",
   "execution_count": 21,
   "id": "6d99e4e4-0aea-45da-b5bd-510b66e967d2",
   "metadata": {},
   "outputs": [
    {
     "name": "stdout",
     "output_type": "stream",
     "text": [
      "False\n",
      "0\n",
      "True\n",
      "False\n",
      "True\n",
      "True\n"
     ]
    }
   ],
   "source": [
    "zero=0\n",
    "one=1\n",
    "\n",
    "print(bool(zero))\n",
    "print(int(bool(zero)))\n",
    "print(bool(one))\n",
    "print(not one)\n",
    "print(not zero)\n",
    "print(bool (not zero))\n"
   ]
  },
  {
   "cell_type": "code",
   "execution_count": 22,
   "id": "f56d6447-3205-42c1-ac90-1033054a80a3",
   "metadata": {},
   "outputs": [
    {
     "data": {
      "text/plain": [
       "True"
      ]
     },
     "execution_count": 22,
     "metadata": {},
     "output_type": "execute_result"
    }
   ],
   "source": [
    "bool(5)"
   ]
  },
  {
   "cell_type": "code",
   "execution_count": 24,
   "id": "dc330daa-af65-4e57-91c0-9e78f7b87618",
   "metadata": {},
   "outputs": [
    {
     "data": {
      "text/plain": [
       "False"
      ]
     },
     "execution_count": 24,
     "metadata": {},
     "output_type": "execute_result"
    }
   ],
   "source": [
    "bool (0)"
   ]
  },
  {
   "cell_type": "markdown",
   "id": "1a92e4ac-abdd-4972-bdd7-89be2c9745bf",
   "metadata": {},
   "source": [
    "### Logical AND"
   ]
  },
  {
   "cell_type": "code",
   "execution_count": 25,
   "id": "0ff3663a-c90d-48ea-8d5d-4b0bf701d14b",
   "metadata": {},
   "outputs": [
    {
     "data": {
      "text/plain": [
       "False"
      ]
     },
     "execution_count": 25,
     "metadata": {},
     "output_type": "execute_result"
    }
   ],
   "source": [
    "a=True\n",
    "b=False\n",
    "\n",
    "a and b"
   ]
  },
  {
   "cell_type": "code",
   "execution_count": 27,
   "id": "4114b88f-b6e9-4d4f-88c8-5a8d3d12c475",
   "metadata": {},
   "outputs": [
    {
     "data": {
      "text/plain": [
       "True"
      ]
     },
     "execution_count": 27,
     "metadata": {},
     "output_type": "execute_result"
    }
   ],
   "source": [
    " a*b"
   ]
  },
  {
   "cell_type": "code",
   "execution_count": 28,
   "id": "1ea88476-5c1c-4afe-870a-c40acd4c2123",
   "metadata": {},
   "outputs": [
    {
     "data": {
      "text/plain": [
       "True"
      ]
     },
     "execution_count": 28,
     "metadata": {},
     "output_type": "execute_result"
    }
   ],
   "source": [
    "not a * b"
   ]
  },
  {
   "cell_type": "code",
   "execution_count": 29,
   "id": "b1db8380-859b-49fc-88e8-35ebfef0cad3",
   "metadata": {},
   "outputs": [
    {
     "data": {
      "text/plain": [
       "1"
      ]
     },
     "execution_count": 29,
     "metadata": {},
     "output_type": "execute_result"
    }
   ],
   "source": [
    "int ( not a * b)"
   ]
  },
  {
   "cell_type": "code",
   "execution_count": 31,
   "id": "40827563-8685-4efd-b1a7-588dc1d9590b",
   "metadata": {},
   "outputs": [
    {
     "data": {
      "text/plain": [
       "1"
      ]
     },
     "execution_count": 31,
     "metadata": {},
     "output_type": "execute_result"
    }
   ],
   "source": [
    "True * True"
   ]
  },
  {
   "cell_type": "code",
   "execution_count": 40,
   "id": "6855d6b5-52e9-467a-8293-09cddb67d16e",
   "metadata": {},
   "outputs": [
    {
     "data": {
      "text/plain": [
       "0"
      ]
     },
     "execution_count": 40,
     "metadata": {},
     "output_type": "execute_result"
    }
   ],
   "source": [
    "False * True"
   ]
  },
  {
   "cell_type": "code",
   "execution_count": 41,
   "id": "186f7c78-9e61-4556-8b7e-182cb4dd9d05",
   "metadata": {},
   "outputs": [
    {
     "data": {
      "text/plain": [
       "True"
      ]
     },
     "execution_count": 41,
     "metadata": {},
     "output_type": "execute_result"
    }
   ],
   "source": [
    "not(False) * True  ##completely considering as a boolean operator (basically applying BODMAS rule)"
   ]
  },
  {
   "cell_type": "code",
   "execution_count": 42,
   "id": "53034972-ca11-410e-83dc-fbaaf776e25b",
   "metadata": {},
   "outputs": [
    {
     "data": {
      "text/plain": [
       "1"
      ]
     },
     "execution_count": 42,
     "metadata": {},
     "output_type": "execute_result"
    }
   ],
   "source": [
    "(not(False)) * True  ##not completely considering as a boolean operator"
   ]
  },
  {
   "cell_type": "code",
   "execution_count": 49,
   "id": "c7f57449-df10-49eb-b4a6-d1dba384c94f",
   "metadata": {},
   "outputs": [
    {
     "data": {
      "text/plain": [
       "0"
      ]
     },
     "execution_count": 49,
     "metadata": {},
     "output_type": "execute_result"
    }
   ],
   "source": [
    "int (False)"
   ]
  },
  {
   "cell_type": "code",
   "execution_count": 50,
   "id": "3a449cb8-85ce-412a-81e3-8b5b3cac76de",
   "metadata": {},
   "outputs": [
    {
     "data": {
      "text/plain": [
       "1"
      ]
     },
     "execution_count": 50,
     "metadata": {},
     "output_type": "execute_result"
    }
   ],
   "source": [
    "int (True) "
   ]
  },
  {
   "cell_type": "markdown",
   "id": "4def76d8-255a-41c3-9de1-81c2e1bd1dd0",
   "metadata": {},
   "source": [
    "## Equality operators\n",
    "\n",
    "#### 1. is\n",
    "#### 2. is not\n",
    "#### 3. ==\n",
    "#### 4. =!"
   ]
  },
  {
   "cell_type": "code",
   "execution_count": 51,
   "id": "79b0fffe-8575-4bc3-a8ae-fef4fa435cf9",
   "metadata": {},
   "outputs": [],
   "source": [
    "lst_1=[1,2,3,4]\n",
    "lst_2=[1,2,3,4]\n"
   ]
  },
  {
   "cell_type": "code",
   "execution_count": 53,
   "id": "d9474ca5-d47f-4c43-b900-2bd8935b3424",
   "metadata": {},
   "outputs": [
    {
     "name": "stdout",
     "output_type": "stream",
     "text": [
      "140594118182528\n",
      "140594483660672\n"
     ]
    }
   ],
   "source": [
    "print(id(lst_1))\n",
    "print(id(lst_2))"
   ]
  },
  {
   "cell_type": "code",
   "execution_count": 58,
   "id": "48bb7cbf-fbd4-4457-9ede-99b25da2564e",
   "metadata": {},
   "outputs": [
    {
     "data": {
      "text/plain": [
       "False"
      ]
     },
     "execution_count": 58,
     "metadata": {},
     "output_type": "execute_result"
    }
   ],
   "source": [
    "lst_1 is  lst_2 ## this will going o check list address as well as value inside it "
   ]
  },
  {
   "cell_type": "code",
   "execution_count": 57,
   "id": "b6eea854-cbc6-4c5a-a930-c838d6f21712",
   "metadata": {},
   "outputs": [
    {
     "data": {
      "text/plain": [
       "True"
      ]
     },
     "execution_count": 57,
     "metadata": {},
     "output_type": "execute_result"
    }
   ],
   "source": [
    "lst_1 == lst_2"
   ]
  },
  {
   "cell_type": "code",
   "execution_count": 59,
   "id": "8e097c4d-bad4-4391-82c7-5b58fe03fd04",
   "metadata": {},
   "outputs": [
    {
     "name": "stdout",
     "output_type": "stream",
     "text": [
      "140594601246992\n",
      "140594601246992\n"
     ]
    }
   ],
   "source": [
    "a=2\n",
    "b=2\n",
    "print(id(a))\n",
    "                    ##IT WILL GOING TO RETURN TO THE SAME MEMORY ADDRESS\n",
    "print(id(b))"
   ]
  },
  {
   "cell_type": "code",
   "execution_count": 60,
   "id": "f1fea884-0841-43ae-a49b-23094b2b9427",
   "metadata": {},
   "outputs": [],
   "source": [
    "c=3\n",
    "d=4"
   ]
  },
  {
   "cell_type": "code",
   "execution_count": 61,
   "id": "08fbe635-4785-4328-b340-b5c63171cb8d",
   "metadata": {},
   "outputs": [
    {
     "name": "stdout",
     "output_type": "stream",
     "text": [
      "140594601247024\n",
      "140594601247056\n"
     ]
    }
   ],
   "source": [
    "print(id(c))\n",
    "\n",
    "                    ##IT WILL NOT GOING TO RETURN TO THE SAME MEMORY ADDRESS\n",
    "print(id(d))\n",
    "\n"
   ]
  },
  {
   "cell_type": "markdown",
   "id": "bd38cdbc-3ee8-49d4-862c-538af47d3214",
   "metadata": {},
   "source": [
    "# string"
   ]
  },
  {
   "cell_type": "code",
   "execution_count": 1,
   "id": "034fc7d9-500b-4c8e-b96c-f1ef199d847a",
   "metadata": {},
   "outputs": [],
   "source": [
    "str1=\"Hello my nameis akash roy\""
   ]
  },
  {
   "cell_type": "code",
   "execution_count": 2,
   "id": "34ff56ce-b041-4d26-afdb-3bb4b4919fac",
   "metadata": {},
   "outputs": [
    {
     "data": {
      "text/plain": [
       "str"
      ]
     },
     "execution_count": 2,
     "metadata": {},
     "output_type": "execute_result"
    }
   ],
   "source": [
    "type(str1)"
   ]
  },
  {
   "cell_type": "code",
   "execution_count": 5,
   "id": "43577da7-9d80-49e0-bc90-4b71895a6a24",
   "metadata": {},
   "outputs": [
    {
     "data": {
      "text/plain": [
       "'m'"
      ]
     },
     "execution_count": 5,
     "metadata": {},
     "output_type": "execute_result"
    }
   ],
   "source": [
    "str1[6]"
   ]
  },
  {
   "cell_type": "code",
   "execution_count": 6,
   "id": "d2a39403-350a-4da1-94e7-324ea0568884",
   "metadata": {},
   "outputs": [],
   "source": [
    "## you can completely replace the string completely but cannot change the elements of the string"
   ]
  },
  {
   "cell_type": "code",
   "execution_count": 12,
   "id": "0ee7d612-6758-407e-ba8d-a4e7ed87b04a",
   "metadata": {},
   "outputs": [],
   "source": [
    "string=\"I love to learn \""
   ]
  },
  {
   "cell_type": "code",
   "execution_count": 14,
   "id": "6415ffe7-7a5a-493f-8150-bdec3623740a",
   "metadata": {},
   "outputs": [
    {
     "data": {
      "text/plain": [
       "' love to learn '"
      ]
     },
     "execution_count": 14,
     "metadata": {},
     "output_type": "execute_result"
    }
   ],
   "source": [
    "string[1:]"
   ]
  },
  {
   "cell_type": "code",
   "execution_count": 15,
   "id": "4d3271b6-2975-46cc-b320-10972b917450",
   "metadata": {},
   "outputs": [
    {
     "data": {
      "text/plain": [
       "'e to'"
      ]
     },
     "execution_count": 15,
     "metadata": {},
     "output_type": "execute_result"
    }
   ],
   "source": [
    "string[5:9]"
   ]
  },
  {
   "cell_type": "code",
   "execution_count": 17,
   "id": "2b471675-2aec-4a56-87e4-6d0030b0f4c0",
   "metadata": {},
   "outputs": [
    {
     "data": {
      "text/plain": [
       "'n'"
      ]
     },
     "execution_count": 17,
     "metadata": {},
     "output_type": "execute_result"
    }
   ],
   "source": [
    "string[-2]"
   ]
  },
  {
   "cell_type": "code",
   "execution_count": 18,
   "id": "71b16e14-2a51-4f8d-a82b-fa13e5aa7ac6",
   "metadata": {},
   "outputs": [
    {
     "data": {
      "text/plain": [
       "'earn '"
      ]
     },
     "execution_count": 18,
     "metadata": {},
     "output_type": "execute_result"
    }
   ],
   "source": [
    "string[-5:]"
   ]
  },
  {
   "cell_type": "code",
   "execution_count": 28,
   "id": "a1e2070d-3270-4fe9-a12b-506488d94c6d",
   "metadata": {},
   "outputs": [
    {
     "data": {
      "text/plain": [
       "'I love to lea'"
      ]
     },
     "execution_count": 28,
     "metadata": {},
     "output_type": "execute_result"
    }
   ],
   "source": [
    "string[: -3]"
   ]
  },
  {
   "cell_type": "code",
   "execution_count": 29,
   "id": "d5759314-0e66-45b6-a699-f9d95d69584e",
   "metadata": {},
   "outputs": [
    {
     "data": {
      "text/plain": [
       "' nrael ot evol I'"
      ]
     },
     "execution_count": 29,
     "metadata": {},
     "output_type": "execute_result"
    }
   ],
   "source": [
    "## for reversing the string\n",
    "string[::-1]"
   ]
  },
  {
   "cell_type": "code",
   "execution_count": 32,
   "id": "4c18d5f3-5cbc-4dcd-801b-cee8ddb55382",
   "metadata": {},
   "outputs": [
    {
     "data": {
      "text/plain": [
       "'et'"
      ]
     },
     "execution_count": 32,
     "metadata": {},
     "output_type": "execute_result"
    }
   ],
   "source": [
    "string[5:9:2]"
   ]
  },
  {
   "cell_type": "code",
   "execution_count": 33,
   "id": "e38b83af-a7e1-46db-a6ed-c5edbdf20052",
   "metadata": {},
   "outputs": [],
   "source": [
    "course_name=\"Data Science Master course\""
   ]
  },
  {
   "cell_type": "code",
   "execution_count": 36,
   "id": "0c9f48df-cba3-4344-91c2-de122e7fb6e1",
   "metadata": {},
   "outputs": [
    {
     "data": {
      "text/plain": [
       "' Science'"
      ]
     },
     "execution_count": 36,
     "metadata": {},
     "output_type": "execute_result"
    }
   ],
   "source": [
    "course_name[4:12]"
   ]
  },
  {
   "cell_type": "code",
   "execution_count": 51,
   "id": "74f7487b-8068-4a99-98d1-885f589ecbff",
   "metadata": {},
   "outputs": [
    {
     "data": {
      "text/plain": [
       "'ecneicS'"
      ]
     },
     "execution_count": 51,
     "metadata": {},
     "output_type": "execute_result"
    }
   ],
   "source": [
    "course_name[11:4:-1]"
   ]
  },
  {
   "cell_type": "code",
   "execution_count": 54,
   "id": "878ae6d8-ec2c-48ef-ba34-c32913bfe1c2",
   "metadata": {},
   "outputs": [
    {
     "data": {
      "text/plain": [
       "'Science'"
      ]
     },
     "execution_count": 54,
     "metadata": {},
     "output_type": "execute_result"
    }
   ],
   "source": [
    "course_name[-21:-14]"
   ]
  },
  {
   "cell_type": "code",
   "execution_count": 55,
   "id": "786733e6-f885-467f-8df3-b5c676d3ee51",
   "metadata": {},
   "outputs": [
    {
     "name": "stdout",
     "output_type": "stream",
     "text": [
      "Hello World\n"
     ]
    }
   ],
   "source": [
    "##concatanation\n",
    "print(\"Hello \"+\"World\" )"
   ]
  },
  {
   "cell_type": "code",
   "execution_count": 57,
   "id": "0abe1d8c-bc30-476e-88ca-15f2d5cf26b6",
   "metadata": {},
   "outputs": [
    {
     "data": {
      "text/plain": [
       "'hello hello hello hello hello hello '"
      ]
     },
     "execution_count": 57,
     "metadata": {},
     "output_type": "execute_result"
    }
   ],
   "source": [
    "\"hello \"*6"
   ]
  },
  {
   "cell_type": "code",
   "execution_count": 58,
   "id": "5438a69c-7043-4963-8d89-62207a52272a",
   "metadata": {},
   "outputs": [
    {
     "data": {
      "text/plain": [
       "26"
      ]
     },
     "execution_count": 58,
     "metadata": {},
     "output_type": "execute_result"
    }
   ],
   "source": [
    "## for finding thr length of the string\n",
    "len(course_name)"
   ]
  },
  {
   "cell_type": "code",
   "execution_count": 61,
   "id": "ad01513b-1bb4-42f7-8cf2-63865da651a1",
   "metadata": {},
   "outputs": [
    {
     "data": {
      "text/plain": [
       "5"
      ]
     },
     "execution_count": 61,
     "metadata": {},
     "output_type": "execute_result"
    }
   ],
   "source": [
    "course_name.find(\"Science\")"
   ]
  },
  {
   "cell_type": "code",
   "execution_count": 63,
   "id": "e47a92b3-aa20-4df3-901d-deccb48bd688",
   "metadata": {},
   "outputs": [
    {
     "data": {
      "text/plain": [
       "8"
      ]
     },
     "execution_count": 63,
     "metadata": {},
     "output_type": "execute_result"
    }
   ],
   "source": [
    "course_name.find(\"e\",5,9)  ## 5 and 9 show that you have to find element e between 5th index and 99th index"
   ]
  },
  {
   "cell_type": "code",
   "execution_count": 64,
   "id": "41a4fd35-c26f-44ef-8dfa-c82f013118d9",
   "metadata": {},
   "outputs": [
    {
     "data": {
      "text/plain": [
       "3"
      ]
     },
     "execution_count": 64,
     "metadata": {},
     "output_type": "execute_result"
    }
   ],
   "source": [
    "course_name.count(\"a\")"
   ]
  },
  {
   "cell_type": "code",
   "execution_count": 65,
   "id": "51d8bd1a-007e-4b2c-bb57-fb1888f0777d",
   "metadata": {},
   "outputs": [
    {
     "data": {
      "text/plain": [
       "3"
      ]
     },
     "execution_count": 65,
     "metadata": {},
     "output_type": "execute_result"
    }
   ],
   "source": [
    "course_name.count(\" \")"
   ]
  },
  {
   "cell_type": "code",
   "execution_count": 66,
   "id": "7432432d-6792-472b-a9f0-9616b742468b",
   "metadata": {},
   "outputs": [
    {
     "data": {
      "text/plain": [
       "1"
      ]
     },
     "execution_count": 66,
     "metadata": {},
     "output_type": "execute_result"
    }
   ],
   "source": [
    "course_name.count(\"e\",5,9)  "
   ]
  },
  {
   "cell_type": "code",
   "execution_count": 68,
   "id": "5a433a81-acaa-477a-af6b-5250e3f4c3dd",
   "metadata": {},
   "outputs": [
    {
     "data": {
      "text/plain": [
       "['Data', 'Science', 'Master', 'course']"
      ]
     },
     "execution_count": 68,
     "metadata": {},
     "output_type": "execute_result"
    }
   ],
   "source": [
    "course_name.split(\" \")"
   ]
  },
  {
   "cell_type": "code",
   "execution_count": 69,
   "id": "4d504c5c-aa32-47b7-9759-ce36fa7c0f56",
   "metadata": {},
   "outputs": [
    {
     "data": {
      "text/plain": [
       "'dATA sCIENCE mASTER COURSE'"
      ]
     },
     "execution_count": 69,
     "metadata": {},
     "output_type": "execute_result"
    }
   ],
   "source": [
    "## converting uppper case to lower case and vice versa\n",
    "course_name.swapcase()"
   ]
  },
  {
   "cell_type": "code",
   "execution_count": 70,
   "id": "e55af294-b3c5-4488-aabe-78df6662c070",
   "metadata": {},
   "outputs": [
    {
     "data": {
      "text/plain": [
       "'Data Science Master Course'"
      ]
     },
     "execution_count": 70,
     "metadata": {},
     "output_type": "execute_result"
    }
   ],
   "source": [
    "## every first letter will become a capital letter\n",
    "course_name.title()"
   ]
  },
  {
   "cell_type": "code",
   "execution_count": 71,
   "id": "06416ee6-5a25-471f-af8d-4c94c028e2e9",
   "metadata": {},
   "outputs": [
    {
     "data": {
      "text/plain": [
       "'Data science master course'"
      ]
     },
     "execution_count": 71,
     "metadata": {},
     "output_type": "execute_result"
    }
   ],
   "source": [
    "## only first letter will become a capital letter\n",
    "\n",
    "course_name.capitalize()"
   ]
  },
  {
   "cell_type": "code",
   "execution_count": null,
   "id": "25c94191-9b25-4df2-b5a2-973206f516f7",
   "metadata": {},
   "outputs": [],
   "source": []
  }
 ],
 "metadata": {
  "kernelspec": {
   "display_name": "Python 3 (ipykernel)",
   "language": "python",
   "name": "python3"
  },
  "language_info": {
   "codemirror_mode": {
    "name": "ipython",
    "version": 3
   },
   "file_extension": ".py",
   "mimetype": "text/x-python",
   "name": "python",
   "nbconvert_exporter": "python",
   "pygments_lexer": "ipython3",
   "version": "3.10.8"
  }
 },
 "nbformat": 4,
 "nbformat_minor": 5
}
