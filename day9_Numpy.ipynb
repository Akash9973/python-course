{
 "cells": [
  {
   "cell_type": "markdown",
   "id": "645eea9e-21d7-4c27-b6b2-3e96fd2bb562",
   "metadata": {},
   "source": [
    "# Numpy\n"
   ]
  },
  {
   "cell_type": "markdown",
   "id": "9e42809d-24dc-4a02-9d28-0422693c4b04",
   "metadata": {},
   "source": [
    "Numpy is a python library which is used for doing mathematical opeartions on arrays"
   ]
  },
  {
   "cell_type": "code",
   "execution_count": 1,
   "id": "ca0a5289-0558-457e-9c5a-6168348154b5",
   "metadata": {},
   "outputs": [],
   "source": [
    "import numpy as np"
   ]
  },
  {
   "cell_type": "code",
   "execution_count": 2,
   "id": "96869191-2404-4a49-9813-c5f448747ea0",
   "metadata": {},
   "outputs": [],
   "source": [
    "l = [1,2,3,4,5]"
   ]
  },
  {
   "cell_type": "code",
   "execution_count": 3,
   "id": "47c65f94-5777-472b-85f5-d902d169758a",
   "metadata": {},
   "outputs": [],
   "source": [
    "arr = np.array(l)"
   ]
  },
  {
   "cell_type": "code",
   "execution_count": 4,
   "id": "d02f71cb-7053-4868-9d6f-8e368b11e5ab",
   "metadata": {},
   "outputs": [
    {
     "data": {
      "text/plain": [
       "array([1, 2, 3, 4, 5])"
      ]
     },
     "execution_count": 4,
     "metadata": {},
     "output_type": "execute_result"
    }
   ],
   "source": [
    "arr"
   ]
  },
  {
   "cell_type": "code",
   "execution_count": 5,
   "id": "5893300d-bab1-49f0-8664-05675888b970",
   "metadata": {},
   "outputs": [
    {
     "data": {
      "text/plain": [
       "numpy.ndarray"
      ]
     },
     "execution_count": 5,
     "metadata": {},
     "output_type": "execute_result"
    }
   ],
   "source": [
    "type(arr)  ## ndarray array means it is an n dimensional array "
   ]
  },
  {
   "cell_type": "code",
   "execution_count": 6,
   "id": "5f0a4b7b-456b-4b2e-b160-71d681ba6a78",
   "metadata": {},
   "outputs": [
    {
     "data": {
      "text/plain": [
       "array([1, 2, 3, 4, 5])"
      ]
     },
     "execution_count": 6,
     "metadata": {},
     "output_type": "execute_result"
    }
   ],
   "source": [
    "np.asarray(l)"
   ]
  },
  {
   "cell_type": "code",
   "execution_count": 7,
   "id": "83120ba0-0750-4621-83ee-533cb22a2910",
   "metadata": {},
   "outputs": [],
   "source": [
    "arr1 = np.array([[1,2,3] , [4,5,6]])"
   ]
  },
  {
   "cell_type": "code",
   "execution_count": 8,
   "id": "1e3b4ed2-b242-4b44-9d03-48849d501083",
   "metadata": {},
   "outputs": [
    {
     "data": {
      "text/plain": [
       "1"
      ]
     },
     "execution_count": 8,
     "metadata": {},
     "output_type": "execute_result"
    }
   ],
   "source": [
    "arr.ndim  ## This is used to give the dimension of the array"
   ]
  },
  {
   "cell_type": "code",
   "execution_count": 9,
   "id": "a4ae435d-a0b8-4159-9931-12ecb5b9db16",
   "metadata": {},
   "outputs": [
    {
     "data": {
      "text/plain": [
       "2"
      ]
     },
     "execution_count": 9,
     "metadata": {},
     "output_type": "execute_result"
    }
   ],
   "source": [
    "arr1.ndim"
   ]
  },
  {
   "cell_type": "code",
   "execution_count": 10,
   "id": "4a23ce49-5fe3-44cf-b4e4-8eb7c10fc02e",
   "metadata": {},
   "outputs": [
    {
     "data": {
      "text/plain": [
       "array([[1, 2, 3],\n",
       "       [4, 5, 6]])"
      ]
     },
     "execution_count": 10,
     "metadata": {},
     "output_type": "execute_result"
    }
   ],
   "source": [
    "arr1"
   ]
  },
  {
   "cell_type": "code",
   "execution_count": 11,
   "id": "12f6b372-3476-4d5b-b34d-bc1fc34b0d65",
   "metadata": {},
   "outputs": [],
   "source": [
    "mat=np.matrix(l)  ## This will give the matrix habving minimum dimension of 2"
   ]
  },
  {
   "cell_type": "markdown",
   "id": "3ff20c42-2e36-42db-8e9f-df2c6a4e539a",
   "metadata": {},
   "source": [
    "Matrix is basically a subclass of array"
   ]
  },
  {
   "cell_type": "code",
   "execution_count": 12,
   "id": "a9fd4ab6-afbe-40a6-b82c-93d2694aa961",
   "metadata": {},
   "outputs": [
    {
     "data": {
      "text/plain": [
       "array([1, 2, 3, 4, 5])"
      ]
     },
     "execution_count": 12,
     "metadata": {},
     "output_type": "execute_result"
    }
   ],
   "source": [
    "np.asanyarray(l)  ## asanyarray is a function which is used to create any parameter into an array. But it unable to convert matrix into an array because matrix is a sub class of array. "
   ]
  },
  {
   "cell_type": "code",
   "execution_count": 13,
   "id": "566d69a6-d1c7-4dff-bad3-0b7b9413db42",
   "metadata": {},
   "outputs": [
    {
     "data": {
      "text/plain": [
       "matrix([[1, 2, 3, 4, 5]])"
      ]
     },
     "execution_count": 13,
     "metadata": {},
     "output_type": "execute_result"
    }
   ],
   "source": [
    "np.asanyarray(mat)"
   ]
  },
  {
   "cell_type": "markdown",
   "id": "1870e480-c651-4e10-8b02-d9dc8295e155",
   "metadata": {},
   "source": [
    "## Solo copy  "
   ]
  },
  {
   "cell_type": "markdown",
   "id": "188cd50d-2eab-4085-953b-a9149e5f36ea",
   "metadata": {},
   "source": [
    "In a solo copy it is not copying the array entirely but giving the new reference."
   ]
  },
  {
   "cell_type": "code",
   "execution_count": 14,
   "id": "95851192-a7d7-4055-9db6-9ff67b7739e3",
   "metadata": {},
   "outputs": [],
   "source": [
    "a=arr"
   ]
  },
  {
   "cell_type": "code",
   "execution_count": 15,
   "id": "98facb99-521c-4981-ac50-53a3fc2d5682",
   "metadata": {},
   "outputs": [
    {
     "data": {
      "text/plain": [
       "array([1, 2, 3, 4, 5])"
      ]
     },
     "execution_count": 15,
     "metadata": {},
     "output_type": "execute_result"
    }
   ],
   "source": [
    "a"
   ]
  },
  {
   "cell_type": "code",
   "execution_count": 16,
   "id": "0b96d986-26ca-47a3-8aaf-d01360f7e4e1",
   "metadata": {},
   "outputs": [],
   "source": [
    "arr[0]=100"
   ]
  },
  {
   "cell_type": "code",
   "execution_count": 17,
   "id": "995233e9-8672-4862-8cfc-fbfd68c9bd95",
   "metadata": {},
   "outputs": [
    {
     "data": {
      "text/plain": [
       "array([100,   2,   3,   4,   5])"
      ]
     },
     "execution_count": 17,
     "metadata": {},
     "output_type": "execute_result"
    }
   ],
   "source": [
    "arr"
   ]
  },
  {
   "cell_type": "code",
   "execution_count": 18,
   "id": "e23dfdd4-98f0-4eef-b548-047430e98618",
   "metadata": {},
   "outputs": [
    {
     "data": {
      "text/plain": [
       "array([100,   2,   3,   4,   5])"
      ]
     },
     "execution_count": 18,
     "metadata": {},
     "output_type": "execute_result"
    }
   ],
   "source": [
    "a"
   ]
  },
  {
   "cell_type": "markdown",
   "id": "776f0e5f-8c48-4d75-af8d-38d4a1a54c04",
   "metadata": {},
   "source": [
    "In the above example as you change the a then arr also changes"
   ]
  },
  {
   "cell_type": "markdown",
   "id": "81a0d23a-f086-4656-9d80-2cbd242690a0",
   "metadata": {},
   "source": [
    "## copy"
   ]
  },
  {
   "cell_type": "code",
   "execution_count": 19,
   "id": "b928eb61-8c1d-47d3-b642-9870582dfc1a",
   "metadata": {},
   "outputs": [],
   "source": [
    "b = np.copy(arr)  ## In a copy a new data set of arr is created and whatever change in b will not going to affect the previous one"
   ]
  },
  {
   "cell_type": "code",
   "execution_count": 20,
   "id": "fc802350-f707-4936-a3ea-97d95f2d40f4",
   "metadata": {},
   "outputs": [
    {
     "data": {
      "text/plain": [
       "array([100,   2,   3,   4,   5])"
      ]
     },
     "execution_count": 20,
     "metadata": {},
     "output_type": "execute_result"
    }
   ],
   "source": [
    "b"
   ]
  },
  {
   "cell_type": "code",
   "execution_count": 21,
   "id": "9ba3adcc-7647-446d-a7da-8670f7e516ed",
   "metadata": {},
   "outputs": [],
   "source": [
    "b[0]= 50"
   ]
  },
  {
   "cell_type": "code",
   "execution_count": 22,
   "id": "9bbaa43d-da7c-4309-b4f7-3560d0b94f6f",
   "metadata": {},
   "outputs": [
    {
     "data": {
      "text/plain": [
       "array([50,  2,  3,  4,  5])"
      ]
     },
     "execution_count": 22,
     "metadata": {},
     "output_type": "execute_result"
    }
   ],
   "source": [
    "b"
   ]
  },
  {
   "cell_type": "code",
   "execution_count": 23,
   "id": "0b0ce002-55a8-4256-b568-70f46ae19425",
   "metadata": {},
   "outputs": [
    {
     "data": {
      "text/plain": [
       "array([100,   2,   3,   4,   5])"
      ]
     },
     "execution_count": 23,
     "metadata": {},
     "output_type": "execute_result"
    }
   ],
   "source": [
    "arr"
   ]
  },
  {
   "cell_type": "code",
   "execution_count": 24,
   "id": "229a684a-2e5d-4382-a00a-4cf7229aa38d",
   "metadata": {},
   "outputs": [
    {
     "data": {
      "text/plain": [
       "array([[ True, False, False, False],\n",
       "       [False,  True, False, False],\n",
       "       [False, False,  True, False],\n",
       "       [False, False, False,  True]])"
      ]
     },
     "execution_count": 24,
     "metadata": {},
     "output_type": "execute_result"
    }
   ],
   "source": [
    "np.fromfunction(lambda i,j: (i==j), (4,4))"
   ]
  },
  {
   "cell_type": "code",
   "execution_count": 25,
   "id": "b5a4a0e9-4842-4d28-87ef-6fc726a5fe8e",
   "metadata": {},
   "outputs": [
    {
     "data": {
      "text/plain": [
       "array([[0., 0., 0., 0.],\n",
       "       [0., 1., 2., 3.],\n",
       "       [0., 2., 4., 6.],\n",
       "       [0., 3., 6., 9.]])"
      ]
     },
     "execution_count": 25,
     "metadata": {},
     "output_type": "execute_result"
    }
   ],
   "source": [
    "np.fromfunction(lambda i,j: (i*j), (4,4))"
   ]
  },
  {
   "cell_type": "code",
   "execution_count": 26,
   "id": "ff3fde01-33bd-448b-b13b-422c39b2fc4c",
   "metadata": {},
   "outputs": [
    {
     "data": {
      "text/plain": [
       "[0, 1, 4, 9, 16]"
      ]
     },
     "execution_count": 26,
     "metadata": {},
     "output_type": "execute_result"
    }
   ],
   "source": [
    "list(i*i for i in range(5)) "
   ]
  },
  {
   "cell_type": "code",
   "execution_count": 27,
   "id": "f2074f51-ce22-4ab3-9b7d-2c7f37a9bee3",
   "metadata": {},
   "outputs": [],
   "source": [
    "sq = (i*i for i in range(5))"
   ]
  },
  {
   "cell_type": "code",
   "execution_count": 28,
   "id": "a0799fbd-2509-48b6-accb-63e67dac2824",
   "metadata": {},
   "outputs": [
    {
     "data": {
      "text/plain": [
       "array([ 0.,  1.,  4.,  9., 16.])"
      ]
     },
     "execution_count": 28,
     "metadata": {},
     "output_type": "execute_result"
    }
   ],
   "source": [
    "np.fromiter(sq,float) ## it converts into array by iteration"
   ]
  },
  {
   "cell_type": "code",
   "execution_count": 29,
   "id": "401ff52c-adc8-4a60-b64f-427ac6ea3455",
   "metadata": {},
   "outputs": [
    {
     "data": {
      "text/plain": [
       "array([12., 14., 15.])"
      ]
     },
     "execution_count": 29,
     "metadata": {},
     "output_type": "execute_result"
    }
   ],
   "source": [
    "np.fromstring('12 14 15', sep=' ')"
   ]
  },
  {
   "cell_type": "code",
   "execution_count": 30,
   "id": "d52aabef-3e3a-4c70-8f2b-6e696ef348f9",
   "metadata": {},
   "outputs": [
    {
     "data": {
      "text/plain": [
       "array([12., 14., 15.])"
      ]
     },
     "execution_count": 30,
     "metadata": {},
     "output_type": "execute_result"
    }
   ],
   "source": [
    "np.fromstring('12,14,15', sep=',')"
   ]
  },
  {
   "cell_type": "code",
   "execution_count": 31,
   "id": "9a5f6a7a-ccbf-4098-93fd-c6cdb5316ced",
   "metadata": {},
   "outputs": [
    {
     "data": {
      "text/plain": [
       "array([100,   2,   3,   4,   5])"
      ]
     },
     "execution_count": 31,
     "metadata": {},
     "output_type": "execute_result"
    }
   ],
   "source": [
    "arr"
   ]
  },
  {
   "cell_type": "code",
   "execution_count": 32,
   "id": "f65573a2-772e-4100-82e9-03c5a003bcc5",
   "metadata": {},
   "outputs": [
    {
     "data": {
      "text/plain": [
       "1"
      ]
     },
     "execution_count": 32,
     "metadata": {},
     "output_type": "execute_result"
    }
   ],
   "source": [
    "arr.ndim"
   ]
  },
  {
   "cell_type": "code",
   "execution_count": 33,
   "id": "e7c070b3-9261-4e36-af40-ab383c8eddb7",
   "metadata": {},
   "outputs": [
    {
     "data": {
      "text/plain": [
       "5"
      ]
     },
     "execution_count": 33,
     "metadata": {},
     "output_type": "execute_result"
    }
   ],
   "source": [
    "arr.size"
   ]
  },
  {
   "cell_type": "code",
   "execution_count": 34,
   "id": "02d9e9d0-f197-4baa-bc7b-50aab2178339",
   "metadata": {},
   "outputs": [
    {
     "data": {
      "text/plain": [
       "array([[1, 2, 3],\n",
       "       [4, 5, 6]])"
      ]
     },
     "execution_count": 34,
     "metadata": {},
     "output_type": "execute_result"
    }
   ],
   "source": [
    "arr1"
   ]
  },
  {
   "cell_type": "code",
   "execution_count": 35,
   "id": "13e75fa5-9b9f-415a-be4f-fd5e4df1ca43",
   "metadata": {},
   "outputs": [
    {
     "data": {
      "text/plain": [
       "2"
      ]
     },
     "execution_count": 35,
     "metadata": {},
     "output_type": "execute_result"
    }
   ],
   "source": [
    "arr1.ndim"
   ]
  },
  {
   "cell_type": "code",
   "execution_count": 36,
   "id": "f6e36c28-e706-4f5d-b97f-1dc24b0a37f7",
   "metadata": {},
   "outputs": [
    {
     "data": {
      "text/plain": [
       "6"
      ]
     },
     "execution_count": 36,
     "metadata": {},
     "output_type": "execute_result"
    }
   ],
   "source": [
    "arr1.size"
   ]
  },
  {
   "cell_type": "code",
   "execution_count": 37,
   "id": "a68d2e4b-222d-47c6-b4e2-d988252fcd70",
   "metadata": {},
   "outputs": [
    {
     "data": {
      "text/plain": [
       "[0, 1, 2, 3, 4]"
      ]
     },
     "execution_count": 37,
     "metadata": {},
     "output_type": "execute_result"
    }
   ],
   "source": [
    "list(range(5))"
   ]
  },
  {
   "cell_type": "code",
   "execution_count": 38,
   "id": "be0e74da-3398-486d-befa-767859d0f81b",
   "metadata": {},
   "outputs": [
    {
     "data": {
      "text/plain": [
       "[5, 7, 9, 11, 13]"
      ]
     },
     "execution_count": 38,
     "metadata": {},
     "output_type": "execute_result"
    }
   ],
   "source": [
    "list(range(5,15,2))"
   ]
  },
  {
   "cell_type": "code",
   "execution_count": 40,
   "id": "830769f2-47e6-44e4-a236-3930aeaf17d7",
   "metadata": {},
   "outputs": [
    {
     "ename": "TypeError",
     "evalue": "'float' object cannot be interpreted as an integer",
     "output_type": "error",
     "traceback": [
      "\u001b[0;31m---------------------------------------------------------------------------\u001b[0m",
      "\u001b[0;31mTypeError\u001b[0m                                 Traceback (most recent call last)",
      "Cell \u001b[0;32mIn[40], line 1\u001b[0m\n\u001b[0;32m----> 1\u001b[0m \u001b[38;5;28mlist\u001b[39m(\u001b[38;5;28;43mrange\u001b[39;49m\u001b[43m(\u001b[49m\u001b[38;5;241;43m0.55\u001b[39;49m\u001b[43m,\u001b[49m\u001b[38;5;241;43m15\u001b[39;49m\u001b[43m,\u001b[49m\u001b[38;5;241;43m2\u001b[39;49m\u001b[43m)\u001b[49m)  \u001b[38;5;66;03m## it giving error because range function can never be a floating value\u001b[39;00m\n",
      "\u001b[0;31mTypeError\u001b[0m: 'float' object cannot be interpreted as an integer"
     ]
    }
   ],
   "source": [
    "list(range(0.55,15,2))  ## it giving error because range function can never be a floating value"
   ]
  },
  {
   "cell_type": "code",
   "execution_count": 41,
   "id": "91db1898-31a0-424a-afbe-b4bbe1130c1b",
   "metadata": {},
   "outputs": [
    {
     "data": {
      "text/plain": [
       "array([0.2, 0.6, 1. , 1.4, 1.8, 2.2, 2.6, 3. , 3.4, 3.8, 4.2, 4.6, 5. ,\n",
       "       5.4, 5.8, 6.2, 6.6, 7. , 7.4, 7.8, 8.2, 8.6, 9. , 9.4, 9.8])"
      ]
     },
     "execution_count": 41,
     "metadata": {},
     "output_type": "execute_result"
    }
   ],
   "source": [
    "## for making a floating number  ## it will start from 0.2 and goes upto 10 with the skip of 0.4\n",
    "np.arange(0.2,10,0.4)\n"
   ]
  },
  {
   "cell_type": "code",
   "execution_count": 42,
   "id": "ee32b4cf-ef0c-450b-ae8f-9bd730f90c7b",
   "metadata": {},
   "outputs": [
    {
     "data": {
      "text/plain": [
       "[0.2,\n",
       " 0.6000000000000001,\n",
       " 1.0000000000000002,\n",
       " 1.4000000000000001,\n",
       " 1.8000000000000003,\n",
       " 2.2000000000000006,\n",
       " 2.6000000000000005,\n",
       " 3.000000000000001,\n",
       " 3.400000000000001,\n",
       " 3.8000000000000007,\n",
       " 4.200000000000001,\n",
       " 4.600000000000001,\n",
       " 5.000000000000001,\n",
       " 5.400000000000001,\n",
       " 5.800000000000002,\n",
       " 6.200000000000001,\n",
       " 6.600000000000001,\n",
       " 7.000000000000002,\n",
       " 7.400000000000001,\n",
       " 7.800000000000002,\n",
       " 8.200000000000001,\n",
       " 8.600000000000001,\n",
       " 9.000000000000002,\n",
       " 9.4,\n",
       " 9.8]"
      ]
     },
     "execution_count": 42,
     "metadata": {},
     "output_type": "execute_result"
    }
   ],
   "source": [
    "list(np.arange(0.2,10,0.4))"
   ]
  },
  {
   "cell_type": "code",
   "execution_count": 43,
   "id": "74dab440-7e07-4be0-855c-3dfbdb4d81ef",
   "metadata": {},
   "outputs": [
    {
     "data": {
      "text/plain": [
       "array([1.        , 1.05263158, 1.10526316, 1.15789474, 1.21052632,\n",
       "       1.26315789, 1.31578947, 1.36842105, 1.42105263, 1.47368421,\n",
       "       1.52631579, 1.57894737, 1.63157895, 1.68421053, 1.73684211,\n",
       "       1.78947368, 1.84210526, 1.89473684, 1.94736842, 2.        ])"
      ]
     },
     "execution_count": 43,
     "metadata": {},
     "output_type": "execute_result"
    }
   ],
   "source": [
    "np.linspace(1,2,20)  ## it will going to find the value between 1 and 2 into 20 parts equally"
   ]
  },
  {
   "cell_type": "code",
   "execution_count": 44,
   "id": "c2f2af92-d70c-4271-b629-79b49ab5f2b8",
   "metadata": {},
   "outputs": [
    {
     "data": {
      "text/plain": [
       "array([ 2.        ,  2.72158   ,  3.70349885,  5.0396842 ,  6.85795186,\n",
       "        9.33223232, 12.69920842, 17.28095582, 23.51575188, 32.        ])"
      ]
     },
     "execution_count": 44,
     "metadata": {},
     "output_type": "execute_result"
    }
   ],
   "source": [
    "np.logspace(1,5,10,base=2)"
   ]
  },
  {
   "cell_type": "code",
   "execution_count": 45,
   "id": "16435a21-3c3c-4b05-952a-a037d2af77ab",
   "metadata": {},
   "outputs": [
    {
     "data": {
      "text/plain": [
       "array([0., 0., 0., 0., 0.])"
      ]
     },
     "execution_count": 45,
     "metadata": {},
     "output_type": "execute_result"
    }
   ],
   "source": [
    "np.zeros(5)"
   ]
  },
  {
   "cell_type": "code",
   "execution_count": 46,
   "id": "0eb8d5e0-65f9-49fb-bc34-0bed5aefda92",
   "metadata": {},
   "outputs": [
    {
     "data": {
      "text/plain": [
       "array([[[0., 0., 0., 0., 0.],\n",
       "        [0., 0., 0., 0., 0.],\n",
       "        [0., 0., 0., 0., 0.],\n",
       "        [0., 0., 0., 0., 0.]],\n",
       "\n",
       "       [[0., 0., 0., 0., 0.],\n",
       "        [0., 0., 0., 0., 0.],\n",
       "        [0., 0., 0., 0., 0.],\n",
       "        [0., 0., 0., 0., 0.]],\n",
       "\n",
       "       [[0., 0., 0., 0., 0.],\n",
       "        [0., 0., 0., 0., 0.],\n",
       "        [0., 0., 0., 0., 0.],\n",
       "        [0., 0., 0., 0., 0.]]])"
      ]
     },
     "execution_count": 46,
     "metadata": {},
     "output_type": "execute_result"
    }
   ],
   "source": [
    "np.zeros((3,4,5))"
   ]
  },
  {
   "cell_type": "code",
   "execution_count": 47,
   "id": "fabdd725-9a3c-4016-b0b0-88bdfcb85585",
   "metadata": {},
   "outputs": [
    {
     "data": {
      "text/plain": [
       "array([1., 1., 1., 1.])"
      ]
     },
     "execution_count": 47,
     "metadata": {},
     "output_type": "execute_result"
    }
   ],
   "source": [
    "np.ones(4)"
   ]
  },
  {
   "cell_type": "code",
   "execution_count": 48,
   "id": "ece52d52-2dfd-472d-b177-ee93a00a721a",
   "metadata": {},
   "outputs": [
    {
     "data": {
      "text/plain": [
       "array([[1., 1., 1.],\n",
       "       [1., 1., 1.]])"
      ]
     },
     "execution_count": 48,
     "metadata": {},
     "output_type": "execute_result"
    }
   ],
   "source": [
    "np.ones((2,3))"
   ]
  },
  {
   "cell_type": "code",
   "execution_count": 49,
   "id": "45391a51-7d80-4492-b199-8342a3031f39",
   "metadata": {},
   "outputs": [
    {
     "data": {
      "text/plain": [
       "array([[1., 0., 0.],\n",
       "       [0., 1., 0.],\n",
       "       [0., 0., 1.]])"
      ]
     },
     "execution_count": 49,
     "metadata": {},
     "output_type": "execute_result"
    }
   ],
   "source": [
    "np.eye(3)"
   ]
  },
  {
   "cell_type": "code",
   "execution_count": 50,
   "id": "8db3700b-beaf-42c7-9a79-ef235138e109",
   "metadata": {},
   "outputs": [],
   "source": [
    "import pandas as pd"
   ]
  },
  {
   "cell_type": "code",
   "execution_count": 51,
   "id": "f305b37d-699b-4b18-b219-2581ad5d4f69",
   "metadata": {},
   "outputs": [
    {
     "data": {
      "text/html": [
       "<div>\n",
       "<style scoped>\n",
       "    .dataframe tbody tr th:only-of-type {\n",
       "        vertical-align: middle;\n",
       "    }\n",
       "\n",
       "    .dataframe tbody tr th {\n",
       "        vertical-align: top;\n",
       "    }\n",
       "\n",
       "    .dataframe thead th {\n",
       "        text-align: right;\n",
       "    }\n",
       "</style>\n",
       "<table border=\"1\" class=\"dataframe\">\n",
       "  <thead>\n",
       "    <tr style=\"text-align: right;\">\n",
       "      <th></th>\n",
       "      <th>df</th>\n",
       "      <th>de</th>\n",
       "      <th>gt</th>\n",
       "      <th>hy</th>\n",
       "      <th>vv</th>\n",
       "    </tr>\n",
       "  </thead>\n",
       "  <tbody>\n",
       "    <tr>\n",
       "      <th>a</th>\n",
       "      <td>1.0</td>\n",
       "      <td>0.0</td>\n",
       "      <td>0.0</td>\n",
       "      <td>0.0</td>\n",
       "      <td>0.0</td>\n",
       "    </tr>\n",
       "    <tr>\n",
       "      <th>b</th>\n",
       "      <td>0.0</td>\n",
       "      <td>1.0</td>\n",
       "      <td>0.0</td>\n",
       "      <td>0.0</td>\n",
       "      <td>0.0</td>\n",
       "    </tr>\n",
       "    <tr>\n",
       "      <th>c</th>\n",
       "      <td>0.0</td>\n",
       "      <td>0.0</td>\n",
       "      <td>1.0</td>\n",
       "      <td>0.0</td>\n",
       "      <td>0.0</td>\n",
       "    </tr>\n",
       "    <tr>\n",
       "      <th>d</th>\n",
       "      <td>0.0</td>\n",
       "      <td>0.0</td>\n",
       "      <td>0.0</td>\n",
       "      <td>1.0</td>\n",
       "      <td>0.0</td>\n",
       "    </tr>\n",
       "    <tr>\n",
       "      <th>e</th>\n",
       "      <td>0.0</td>\n",
       "      <td>0.0</td>\n",
       "      <td>0.0</td>\n",
       "      <td>0.0</td>\n",
       "      <td>1.0</td>\n",
       "    </tr>\n",
       "  </tbody>\n",
       "</table>\n",
       "</div>"
      ],
      "text/plain": [
       "    df   de   gt   hy   vv\n",
       "a  1.0  0.0  0.0  0.0  0.0\n",
       "b  0.0  1.0  0.0  0.0  0.0\n",
       "c  0.0  0.0  1.0  0.0  0.0\n",
       "d  0.0  0.0  0.0  1.0  0.0\n",
       "e  0.0  0.0  0.0  0.0  1.0"
      ]
     },
     "execution_count": 51,
     "metadata": {},
     "output_type": "execute_result"
    }
   ],
   "source": [
    "pd.DataFrame(np.eye(5), index = ['a','b','c','d','e'],columns=['df','de','gt','hy','vv'])"
   ]
  },
  {
   "cell_type": "code",
   "execution_count": 52,
   "id": "95691ce6-3fac-41fa-8363-02cb6e06bbc2",
   "metadata": {},
   "outputs": [
    {
     "data": {
      "text/plain": [
       "array([[0.26291522, 0.67382787, 0.97003422],\n",
       "       [0.63209302, 0.24610185, 0.49511758],\n",
       "       [0.28266943, 0.81426003, 0.90374238]])"
      ]
     },
     "execution_count": 52,
     "metadata": {},
     "output_type": "execute_result"
    }
   ],
   "source": [
    "np.random.rand(3,3)  ## random.rand  gives the array of any number of given range"
   ]
  },
  {
   "cell_type": "code",
   "execution_count": 53,
   "id": "cef6b482-ce10-4bcb-b9ed-70e28d6fe61e",
   "metadata": {},
   "outputs": [
    {
     "data": {
      "text/plain": [
       "array([[-1.62210344, -0.97921337, -0.00640053],\n",
       "       [-0.7432113 , -0.70975216,  0.4618365 ],\n",
       "       [-1.05686082,  0.29591855, -0.30057031]])"
      ]
     },
     "execution_count": 53,
     "metadata": {},
     "output_type": "execute_result"
    }
   ],
   "source": [
    "np.random.randn(3,3)   ## random.rand  gives the array of any number of given range but its mean and std deviation is always one"
   ]
  },
  {
   "cell_type": "code",
   "execution_count": 54,
   "id": "711d87c5-2278-49f0-9686-1bdc66f26c1e",
   "metadata": {},
   "outputs": [],
   "source": [
    "arr2=np.random.randint(7,9, (4,4)) ## it will give the matrix of 4x4 whose all values lies between 7 and 9"
   ]
  },
  {
   "cell_type": "code",
   "execution_count": 55,
   "id": "61c3ea84-7ceb-4f3c-99e1-e70dd210adf0",
   "metadata": {},
   "outputs": [
    {
     "data": {
      "text/plain": [
       "array([[1.62210344, 0.97921337, 0.00640053],\n",
       "       [0.7432113 , 0.70975216, 0.4618365 ],\n",
       "       [1.05686082, 0.29591855, 0.30057031]])"
      ]
     },
     "execution_count": 55,
     "metadata": {},
     "output_type": "execute_result"
    }
   ],
   "source": [
    "np.empty((3,3))\n"
   ]
  },
  {
   "cell_type": "code",
   "execution_count": 56,
   "id": "85cb2b75-20f9-43d3-90e8-1082fd87484e",
   "metadata": {},
   "outputs": [
    {
     "data": {
      "text/plain": [
       "array([[8, 7, 7, 8],\n",
       "       [8, 7, 8, 7],\n",
       "       [7, 8, 7, 8],\n",
       "       [7, 8, 7, 7]])"
      ]
     },
     "execution_count": 56,
     "metadata": {},
     "output_type": "execute_result"
    }
   ],
   "source": [
    "arr2"
   ]
  },
  {
   "cell_type": "code",
   "execution_count": 57,
   "id": "ecc008cf-8668-41f4-8f12-1a6ac37361c9",
   "metadata": {},
   "outputs": [
    {
     "data": {
      "text/plain": [
       "16"
      ]
     },
     "execution_count": 57,
     "metadata": {},
     "output_type": "execute_result"
    }
   ],
   "source": [
    "arr2.size"
   ]
  },
  {
   "cell_type": "code",
   "execution_count": 58,
   "id": "c74d90c7-e355-47f0-b859-fb7e7553b5aa",
   "metadata": {},
   "outputs": [
    {
     "data": {
      "text/plain": [
       "(4, 4)"
      ]
     },
     "execution_count": 58,
     "metadata": {},
     "output_type": "execute_result"
    }
   ],
   "source": [
    "arr2.shape"
   ]
  },
  {
   "cell_type": "code",
   "execution_count": 59,
   "id": "bec1b7ad-48fe-4567-8f6b-5f3d72643175",
   "metadata": {},
   "outputs": [
    {
     "data": {
      "text/plain": [
       "array([[8, 7, 7, 8, 8, 7, 8, 7],\n",
       "       [7, 8, 7, 8, 7, 8, 7, 7]])"
      ]
     },
     "execution_count": 59,
     "metadata": {},
     "output_type": "execute_result"
    }
   ],
   "source": [
    "arr2.reshape(2,8)"
   ]
  },
  {
   "cell_type": "code",
   "execution_count": 60,
   "id": "5736ed13-6655-4804-bf1f-5def68350721",
   "metadata": {},
   "outputs": [
    {
     "data": {
      "text/plain": [
       "array([[8, 7],\n",
       "       [7, 8],\n",
       "       [8, 7],\n",
       "       [8, 7],\n",
       "       [7, 8],\n",
       "       [7, 8],\n",
       "       [7, 8],\n",
       "       [7, 7]])"
      ]
     },
     "execution_count": 60,
     "metadata": {},
     "output_type": "execute_result"
    }
   ],
   "source": [
    "arr2.reshape(8,2)"
   ]
  },
  {
   "cell_type": "code",
   "execution_count": 61,
   "id": "877181a2-6faf-4e64-9077-688947473cd1",
   "metadata": {},
   "outputs": [],
   "source": [
    "arr3=np.random.randint(1,10,(4,5))"
   ]
  },
  {
   "cell_type": "code",
   "execution_count": 62,
   "id": "c8fe4e81-847e-4d81-83c6-61310652af4c",
   "metadata": {},
   "outputs": [
    {
     "data": {
      "text/plain": [
       "array([[1, 2, 6, 4, 9],\n",
       "       [1, 4, 8, 1, 1],\n",
       "       [6, 9, 3, 1, 3],\n",
       "       [3, 6, 8, 4, 4]])"
      ]
     },
     "execution_count": 62,
     "metadata": {},
     "output_type": "execute_result"
    }
   ],
   "source": [
    "arr3"
   ]
  },
  {
   "cell_type": "code",
   "execution_count": 63,
   "id": "d12e0e1a-40c5-46d7-a8c0-050ccff66f03",
   "metadata": {},
   "outputs": [
    {
     "data": {
      "text/plain": [
       "array([[False, False, False, False,  True],\n",
       "       [False, False, False, False, False],\n",
       "       [False,  True, False, False, False],\n",
       "       [False, False, False, False, False]])"
      ]
     },
     "execution_count": 63,
     "metadata": {},
     "output_type": "execute_result"
    }
   ],
   "source": [
    "arr3 >8"
   ]
  },
  {
   "cell_type": "code",
   "execution_count": 64,
   "id": "38590b42-c5cc-4264-bf18-031c8c552768",
   "metadata": {},
   "outputs": [
    {
     "data": {
      "text/plain": [
       "array([9, 8, 9, 8])"
      ]
     },
     "execution_count": 64,
     "metadata": {},
     "output_type": "execute_result"
    }
   ],
   "source": [
    "arr3[arr3>7]"
   ]
  },
  {
   "cell_type": "code",
   "execution_count": 65,
   "id": "dac83f41-91e0-4c61-9878-18c1e2d9fda6",
   "metadata": {},
   "outputs": [
    {
     "data": {
      "text/plain": [
       "array([6, 8, 4])"
      ]
     },
     "execution_count": 65,
     "metadata": {},
     "output_type": "execute_result"
    }
   ],
   "source": [
    "## Extraction of data from array and finding its position\n",
    "arr3[3,[1,2,4]]"
   ]
  },
  {
   "cell_type": "code",
   "execution_count": 66,
   "id": "82325d4d-74d7-4bda-b334-88a101f8a242",
   "metadata": {},
   "outputs": [
    {
     "data": {
      "text/plain": [
       "array([[8, 1],\n",
       "       [3, 3]])"
      ]
     },
     "execution_count": 66,
     "metadata": {},
     "output_type": "execute_result"
    }
   ],
   "source": [
    "arr3[1:3,[2,4]]"
   ]
  },
  {
   "cell_type": "code",
   "execution_count": 67,
   "id": "53d45f3e-5cb7-4f69-9125-f2da4bdb652b",
   "metadata": {},
   "outputs": [],
   "source": [
    "arr4 = np.random.randint(1,3,(4,4))\n",
    "arr5 = np.random.randint(1,3,(4,4))"
   ]
  },
  {
   "cell_type": "code",
   "execution_count": 68,
   "id": "cf086fd2-8580-4ab6-917e-7ff03604109b",
   "metadata": {},
   "outputs": [
    {
     "data": {
      "text/plain": [
       "array([[2, 2, 1, 1],\n",
       "       [2, 1, 2, 1],\n",
       "       [1, 2, 1, 2],\n",
       "       [1, 1, 1, 1]])"
      ]
     },
     "execution_count": 68,
     "metadata": {},
     "output_type": "execute_result"
    }
   ],
   "source": [
    "arr4"
   ]
  },
  {
   "cell_type": "code",
   "execution_count": 69,
   "id": "6fb30b74-5d1d-4787-9259-717c762f3edf",
   "metadata": {},
   "outputs": [
    {
     "data": {
      "text/plain": [
       "array([[2, 1, 1, 2],\n",
       "       [1, 2, 1, 2],\n",
       "       [1, 2, 1, 1],\n",
       "       [1, 1, 2, 2]])"
      ]
     },
     "execution_count": 69,
     "metadata": {},
     "output_type": "execute_result"
    }
   ],
   "source": [
    "arr5"
   ]
  },
  {
   "cell_type": "code",
   "execution_count": 70,
   "id": "d0c3acf7-9711-40cf-8f87-483e508d0c62",
   "metadata": {},
   "outputs": [
    {
     "data": {
      "text/plain": [
       "array([[4, 3, 2, 3],\n",
       "       [3, 3, 3, 3],\n",
       "       [2, 4, 2, 3],\n",
       "       [2, 2, 3, 3]])"
      ]
     },
     "execution_count": 70,
     "metadata": {},
     "output_type": "execute_result"
    }
   ],
   "source": [
    "arr4 + arr5"
   ]
  },
  {
   "cell_type": "code",
   "execution_count": 71,
   "id": "ea9218c8-e1b1-4131-b7a9-352ebb24044a",
   "metadata": {},
   "outputs": [
    {
     "data": {
      "text/plain": [
       "array([[4, 2, 1, 2],\n",
       "       [2, 2, 2, 2],\n",
       "       [1, 4, 1, 2],\n",
       "       [1, 1, 2, 2]])"
      ]
     },
     "execution_count": 71,
     "metadata": {},
     "output_type": "execute_result"
    }
   ],
   "source": [
    "arr4 * arr5  ## this is doing index multiplication"
   ]
  },
  {
   "cell_type": "code",
   "execution_count": 72,
   "id": "036a47f1-2956-484d-a743-2a838b24ed7b",
   "metadata": {},
   "outputs": [
    {
     "data": {
      "text/plain": [
       "array([[ 8,  9,  7, 11],\n",
       "       [ 8,  9,  7, 10],\n",
       "       [ 7,  9,  8, 11],\n",
       "       [ 5,  6,  5,  7]])"
      ]
     },
     "execution_count": 72,
     "metadata": {},
     "output_type": "execute_result"
    }
   ],
   "source": [
    "## for matrix multiplication\n",
    "\n",
    "arr4@arr5"
   ]
  },
  {
   "cell_type": "code",
   "execution_count": 73,
   "id": "26ddb66f-f13d-48fa-88f6-e3efc31818a5",
   "metadata": {},
   "outputs": [
    {
     "data": {
      "text/plain": [
       "array([[1. , 2. , 1. , 0.5],\n",
       "       [2. , 0.5, 2. , 0.5],\n",
       "       [1. , 1. , 1. , 2. ],\n",
       "       [1. , 1. , 0.5, 0.5]])"
      ]
     },
     "execution_count": 73,
     "metadata": {},
     "output_type": "execute_result"
    }
   ],
   "source": [
    "arr4/arr5"
   ]
  },
  {
   "cell_type": "code",
   "execution_count": 74,
   "id": "ceea82cd-129f-4281-8540-c2a842034820",
   "metadata": {},
   "outputs": [
    {
     "name": "stderr",
     "output_type": "stream",
     "text": [
      "/tmp/ipykernel_188/1674986024.py:1: RuntimeWarning: divide by zero encountered in divide\n",
      "  arr4/0\n"
     ]
    },
    {
     "data": {
      "text/plain": [
       "array([[inf, inf, inf, inf],\n",
       "       [inf, inf, inf, inf],\n",
       "       [inf, inf, inf, inf],\n",
       "       [inf, inf, inf, inf]])"
      ]
     },
     "execution_count": 74,
     "metadata": {},
     "output_type": "execute_result"
    }
   ],
   "source": [
    "arr4/0"
   ]
  },
  {
   "cell_type": "code",
   "execution_count": 75,
   "id": "ee729d95-bb5c-406a-8a24-466f8a9fa965",
   "metadata": {},
   "outputs": [],
   "source": [
    "arr6 = np.zeros((4,4))"
   ]
  },
  {
   "cell_type": "code",
   "execution_count": 76,
   "id": "779e49a0-c6f8-48f9-96bc-9fe18a94a342",
   "metadata": {},
   "outputs": [
    {
     "data": {
      "text/plain": [
       "array([[0., 0., 0., 0.],\n",
       "       [0., 0., 0., 0.],\n",
       "       [0., 0., 0., 0.],\n",
       "       [0., 0., 0., 0.]])"
      ]
     },
     "execution_count": 76,
     "metadata": {},
     "output_type": "execute_result"
    }
   ],
   "source": [
    "arr6"
   ]
  },
  {
   "cell_type": "code",
   "execution_count": 77,
   "id": "cb8b0e49-2752-48ac-91bf-6d53092cf5a7",
   "metadata": {},
   "outputs": [
    {
     "data": {
      "text/plain": [
       "array([[5., 5., 5., 5.],\n",
       "       [5., 5., 5., 5.],\n",
       "       [5., 5., 5., 5.],\n",
       "       [5., 5., 5., 5.]])"
      ]
     },
     "execution_count": 77,
     "metadata": {},
     "output_type": "execute_result"
    }
   ],
   "source": [
    "arr6 + 5\n",
    "\n"
   ]
  },
  {
   "cell_type": "code",
   "execution_count": 78,
   "id": "354dd5b9-d396-4cc8-b62f-1320167edda4",
   "metadata": {},
   "outputs": [],
   "source": [
    "a= np.array([3,4,5])"
   ]
  },
  {
   "cell_type": "code",
   "execution_count": 79,
   "id": "c11ffa48-8d1c-49ab-a29a-e722bcbcc0f4",
   "metadata": {},
   "outputs": [
    {
     "data": {
      "text/plain": [
       "array([[ 4,  6,  8],\n",
       "       [ 7,  9, 11]])"
      ]
     },
     "execution_count": 79,
     "metadata": {},
     "output_type": "execute_result"
    }
   ],
   "source": [
    "a+arr1"
   ]
  },
  {
   "cell_type": "code",
   "execution_count": 80,
   "id": "8d5c658f-0424-4b83-8754-493f93ee86bf",
   "metadata": {},
   "outputs": [
    {
     "data": {
      "text/plain": [
       "array([1.73205081, 2.        , 2.23606798])"
      ]
     },
     "execution_count": 80,
     "metadata": {},
     "output_type": "execute_result"
    }
   ],
   "source": [
    "np.sqrt(a)"
   ]
  },
  {
   "cell_type": "code",
   "execution_count": 81,
   "id": "fbca59bc-ac95-4322-86b5-bca386eb457f",
   "metadata": {},
   "outputs": [
    {
     "data": {
      "text/plain": [
       "array([ 20.08553692,  54.59815003, 148.4131591 ])"
      ]
     },
     "execution_count": 81,
     "metadata": {},
     "output_type": "execute_result"
    }
   ],
   "source": [
    "np.exp(a)"
   ]
  },
  {
   "cell_type": "code",
   "execution_count": 82,
   "id": "85ef3eb1-ad48-4f88-a6e0-b353b902eff6",
   "metadata": {},
   "outputs": [
    {
     "data": {
      "text/plain": [
       "3"
      ]
     },
     "execution_count": 82,
     "metadata": {},
     "output_type": "execute_result"
    }
   ],
   "source": [
    "np.min(a)"
   ]
  },
  {
   "cell_type": "code",
   "execution_count": 83,
   "id": "dc7be8ce-1958-4441-a7bb-2be9d3b7665f",
   "metadata": {},
   "outputs": [
    {
     "data": {
      "text/plain": [
       "6"
      ]
     },
     "execution_count": 83,
     "metadata": {},
     "output_type": "execute_result"
    }
   ],
   "source": [
    "np.max(arr1)"
   ]
  },
  {
   "cell_type": "markdown",
   "id": "4c4efdbc-8224-4662-adc3-b05423ae8352",
   "metadata": {},
   "source": [
    "## Array manipulation"
   ]
  },
  {
   "cell_type": "code",
   "execution_count": 84,
   "id": "bdc6134e-4b6d-463f-83b0-8b7d8a492a88",
   "metadata": {},
   "outputs": [],
   "source": [
    "arr7=np.random.randint(1,10, (4,4))"
   ]
  },
  {
   "cell_type": "code",
   "execution_count": 85,
   "id": "740c874a-01e1-4647-bc6a-46917cae94ec",
   "metadata": {},
   "outputs": [
    {
     "data": {
      "text/plain": [
       "array([[3, 9, 4, 7],\n",
       "       [7, 2, 3, 2],\n",
       "       [6, 5, 3, 4],\n",
       "       [8, 8, 7, 1]])"
      ]
     },
     "execution_count": 85,
     "metadata": {},
     "output_type": "execute_result"
    }
   ],
   "source": [
    "arr7"
   ]
  },
  {
   "cell_type": "code",
   "execution_count": 86,
   "id": "ce79878d-4397-4723-baf6-01f753cc90bc",
   "metadata": {},
   "outputs": [
    {
     "data": {
      "text/plain": [
       "array([[3, 9, 4, 7, 7, 2, 3, 2, 6, 5, 3, 4, 8, 8, 7, 1]])"
      ]
     },
     "execution_count": 86,
     "metadata": {},
     "output_type": "execute_result"
    }
   ],
   "source": [
    "arr7.reshape(1,16)"
   ]
  },
  {
   "cell_type": "code",
   "execution_count": 87,
   "id": "e3d66b3d-aac6-4f06-a4ba-80595f376668",
   "metadata": {},
   "outputs": [
    {
     "data": {
      "text/plain": [
       "array([[3, 7, 6, 8],\n",
       "       [9, 2, 5, 8],\n",
       "       [4, 3, 3, 7],\n",
       "       [7, 2, 4, 1]])"
      ]
     },
     "execution_count": 87,
     "metadata": {},
     "output_type": "execute_result"
    }
   ],
   "source": [
    "arr7.T"
   ]
  },
  {
   "cell_type": "code",
   "execution_count": 88,
   "id": "4fd0da1f-ca0d-4fad-bf25-9f4b3d4aaefc",
   "metadata": {},
   "outputs": [
    {
     "data": {
      "text/plain": [
       "array([3, 9, 4, 7, 7, 2, 3, 2, 6, 5, 3, 4, 8, 8, 7, 1])"
      ]
     },
     "execution_count": 88,
     "metadata": {},
     "output_type": "execute_result"
    }
   ],
   "source": [
    "arr7.flatten()  ## It will going to convert the array into one_dimensonal array"
   ]
  },
  {
   "cell_type": "code",
   "execution_count": 89,
   "id": "b4df1bc1-2db0-4653-b686-50d5ac4a8da1",
   "metadata": {},
   "outputs": [
    {
     "data": {
      "text/plain": [
       "array([[3, 9, 4, 7],\n",
       "       [7, 2, 3, 2],\n",
       "       [6, 5, 3, 4],\n",
       "       [8, 8, 7, 1]])"
      ]
     },
     "execution_count": 89,
     "metadata": {},
     "output_type": "execute_result"
    }
   ],
   "source": [
    "arr7"
   ]
  },
  {
   "cell_type": "code",
   "execution_count": 90,
   "id": "ef2be554-1c94-4b66-8d8b-f20ba6663d6e",
   "metadata": {},
   "outputs": [
    {
     "data": {
      "text/plain": [
       "array([[[3, 9, 4, 7]],\n",
       "\n",
       "       [[7, 2, 3, 2]],\n",
       "\n",
       "       [[6, 5, 3, 4]],\n",
       "\n",
       "       [[8, 8, 7, 1]]])"
      ]
     },
     "execution_count": 90,
     "metadata": {},
     "output_type": "execute_result"
    }
   ],
   "source": [
    "np.expand_dims(arr7,axis=1) ## It will going to increase the dimensions of array..and axis=1 means expansion in rowwise"
   ]
  },
  {
   "cell_type": "code",
   "execution_count": 91,
   "id": "63f0cf2d-c0b1-4bf7-8c20-26843a90c5ff",
   "metadata": {},
   "outputs": [
    {
     "data": {
      "text/plain": [
       "array([[[3, 9, 4, 7],\n",
       "        [7, 2, 3, 2],\n",
       "        [6, 5, 3, 4],\n",
       "        [8, 8, 7, 1]]])"
      ]
     },
     "execution_count": 91,
     "metadata": {},
     "output_type": "execute_result"
    }
   ],
   "source": [
    "np.expand_dims(arr7,axis=0 ) ## expansion in row wise"
   ]
  },
  {
   "cell_type": "code",
   "execution_count": 92,
   "id": "53227ba4-c9c7-4a2e-9202-c7ab9d7d7937",
   "metadata": {},
   "outputs": [],
   "source": [
    "arr8=np.array([[1],[2],[3]])"
   ]
  },
  {
   "cell_type": "code",
   "execution_count": 93,
   "id": "ab6bf652-3b5e-48aa-8801-e838e4e5d6a5",
   "metadata": {},
   "outputs": [
    {
     "data": {
      "text/plain": [
       "2"
      ]
     },
     "execution_count": 93,
     "metadata": {},
     "output_type": "execute_result"
    }
   ],
   "source": [
    "arr8.ndim"
   ]
  },
  {
   "cell_type": "code",
   "execution_count": 94,
   "id": "1bc9e45a-aca2-474c-bc33-90cb358514b0",
   "metadata": {},
   "outputs": [],
   "source": [
    "arr9=np.squeeze(arr8)\n"
   ]
  },
  {
   "cell_type": "code",
   "execution_count": 95,
   "id": "ecc4cfc2-310a-4e47-905b-6afd0774a7cd",
   "metadata": {},
   "outputs": [
    {
     "data": {
      "text/plain": [
       "array([1, 2, 3])"
      ]
     },
     "execution_count": 95,
     "metadata": {},
     "output_type": "execute_result"
    }
   ],
   "source": [
    "arr9"
   ]
  },
  {
   "cell_type": "code",
   "execution_count": 96,
   "id": "f3fce6b0-1c10-4c26-a300-0c18bf7fe10d",
   "metadata": {},
   "outputs": [
    {
     "data": {
      "text/plain": [
       "1"
      ]
     },
     "execution_count": 96,
     "metadata": {},
     "output_type": "execute_result"
    }
   ],
   "source": [
    "arr9.ndim  ## squeeze function going to reduce the dimension of the array"
   ]
  },
  {
   "cell_type": "code",
   "execution_count": 97,
   "id": "687d207c-cc55-4694-91a3-07c31767beba",
   "metadata": {},
   "outputs": [
    {
     "data": {
      "text/plain": [
       "array([1, 1, 1, 2, 2, 2, 3, 3, 3])"
      ]
     },
     "execution_count": 97,
     "metadata": {},
     "output_type": "execute_result"
    }
   ],
   "source": [
    "np.repeat(arr9,3) ## it is going to repeat the array into 3 times"
   ]
  },
  {
   "cell_type": "code",
   "execution_count": 98,
   "id": "a6029a1c-02f8-466a-82ad-ea5cdc187437",
   "metadata": {},
   "outputs": [
    {
     "data": {
      "text/plain": [
       "array([1, 2, 3])"
      ]
     },
     "execution_count": 98,
     "metadata": {},
     "output_type": "execute_result"
    }
   ],
   "source": [
    "arr9"
   ]
  },
  {
   "cell_type": "code",
   "execution_count": 99,
   "id": "5a4fae85-3282-4e3f-baa6-00793706e016",
   "metadata": {},
   "outputs": [
    {
     "data": {
      "text/plain": [
       "array([3, 1, 2])"
      ]
     },
     "execution_count": 99,
     "metadata": {},
     "output_type": "execute_result"
    }
   ],
   "source": [
    "np.roll(arr9,1) ## it means that the array is going to roll one step forward one time   "
   ]
  },
  {
   "cell_type": "code",
   "execution_count": 100,
   "id": "09ccb33f-ea20-4441-887c-664ae77da688",
   "metadata": {},
   "outputs": [
    {
     "data": {
      "text/plain": [
       "array([[1, 0, 0, 0],\n",
       "       [0, 2, 0, 0],\n",
       "       [0, 0, 3, 0],\n",
       "       [0, 0, 0, 4]])"
      ]
     },
     "execution_count": 100,
     "metadata": {},
     "output_type": "execute_result"
    }
   ],
   "source": [
    "np.diag(np.array([1,2,3,4]))  ## it will going to give diagonally the result"
   ]
  },
  {
   "cell_type": "markdown",
   "id": "6b1a2f13-eb8f-4e64-8500-4422ce1b0dba",
   "metadata": {},
   "source": [
    "## Binary operation"
   ]
  },
  {
   "cell_type": "code",
   "execution_count": 101,
   "id": "fdca87b2-c02a-469e-a625-ce84ab8c227e",
   "metadata": {},
   "outputs": [],
   "source": [
    "arr10 = np.random.randint(1,10,(3,4))\n",
    "arr11 = np.random.randint(1,10,(3,4))"
   ]
  },
  {
   "cell_type": "code",
   "execution_count": 102,
   "id": "4459d663-591d-4bec-907a-66eac894f562",
   "metadata": {},
   "outputs": [
    {
     "data": {
      "text/plain": [
       "array([[9, 4, 1, 7],\n",
       "       [2, 9, 7, 3],\n",
       "       [4, 4, 8, 1]])"
      ]
     },
     "execution_count": 102,
     "metadata": {},
     "output_type": "execute_result"
    }
   ],
   "source": [
    "arr10"
   ]
  },
  {
   "cell_type": "code",
   "execution_count": 103,
   "id": "e9b5c2b2-cfd4-432f-a55a-23de1638c281",
   "metadata": {},
   "outputs": [
    {
     "data": {
      "text/plain": [
       "array([[8, 1, 9, 7],\n",
       "       [1, 9, 6, 3],\n",
       "       [1, 4, 7, 4]])"
      ]
     },
     "execution_count": 103,
     "metadata": {},
     "output_type": "execute_result"
    }
   ],
   "source": [
    "arr11"
   ]
  },
  {
   "cell_type": "code",
   "execution_count": 104,
   "id": "b6196fb1-a685-440e-9c0d-b0030499961b",
   "metadata": {},
   "outputs": [
    {
     "data": {
      "text/plain": [
       "array([[ 43046721,         4,         1,    823543],\n",
       "       [        2, 387420489,    117649,        27],\n",
       "       [        4,       256,   2097152,         1]])"
      ]
     },
     "execution_count": 104,
     "metadata": {},
     "output_type": "execute_result"
    }
   ],
   "source": [
    "arr10**arr11"
   ]
  },
  {
   "cell_type": "code",
   "execution_count": 105,
   "id": "29f2e728-ba1a-4986-a5eb-1499dc0021e0",
   "metadata": {},
   "outputs": [
    {
     "data": {
      "text/plain": [
       "array([[ True,  True, False, False],\n",
       "       [ True, False,  True, False],\n",
       "       [ True, False,  True, False]])"
      ]
     },
     "execution_count": 105,
     "metadata": {},
     "output_type": "execute_result"
    }
   ],
   "source": [
    "arr10>arr11"
   ]
  },
  {
   "cell_type": "markdown",
   "id": "bf1fb3a2-135a-473e-be02-821ef58fb567",
   "metadata": {},
   "source": [
    "## String Function"
   ]
  },
  {
   "cell_type": "code",
   "execution_count": 106,
   "id": "17413e90-9ba6-4cff-85d6-692e5593ca15",
   "metadata": {},
   "outputs": [],
   "source": [
    "arr12 = np.array([\"akash\",\"roy\"])"
   ]
  },
  {
   "cell_type": "code",
   "execution_count": 107,
   "id": "cfd4eb02-fe7a-4c58-8db4-1eea9f0be8e8",
   "metadata": {},
   "outputs": [
    {
     "data": {
      "text/plain": [
       "array(['akash', 'roy'], dtype='<U5')"
      ]
     },
     "execution_count": 107,
     "metadata": {},
     "output_type": "execute_result"
    }
   ],
   "source": [
    "arr12"
   ]
  },
  {
   "cell_type": "code",
   "execution_count": 108,
   "id": "a54eba3a-a9e6-4035-9c16-7483f6165fc4",
   "metadata": {},
   "outputs": [
    {
     "data": {
      "text/plain": [
       "array(['AKASH', 'ROY'], dtype='<U5')"
      ]
     },
     "execution_count": 108,
     "metadata": {},
     "output_type": "execute_result"
    }
   ],
   "source": [
    "np.char.upper(arr12)"
   ]
  },
  {
   "cell_type": "code",
   "execution_count": 109,
   "id": "a6583f70-451c-4ba1-bf35-a4a43c6fe9fc",
   "metadata": {},
   "outputs": [
    {
     "data": {
      "text/plain": [
       "array(['Akash', 'Roy'], dtype='<U5')"
      ]
     },
     "execution_count": 109,
     "metadata": {},
     "output_type": "execute_result"
    }
   ],
   "source": [
    "np.char.capitalize(arr12)"
   ]
  },
  {
   "cell_type": "code",
   "execution_count": 110,
   "id": "6cc0c82b-9cae-43a5-9582-df92765d5b45",
   "metadata": {},
   "outputs": [
    {
     "data": {
      "text/plain": [
       "array(['Akash', 'Roy'], dtype='<U5')"
      ]
     },
     "execution_count": 110,
     "metadata": {},
     "output_type": "execute_result"
    }
   ],
   "source": [
    "np.char.title(arr12)"
   ]
  },
  {
   "cell_type": "markdown",
   "id": "ec993b31-fd45-4b13-8e17-d9369b29f575",
   "metadata": {},
   "source": [
    "## Mathematical operation"
   ]
  },
  {
   "cell_type": "code",
   "execution_count": 111,
   "id": "0ac27ec5-c49e-4d05-85a0-a91b1a2f9183",
   "metadata": {},
   "outputs": [
    {
     "data": {
      "text/plain": [
       "array([[1, 2, 3],\n",
       "       [4, 5, 6]])"
      ]
     },
     "execution_count": 111,
     "metadata": {},
     "output_type": "execute_result"
    }
   ],
   "source": [
    "arr1"
   ]
  },
  {
   "cell_type": "code",
   "execution_count": 112,
   "id": "7d9eb5d3-6ffd-495a-a713-4431f6ec549d",
   "metadata": {},
   "outputs": [
    {
     "data": {
      "text/plain": [
       "array([[ 0.84147098,  0.90929743,  0.14112001],\n",
       "       [-0.7568025 , -0.95892427, -0.2794155 ]])"
      ]
     },
     "execution_count": 112,
     "metadata": {},
     "output_type": "execute_result"
    }
   ],
   "source": [
    "np.sin(arr1)   ## sine value of each  index"
   ]
  },
  {
   "cell_type": "code",
   "execution_count": 113,
   "id": "e6e734ce-c4ce-4c2a-8f10-5d089183c16c",
   "metadata": {},
   "outputs": [
    {
     "data": {
      "text/plain": [
       "array([[ 0.54030231, -0.41614684, -0.9899925 ],\n",
       "       [-0.65364362,  0.28366219,  0.96017029]])"
      ]
     },
     "execution_count": 113,
     "metadata": {},
     "output_type": "execute_result"
    }
   ],
   "source": [
    "np.cos(arr1)"
   ]
  },
  {
   "cell_type": "code",
   "execution_count": 114,
   "id": "cf74f797-1572-4863-9c57-83a65979d413",
   "metadata": {},
   "outputs": [
    {
     "data": {
      "text/plain": [
       "array([[  1,   8,  27],\n",
       "       [ 64, 125, 216]])"
      ]
     },
     "execution_count": 114,
     "metadata": {},
     "output_type": "execute_result"
    }
   ],
   "source": [
    "np.power(arr1,3)"
   ]
  },
  {
   "cell_type": "code",
   "execution_count": 115,
   "id": "fcc46211-be90-4707-98ae-f9a2398ff5a9",
   "metadata": {},
   "outputs": [
    {
     "data": {
      "text/plain": [
       "array([[1.        , 1.41421356, 1.73205081],\n",
       "       [2.        , 2.23606798, 2.44948974]])"
      ]
     },
     "execution_count": 115,
     "metadata": {},
     "output_type": "execute_result"
    }
   ],
   "source": [
    "np.sqrt(arr1)"
   ]
  },
  {
   "cell_type": "code",
   "execution_count": 116,
   "id": "2d4d7a3e-ff01-40a2-8a53-02b03cf3a849",
   "metadata": {},
   "outputs": [
    {
     "data": {
      "text/plain": [
       "3.5"
      ]
     },
     "execution_count": 116,
     "metadata": {},
     "output_type": "execute_result"
    }
   ],
   "source": [
    "np.mean(arr1)"
   ]
  },
  {
   "cell_type": "code",
   "execution_count": 117,
   "id": "d427b224-6b0f-4f0b-9751-bfaa5ed7e3ae",
   "metadata": {},
   "outputs": [
    {
     "data": {
      "text/plain": [
       "3.5"
      ]
     },
     "execution_count": 117,
     "metadata": {},
     "output_type": "execute_result"
    }
   ],
   "source": [
    "np.median(arr1)"
   ]
  },
  {
   "cell_type": "code",
   "execution_count": 118,
   "id": "394ea99c-0dce-454c-aaba-7a642f494e23",
   "metadata": {},
   "outputs": [
    {
     "data": {
      "text/plain": [
       "1.707825127659933"
      ]
     },
     "execution_count": 118,
     "metadata": {},
     "output_type": "execute_result"
    }
   ],
   "source": [
    "np.std(arr1)"
   ]
  },
  {
   "cell_type": "code",
   "execution_count": 119,
   "id": "fffa4923-327e-4db1-ac3d-b0345302380e",
   "metadata": {},
   "outputs": [
    {
     "data": {
      "text/plain": [
       "2.9166666666666665"
      ]
     },
     "execution_count": 119,
     "metadata": {},
     "output_type": "execute_result"
    }
   ],
   "source": [
    "np.var(arr1)"
   ]
  },
  {
   "cell_type": "code",
   "execution_count": 120,
   "id": "ca413349-4594-4fd0-9c2f-0d432792f894",
   "metadata": {},
   "outputs": [
    {
     "data": {
      "text/plain": [
       "1"
      ]
     },
     "execution_count": 120,
     "metadata": {},
     "output_type": "execute_result"
    }
   ],
   "source": [
    "np.min(arr1)"
   ]
  },
  {
   "cell_type": "code",
   "execution_count": 121,
   "id": "95af4cbc-b96b-4691-a98f-c9c4e501753a",
   "metadata": {},
   "outputs": [
    {
     "data": {
      "text/plain": [
       "6"
      ]
     },
     "execution_count": 121,
     "metadata": {},
     "output_type": "execute_result"
    }
   ],
   "source": [
    "np.max(arr1)"
   ]
  },
  {
   "cell_type": "code",
   "execution_count": 122,
   "id": "8bc7773e-42fd-4095-9502-e962dc59c5e9",
   "metadata": {},
   "outputs": [
    {
     "data": {
      "text/plain": [
       "array([[-1, -3,  8,  0],\n",
       "       [-1,  0, -1,  0],\n",
       "       [-3,  0, -1,  3]])"
      ]
     },
     "execution_count": 122,
     "metadata": {},
     "output_type": "execute_result"
    }
   ],
   "source": [
    "arr11-arr10"
   ]
  },
  {
   "cell_type": "code",
   "execution_count": 123,
   "id": "484c2669-591f-42cb-982e-e4bfc793a220",
   "metadata": {},
   "outputs": [
    {
     "data": {
      "text/plain": [
       "3.5"
      ]
     },
     "execution_count": 123,
     "metadata": {},
     "output_type": "execute_result"
    }
   ],
   "source": [
    "np.mean(arr1)"
   ]
  },
  {
   "cell_type": "markdown",
   "id": "594d480f-c4d4-446c-8dcd-c29279d3f99e",
   "metadata": {},
   "source": [
    "## Searching sorting and counting functions"
   ]
  },
  {
   "cell_type": "code",
   "execution_count": 124,
   "id": "a2901149-900a-40c6-8450-d672d7ef1d85",
   "metadata": {},
   "outputs": [],
   "source": [
    "arr13 = np.array([1,2,3,4,5,6,7,8,9,0])"
   ]
  },
  {
   "cell_type": "code",
   "execution_count": 125,
   "id": "36745317-a696-42ed-b406-78d1bfc66e4c",
   "metadata": {},
   "outputs": [
    {
     "data": {
      "text/plain": [
       "array([1, 2, 3, 4, 5, 6, 7, 8, 9, 0])"
      ]
     },
     "execution_count": 125,
     "metadata": {},
     "output_type": "execute_result"
    }
   ],
   "source": [
    "arr13"
   ]
  },
  {
   "cell_type": "code",
   "execution_count": 126,
   "id": "0a958b5a-85c9-4578-af4e-1064339f6a4d",
   "metadata": {},
   "outputs": [
    {
     "data": {
      "text/plain": [
       "array([0, 1, 2, 3, 4, 5, 6, 7, 8, 9])"
      ]
     },
     "execution_count": 126,
     "metadata": {},
     "output_type": "execute_result"
    }
   ],
   "source": [
    "np.sort(arr13)"
   ]
  },
  {
   "cell_type": "code",
   "execution_count": 127,
   "id": "b715a6d0-bbdf-4fc6-b8ca-f35f332ba9d7",
   "metadata": {},
   "outputs": [
    {
     "data": {
      "text/plain": [
       "6"
      ]
     },
     "execution_count": 127,
     "metadata": {},
     "output_type": "execute_result"
    }
   ],
   "source": [
    "np.searchsorted(arr13,7) ## This is saying that where to insert int 7 so that the array will be sorted one"
   ]
  },
  {
   "cell_type": "code",
   "execution_count": 128,
   "id": "784d025d-39c5-48d4-849c-35cb2ad4aee2",
   "metadata": {},
   "outputs": [
    {
     "data": {
      "text/plain": [
       "9"
      ]
     },
     "execution_count": 128,
     "metadata": {},
     "output_type": "execute_result"
    }
   ],
   "source": [
    "np.count_nonzero(arr13) ## It will going to count the numbers of non zero elements"
   ]
  },
  {
   "cell_type": "code",
   "execution_count": 129,
   "id": "62102586-9e04-4f56-9f47-a0840268b2af",
   "metadata": {},
   "outputs": [],
   "source": [
    "arr14 = np.array([0,55,73,9,0,0,22,-3,0,5,0,5,0])"
   ]
  },
  {
   "cell_type": "code",
   "execution_count": 130,
   "id": "8a5d8b95-5608-4400-8548-d8b0ed175d9f",
   "metadata": {},
   "outputs": [
    {
     "data": {
      "text/plain": [
       "array([ 0, 55, 73,  9,  0,  0, 22, -3,  0,  5,  0,  5,  0])"
      ]
     },
     "execution_count": 130,
     "metadata": {},
     "output_type": "execute_result"
    }
   ],
   "source": [
    "arr14"
   ]
  },
  {
   "cell_type": "code",
   "execution_count": 131,
   "id": "24ddc13d-9df7-4c50-bb1a-3dad9bb3ffdb",
   "metadata": {},
   "outputs": [
    {
     "data": {
      "text/plain": [
       "(array([7]),)"
      ]
     },
     "execution_count": 131,
     "metadata": {},
     "output_type": "execute_result"
    }
   ],
   "source": [
    "np.where(arr14<0)  ## It will going to find out the indexes according to the condition"
   ]
  },
  {
   "cell_type": "code",
   "execution_count": 132,
   "id": "48a3ea91-a883-4635-99ca-a98e816a8b7d",
   "metadata": {},
   "outputs": [
    {
     "data": {
      "text/plain": [
       "array([55, 73])"
      ]
     },
     "execution_count": 132,
     "metadata": {},
     "output_type": "execute_result"
    }
   ],
   "source": [
    "np.extract(arr14>22,arr14)   ## It will going to find out the values according to the condition"
   ]
  },
  {
   "cell_type": "markdown",
   "id": "a28110ae-d8db-42ae-a666-e0a03b39bc0f",
   "metadata": {},
   "source": [
    "## Byte swap"
   ]
  },
  {
   "cell_type": "code",
   "execution_count": 133,
   "id": "2bcc168b-3ce7-4987-885c-c916b149b4bc",
   "metadata": {},
   "outputs": [
    {
     "data": {
      "text/plain": [
       "array([                  0, 3963167672086036480, 5260204364768739328,\n",
       "        648518346341351424,                   0,                   0,\n",
       "       1585267068834414592, -144115188075855873,                   0,\n",
       "        360287970189639680,                   0,  360287970189639680,\n",
       "                         0])"
      ]
     },
     "execution_count": 133,
     "metadata": {},
     "output_type": "execute_result"
    }
   ],
   "source": [
    "arr14.byteswap()"
   ]
  },
  {
   "cell_type": "markdown",
   "id": "8d31f0da-8a6c-448d-95cb-f8bed4141b9c",
   "metadata": {},
   "source": [
    "## matrix library"
   ]
  },
  {
   "cell_type": "code",
   "execution_count": 134,
   "id": "e722a37e-4677-4773-b4cb-ad7bbff1fefb",
   "metadata": {},
   "outputs": [],
   "source": [
    "import numpy.matlib as nm"
   ]
  },
  {
   "cell_type": "code",
   "execution_count": 135,
   "id": "64dee77a-4e33-44ed-9e8f-3dc70a2c4f9d",
   "metadata": {},
   "outputs": [
    {
     "data": {
      "text/plain": [
       "array([0., 0., 0., 0., 0.])"
      ]
     },
     "execution_count": 135,
     "metadata": {},
     "output_type": "execute_result"
    }
   ],
   "source": [
    "np.zeros(5)"
   ]
  },
  {
   "cell_type": "code",
   "execution_count": 136,
   "id": "0d6b8abe-359b-4eac-82a9-5f95769fd472",
   "metadata": {},
   "outputs": [
    {
     "data": {
      "text/plain": [
       "matrix([[0., 0., 0., 0., 0.]])"
      ]
     },
     "execution_count": 136,
     "metadata": {},
     "output_type": "execute_result"
    }
   ],
   "source": [
    "nm.zeros(5)"
   ]
  },
  {
   "cell_type": "code",
   "execution_count": 137,
   "id": "d4b32561-e54b-44a5-b128-ece7bdd82664",
   "metadata": {},
   "outputs": [
    {
     "data": {
      "text/plain": [
       "matrix([[0., 0., 0., 0., 0.],\n",
       "        [0., 0., 0., 0., 0.],\n",
       "        [0., 0., 0., 0., 0.],\n",
       "        [0., 0., 0., 0., 0.]])"
      ]
     },
     "execution_count": 137,
     "metadata": {},
     "output_type": "execute_result"
    }
   ],
   "source": [
    "nm.zeros((4,5))\n"
   ]
  },
  {
   "cell_type": "code",
   "execution_count": 138,
   "id": "e882ae3e-32e7-412c-8ea5-b805277a58bb",
   "metadata": {},
   "outputs": [
    {
     "data": {
      "text/plain": [
       "matrix([[1., 0., 0., 0.],\n",
       "        [0., 1., 0., 0.],\n",
       "        [0., 0., 1., 0.],\n",
       "        [0., 0., 0., 1.]])"
      ]
     },
     "execution_count": 138,
     "metadata": {},
     "output_type": "execute_result"
    }
   ],
   "source": [
    "nm.eye(4)"
   ]
  },
  {
   "cell_type": "markdown",
   "id": "ed2a5e55-fb5e-42f6-840d-9b73499a7125",
   "metadata": {},
   "source": [
    "## Linear Algebra"
   ]
  },
  {
   "cell_type": "code",
   "execution_count": 139,
   "id": "bd020cae-8608-4947-8f02-697ac4a76506",
   "metadata": {},
   "outputs": [],
   "source": [
    "arr15 = np.array([])"
   ]
  },
  {
   "cell_type": "code",
   "execution_count": 140,
   "id": "cb26f393-0497-4d87-9629-9089a31d1513",
   "metadata": {},
   "outputs": [
    {
     "data": {
      "text/plain": [
       "array([[9, 4, 1, 7],\n",
       "       [2, 9, 7, 3],\n",
       "       [4, 4, 8, 1]])"
      ]
     },
     "execution_count": 140,
     "metadata": {},
     "output_type": "execute_result"
    }
   ],
   "source": [
    "arr10"
   ]
  },
  {
   "cell_type": "code",
   "execution_count": 141,
   "id": "d9797f61-8d46-4f02-8fea-a81b6e3bc1f0",
   "metadata": {},
   "outputs": [
    {
     "data": {
      "text/plain": [
       "array([[8, 1, 9, 7],\n",
       "       [1, 9, 6, 3],\n",
       "       [1, 4, 7, 4]])"
      ]
     },
     "execution_count": 141,
     "metadata": {},
     "output_type": "execute_result"
    }
   ],
   "source": [
    "arr11"
   ]
  },
  {
   "cell_type": "code",
   "execution_count": 143,
   "id": "a97b5d79-6ff7-42b5-a3bc-163e354a0866",
   "metadata": {},
   "outputs": [
    {
     "data": {
      "text/plain": [
       "array([[72,  4,  9, 49],\n",
       "       [ 2, 81, 42,  9],\n",
       "       [ 4, 16, 56,  4]])"
      ]
     },
     "execution_count": 143,
     "metadata": {},
     "output_type": "execute_result"
    }
   ],
   "source": [
    "np.multiply(arr10,arr11)"
   ]
  },
  {
   "cell_type": "code",
   "execution_count": 144,
   "id": "7e3cfc19-1a34-4247-b4dd-5d90d33ab70f",
   "metadata": {},
   "outputs": [
    {
     "data": {
      "text/plain": [
       "array([[72,  4,  9, 49],\n",
       "       [ 2, 81, 42,  9],\n",
       "       [ 4, 16, 56,  4]])"
      ]
     },
     "execution_count": 144,
     "metadata": {},
     "output_type": "execute_result"
    }
   ],
   "source": [
    "arr10 * arr11"
   ]
  },
  {
   "cell_type": "code",
   "execution_count": 145,
   "id": "93789670-91ab-44fc-82a0-4067b9da000a",
   "metadata": {},
   "outputs": [],
   "source": [
    "arrx=np.random.randint(1,10,(2,2))"
   ]
  },
  {
   "cell_type": "code",
   "execution_count": 146,
   "id": "dd480c68-b8c7-44b5-85ae-9074d8c19b53",
   "metadata": {},
   "outputs": [
    {
     "data": {
      "text/plain": [
       "array([[7, 5],\n",
       "       [1, 3]])"
      ]
     },
     "execution_count": 146,
     "metadata": {},
     "output_type": "execute_result"
    }
   ],
   "source": [
    "arrx"
   ]
  },
  {
   "cell_type": "code",
   "execution_count": null,
   "id": "975855b4-2274-4712-a957-3ef373a38969",
   "metadata": {},
   "outputs": [],
   "source": []
  },
  {
   "cell_type": "code",
   "execution_count": null,
   "id": "cc2d3e59-a53a-4d6e-b14f-6c3f3c06a953",
   "metadata": {},
   "outputs": [],
   "source": []
  }
 ],
 "metadata": {
  "kernelspec": {
   "display_name": "Python 3 (ipykernel)",
   "language": "python",
   "name": "python3"
  },
  "language_info": {
   "codemirror_mode": {
    "name": "ipython",
    "version": 3
   },
   "file_extension": ".py",
   "mimetype": "text/x-python",
   "name": "python",
   "nbconvert_exporter": "python",
   "pygments_lexer": "ipython3",
   "version": "3.10.8"
  }
 },
 "nbformat": 4,
 "nbformat_minor": 5
}
