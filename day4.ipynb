{
 "cells": [
  {
   "cell_type": "markdown",
   "id": "b04e3b54-086c-46d9-a00e-ed22e8320055",
   "metadata": {},
   "source": [
    "## reversing a string"
   ]
  },
  {
   "cell_type": "code",
   "execution_count": 1,
   "id": "9f84943c-1dc5-43a1-afc9-468c93938bf8",
   "metadata": {},
   "outputs": [],
   "source": [
    "course=\"Data Science Master\" "
   ]
  },
  {
   "cell_type": "code",
   "execution_count": 3,
   "id": "78e6e0b4-7949-49ae-8623-ffd6c0ad5c0c",
   "metadata": {},
   "outputs": [
    {
     "data": {
      "text/plain": [
       "'r e t s a M   e c n e i c S   a t a D'"
      ]
     },
     "execution_count": 3,
     "metadata": {},
     "output_type": "execute_result"
    }
   ],
   "source": [
    "## ' ' letter will be joined \n",
    "' '.join(reversed(course))"
   ]
  },
  {
   "cell_type": "code",
   "execution_count": 4,
   "id": "02462a15-8a4a-43a9-890d-a726ee044d55",
   "metadata": {},
   "outputs": [
    {
     "data": {
      "text/plain": [
       "'Daaataaa aSacaiaeanacaea aMaaasataear'"
      ]
     },
     "execution_count": 4,
     "metadata": {},
     "output_type": "execute_result"
    }
   ],
   "source": [
    "'a'.join(course)"
   ]
  },
  {
   "cell_type": "code",
   "execution_count": 6,
   "id": "b1897a9b-3d48-443a-a914-a8445cdb7a71",
   "metadata": {},
   "outputs": [
    {
     "data": {
      "text/plain": [
       "'h s a k a'"
      ]
     },
     "execution_count": 6,
     "metadata": {},
     "output_type": "execute_result"
    }
   ],
   "source": [
    "\" \".join(reversed(\"akash\"))"
   ]
  },
  {
   "cell_type": "code",
   "execution_count": 7,
   "id": "94bce0df-6019-4b61-9b57-c5d6fb01ecee",
   "metadata": {},
   "outputs": [],
   "source": [
    "str1= \"PW is a good company\""
   ]
  },
  {
   "cell_type": "code",
   "execution_count": 8,
   "id": "7460d5bd-d064-4232-aed7-86af00acbf62",
   "metadata": {},
   "outputs": [
    {
     "data": {
      "text/plain": [
       "'P W   i s   a   g o o d   c o m p a n y'"
      ]
     },
     "execution_count": 8,
     "metadata": {},
     "output_type": "execute_result"
    }
   ],
   "source": [
    "\" \".join(str1)"
   ]
  },
  {
   "cell_type": "code",
   "execution_count": 11,
   "id": "62d7ec7e-9c45-4e5f-925f-4265a83d34d3",
   "metadata": {},
   "outputs": [
    {
     "data": {
      "text/plain": [
       "['t', 'n', 'a']"
      ]
     },
     "execution_count": 11,
     "metadata": {},
     "output_type": "execute_result"
    }
   ],
   "source": [
    "list(reversed(\"ant\"))"
   ]
  },
  {
   "cell_type": "code",
   "execution_count": 12,
   "id": "80da59c9-39d6-44b7-875f-47c438b5d7fd",
   "metadata": {},
   "outputs": [],
   "source": [
    "## removing character from the strings"
   ]
  },
  {
   "cell_type": "code",
   "execution_count": 13,
   "id": "23823af5-a73e-449f-85dd-599bed0de458",
   "metadata": {},
   "outputs": [],
   "source": [
    "atring_a=\" My name is akash roy \""
   ]
  },
  {
   "cell_type": "code",
   "execution_count": 14,
   "id": "3154c7ae-f0b3-4eb6-8a8a-182cfbe2d2a0",
   "metadata": {},
   "outputs": [
    {
     "data": {
      "text/plain": [
       "'My name is akash roy'"
      ]
     },
     "execution_count": 14,
     "metadata": {},
     "output_type": "execute_result"
    }
   ],
   "source": [
    "atring_a.strip(\" \")  ##space from both the side will be removed"
   ]
  },
  {
   "cell_type": "code",
   "execution_count": 15,
   "id": "6795b62e-cb7d-4365-8cf7-274a4eeea533",
   "metadata": {},
   "outputs": [
    {
     "data": {
      "text/plain": [
       "'My name is akash roy '"
      ]
     },
     "execution_count": 15,
     "metadata": {},
     "output_type": "execute_result"
    }
   ],
   "source": [
    "atring_a.lstrip(\" \")   ##space from left side will be removed"
   ]
  },
  {
   "cell_type": "code",
   "execution_count": 16,
   "id": "9c0a2349-a8ee-49e0-b8b7-9e087861751a",
   "metadata": {},
   "outputs": [
    {
     "data": {
      "text/plain": [
       "' My name is akash roy'"
      ]
     },
     "execution_count": 16,
     "metadata": {},
     "output_type": "execute_result"
    }
   ],
   "source": [
    "atring_a.rstrip(\" \")    ##space from right side will be removed"
   ]
  },
  {
   "cell_type": "code",
   "execution_count": 19,
   "id": "c1d950ad-916d-4ec3-b413-2fd33a63fe7e",
   "metadata": {},
   "outputs": [
    {
     "data": {
      "text/plain": [
       "' My name is akash Roy '"
      ]
     },
     "execution_count": 19,
     "metadata": {},
     "output_type": "execute_result"
    }
   ],
   "source": [
    "atring_a.replace(\"roy\",\"Roy\")"
   ]
  },
  {
   "cell_type": "code",
   "execution_count": 20,
   "id": "7896f192-3e97-4e06-b6c6-a8ea6ddd2f9b",
   "metadata": {},
   "outputs": [
    {
     "data": {
      "text/plain": [
       "'akashroyjan@gmail.in'"
      ]
     },
     "execution_count": 20,
     "metadata": {},
     "output_type": "execute_result"
    }
   ],
   "source": [
    "mail=\"akashroyjan@gmail.com\"\n",
    "mail.replace(\"com\",\"in\")"
   ]
  },
  {
   "cell_type": "code",
   "execution_count": 23,
   "id": "e890235c-5964-40e5-bfcf-fe326314c182",
   "metadata": {},
   "outputs": [
    {
     "data": {
      "text/plain": [
       "'hello   world'"
      ]
     },
     "execution_count": 23,
     "metadata": {},
     "output_type": "execute_result"
    }
   ],
   "source": [
    "\"hello \\tworld\".expandtabs()"
   ]
  },
  {
   "cell_type": "code",
   "execution_count": 24,
   "id": "45ddf8b7-5c27-4a97-bd46-1e1756327226",
   "metadata": {},
   "outputs": [],
   "source": [
    "str_1=\"Welcome to PWskills .Welcome to Dat cience Masters\""
   ]
  },
  {
   "cell_type": "code",
   "execution_count": 25,
   "id": "5f43403f-913a-465b-8d56-df2c5638905f",
   "metadata": {},
   "outputs": [
    {
     "data": {
      "text/plain": [
       "'Welcome to PWskills .Welcome to Data Science Masters'"
      ]
     },
     "execution_count": 25,
     "metadata": {},
     "output_type": "execute_result"
    }
   ],
   "source": [
    "str_1.replace(\"Dat\",\"Data\").replace(\"cience\",\"Science\")"
   ]
  },
  {
   "cell_type": "code",
   "execution_count": 26,
   "id": "f4a1b135-240a-4672-8dc9-ac04d76c8f11",
   "metadata": {},
   "outputs": [
    {
     "data": {
      "text/plain": [
       "False"
      ]
     },
     "execution_count": 26,
     "metadata": {},
     "output_type": "execute_result"
    }
   ],
   "source": [
    "str_1.isupper()"
   ]
  },
  {
   "cell_type": "code",
   "execution_count": 28,
   "id": "fb9143bb-af73-450d-b949-8326cefa69ce",
   "metadata": {},
   "outputs": [
    {
     "data": {
      "text/plain": [
       "True"
      ]
     },
     "execution_count": 28,
     "metadata": {},
     "output_type": "execute_result"
    }
   ],
   "source": [
    "str_2=\"AKASH\"\n",
    "str_2.isupper()"
   ]
  },
  {
   "cell_type": "code",
   "execution_count": 29,
   "id": "89be5c70-b108-4671-961b-3384190dca76",
   "metadata": {},
   "outputs": [
    {
     "data": {
      "text/plain": [
       "False"
      ]
     },
     "execution_count": 29,
     "metadata": {},
     "output_type": "execute_result"
    }
   ],
   "source": [
    "str_2.islower()"
   ]
  },
  {
   "cell_type": "code",
   "execution_count": 31,
   "id": "594bfa1c-221f-4d2b-ab5b-18a851e6127d",
   "metadata": {},
   "outputs": [
    {
     "data": {
      "text/plain": [
       "False"
      ]
     },
     "execution_count": 32,
     "metadata": {},
     "output_type": "execute_result"
    }
   ],
   "source": [
    "' '.isspace() "
   ]
  },
  {
   "cell_type": "code",
   "execution_count": 33,
   "id": "d3c40c09-02b4-46fb-b950-8e2a4bcf00b2",
   "metadata": {},
   "outputs": [
    {
     "data": {
      "text/plain": [
       "False"
      ]
     },
     "execution_count": 33,
     "metadata": {},
     "output_type": "execute_result"
    }
   ],
   "source": [
    "str_2.isspace()"
   ]
  },
  {
   "cell_type": "code",
   "execution_count": 37,
   "id": "bf5eb820-ae0d-4ea0-aa25-b5d79211ae3a",
   "metadata": {},
   "outputs": [
    {
     "name": "stdout",
     "output_type": "stream",
     "text": [
      "Hello\n"
     ]
    }
   ],
   "source": [
    "#conditional statements\n",
    "if \" \".isspace():\n",
    "    print(\"Hello\")\n",
    "else:\n",
    "    print(\"bye\")"
   ]
  },
  {
   "cell_type": "code",
   "execution_count": 40,
   "id": "563d2ee0-7e66-4774-941c-eee86adff0e4",
   "metadata": {},
   "outputs": [
    {
     "data": {
      "text/plain": [
       "True"
      ]
     },
     "execution_count": 40,
     "metadata": {},
     "output_type": "execute_result"
    }
   ],
   "source": [
    "str_1.endswith('s')"
   ]
  },
  {
   "cell_type": "code",
   "execution_count": 42,
   "id": "f1ceeb28-0034-46b6-a121-49705ccb3a45",
   "metadata": {},
   "outputs": [
    {
     "data": {
      "text/plain": [
       "True"
      ]
     },
     "execution_count": 42,
     "metadata": {},
     "output_type": "execute_result"
    }
   ],
   "source": [
    "str_1.startswith('W')"
   ]
  },
  {
   "cell_type": "code",
   "execution_count": 45,
   "id": "8061757d-3343-408d-9446-6876fe238749",
   "metadata": {},
   "outputs": [
    {
     "data": {
      "text/plain": [
       "True"
      ]
     },
     "execution_count": 45,
     "metadata": {},
     "output_type": "execute_result"
    }
   ],
   "source": [
    "## check if all the char in string are alphanumeric\n",
    "a=\"224\"\n",
    "a.isalnum()"
   ]
  },
  {
   "cell_type": "code",
   "execution_count": 46,
   "id": "a730f8ee-93ec-4aed-92f3-929e3d4aea26",
   "metadata": {},
   "outputs": [],
   "source": [
    "## count the number of character in string\n"
   ]
  },
  {
   "cell_type": "code",
   "execution_count": 56,
   "id": "2669adbc-3113-4af3-9a1b-77be0269726f",
   "metadata": {},
   "outputs": [
    {
     "name": "stdout",
     "output_type": "stream",
     "text": [
      "50\n"
     ]
    }
   ],
   "source": [
    "count=0\n",
    "\n",
    "for i in str_1:\n",
    "    count=count+1\n",
    "print(count)"
   ]
  },
  {
   "cell_type": "code",
   "execution_count": 60,
   "id": "a785fbc4-f7dc-4679-8de5-b81f0bbb3d89",
   "metadata": {},
   "outputs": [
    {
     "name": "stdout",
     "output_type": "stream",
     "text": [
      "s\n",
      "l\n",
      "l\n",
      "i\n",
      "k\n",
      "s\n",
      "w\n",
      "p\n"
     ]
    }
   ],
   "source": [
    "string=\"pwskills\"\n",
    "ch=len(string)-1\n",
    "while ch>=0:\n",
    "    print(string[ch])\n",
    "    ch=ch-1"
   ]
  },
  {
   "cell_type": "code",
   "execution_count": 58,
   "id": "39d1006f-1578-4278-99a8-2e806802e625",
   "metadata": {},
   "outputs": [
    {
     "data": {
      "text/plain": [
       "8"
      ]
     },
     "execution_count": 58,
     "metadata": {},
     "output_type": "execute_result"
    }
   ],
   "source": [
    "len(string)"
   ]
  },
  {
   "cell_type": "code",
   "execution_count": 61,
   "id": "7fc29d55-57ed-4b2e-b35a-4c46542a1a4d",
   "metadata": {},
   "outputs": [],
   "source": [
    "Name=\"pwskills\"\n",
    "Vowels=\"AaEeIiOoUu\""
   ]
  },
  {
   "cell_type": "code",
   "execution_count": 62,
   "id": "ebaa362e-6a16-48d9-94b3-39005ae85e65",
   "metadata": {},
   "outputs": [
    {
     "name": "stdout",
     "output_type": "stream",
     "text": [
      "p is not a vowels\n",
      "w is not a vowels\n",
      "s is not a vowels\n",
      "k is not a vowels\n",
      "i is a vowels\n",
      "l is not a vowels\n",
      "l is not a vowels\n",
      "s is not a vowels\n"
     ]
    }
   ],
   "source": [
    "for ch in Name:\n",
    "    if ch in Vowels:\n",
    "        print(\"{} is a vowels\".format(ch))\n",
    "    else:\n",
    "        print(\"{} is not a vowels\".format(ch))\n",
    "        "
   ]
  },
  {
   "cell_type": "markdown",
   "id": "6ddfd266-e638-4a5c-a5b2-bdb46f6ed27c",
   "metadata": {},
   "source": [
    "# List\n"
   ]
  },
  {
   "cell_type": "code",
   "execution_count": 63,
   "id": "331048a8-6e6b-41c7-8276-090f13927040",
   "metadata": {},
   "outputs": [
    {
     "data": {
      "text/plain": [
       "list"
      ]
     },
     "execution_count": 63,
     "metadata": {},
     "output_type": "execute_result"
    }
   ],
   "source": [
    "type([])"
   ]
  },
  {
   "cell_type": "code",
   "execution_count": 82,
   "id": "c64cbdbb-2198-4cae-939b-7ef802f079a5",
   "metadata": {},
   "outputs": [],
   "source": [
    "list=[\"akash\",\"darshana\",\"data\",88]"
   ]
  },
  {
   "cell_type": "code",
   "execution_count": 67,
   "id": "1205cfa2-2d0a-4ba4-957b-84cc1309c3ce",
   "metadata": {},
   "outputs": [
    {
     "data": {
      "text/plain": [
       "['A', 'K', 'A', 'S', 'H']"
      ]
     },
     "execution_count": 67,
     "metadata": {},
     "output_type": "execute_result"
    }
   ],
   "source": [
    "list(str_2)"
   ]
  },
  {
   "cell_type": "code",
   "execution_count": 68,
   "id": "591ce3b7-d55d-48cd-aeb5-ebb726fcd54b",
   "metadata": {},
   "outputs": [
    {
     "data": {
      "text/plain": [
       "'Welcome to PWskills .Welcome to Dat cience Masters'"
      ]
     },
     "execution_count": 68,
     "metadata": {},
     "output_type": "execute_result"
    }
   ],
   "source": [
    "str_1"
   ]
  },
  {
   "cell_type": "code",
   "execution_count": 69,
   "id": "1151a404-c107-4bba-b1f5-c7f481935ef4",
   "metadata": {},
   "outputs": [],
   "source": [
    "str_b=\"PW skills Data Scence masters\""
   ]
  },
  {
   "cell_type": "code",
   "execution_count": 19,
   "id": "892e606f-2c91-4f43-a0db-3efc9e8e0339",
   "metadata": {},
   "outputs": [
    {
     "ename": "NameError",
     "evalue": "name 'str_b' is not defined",
     "output_type": "error",
     "traceback": [
      "\u001b[0;31m---------------------------------------------------------------------------\u001b[0m",
      "\u001b[0;31mNameError\u001b[0m                                 Traceback (most recent call last)",
      "Cell \u001b[0;32mIn[19], line 1\u001b[0m\n\u001b[0;32m----> 1\u001b[0m \u001b[38;5;28mstr\u001b[39m\u001b[38;5;241m=\u001b[39m\u001b[43mstr_b\u001b[49m\u001b[38;5;241m.\u001b[39msplit(\u001b[38;5;124m\"\u001b[39m\u001b[38;5;124m \u001b[39m\u001b[38;5;124m\"\u001b[39m)\n",
      "\u001b[0;31mNameError\u001b[0m: name 'str_b' is not defined"
     ]
    }
   ],
   "source": [
    "str=str_b.split(\" \")\n"
   ]
  },
  {
   "cell_type": "code",
   "execution_count": null,
   "id": "390374cc-f538-4d7a-8669-1c12a9bfb154",
   "metadata": {},
   "outputs": [],
   "source": []
  },
  {
   "cell_type": "code",
   "execution_count": 80,
   "id": "70a7494d-f5fb-48f5-9847-dd7ad0a11a9c",
   "metadata": {},
   "outputs": [
    {
     "data": {
      "text/plain": [
       "' skills Data Scence masters'"
      ]
     },
     "execution_count": 80,
     "metadata": {},
     "output_type": "execute_result"
    }
   ],
   "source": [
    "str_b[2:]"
   ]
  },
  {
   "cell_type": "code",
   "execution_count": 81,
   "id": "8d726df6-fdb3-4026-a2a1-c459bac6b382",
   "metadata": {},
   "outputs": [
    {
     "data": {
      "text/plain": [
       "'AKASH'"
      ]
     },
     "execution_count": 81,
     "metadata": {},
     "output_type": "execute_result"
    }
   ],
   "source": [
    "str_2\n"
   ]
  },
  {
   "cell_type": "code",
   "execution_count": 83,
   "id": "eb360d2c-f92b-4b5f-a57c-df06cb196920",
   "metadata": {},
   "outputs": [
    {
     "data": {
      "text/plain": [
       "['akash', 'darshana', 'data', 88]"
      ]
     },
     "execution_count": 83,
     "metadata": {},
     "output_type": "execute_result"
    }
   ],
   "source": [
    "list"
   ]
  },
  {
   "cell_type": "code",
   "execution_count": 84,
   "id": "45df5fbd-a8e2-46a6-8fc5-b354c4428352",
   "metadata": {},
   "outputs": [
    {
     "data": {
      "text/plain": [
       "['akash', 'darshana', 'data', 88, 'akash', 'darshana', 'data', 88]"
      ]
     },
     "execution_count": 84,
     "metadata": {},
     "output_type": "execute_result"
    }
   ],
   "source": [
    "list*2"
   ]
  },
  {
   "cell_type": "code",
   "execution_count": 85,
   "id": "eace0bc3-ac7b-494c-b08b-a8a5d035063c",
   "metadata": {},
   "outputs": [
    {
     "name": "stdout",
     "output_type": "stream",
     "text": [
      "available\n"
     ]
    }
   ],
   "source": [
    "if \"darshana\" in list:\n",
    "    print(\"available\")\n",
    "else:\n",
    "    print(\"not available\")"
   ]
  },
  {
   "cell_type": "code",
   "execution_count": 86,
   "id": "6e9b443c-9044-4af7-ace2-f5b373d507ff",
   "metadata": {},
   "outputs": [
    {
     "name": "stdout",
     "output_type": "stream",
     "text": [
      "88\n"
     ]
    }
   ],
   "source": [
    "for i in list:\n",
    "    if i==88:\n",
    "        print(i)\n",
    "        break"
   ]
  },
  {
   "cell_type": "code",
   "execution_count": 87,
   "id": "75f7b52f-9891-4747-b4e4-8f0aba5e8617",
   "metadata": {},
   "outputs": [
    {
     "data": {
      "text/plain": [
       "True"
      ]
     },
     "execution_count": 87,
     "metadata": {},
     "output_type": "execute_result"
    }
   ],
   "source": [
    "lst=[1,2,4,5]\n",
    "4 in lst"
   ]
  },
  {
   "cell_type": "code",
   "execution_count": 88,
   "id": "d4608c4e-3cb6-46dd-8e46-02f6943886a8",
   "metadata": {},
   "outputs": [
    {
     "data": {
      "text/plain": [
       "False"
      ]
     },
     "execution_count": 88,
     "metadata": {},
     "output_type": "execute_result"
    }
   ],
   "source": [
    "66 in lst"
   ]
  },
  {
   "cell_type": "code",
   "execution_count": 89,
   "id": "48dc37bc-e636-4a3c-bdab-7a07bf76ec7b",
   "metadata": {},
   "outputs": [],
   "source": [
    "lst_1=[\"krishna\",\"shiv\",\"vishnu\",\"ram\"]\n",
    "lst_2=[1,2,4,6,8,9,5,2]"
   ]
  },
  {
   "cell_type": "code",
   "execution_count": 93,
   "id": "801ad5b6-2d9d-4145-961f-cf21e8d36b1a",
   "metadata": {},
   "outputs": [
    {
     "name": "stdout",
     "output_type": "stream",
     "text": [
      "vishnu\n",
      "9\n",
      "krishna\n",
      "1\n"
     ]
    }
   ],
   "source": [
    "print(max(lst_1))\n",
    "print(max(lst_2))\n",
    "\n",
    "print(min(lst_1))\n",
    "print(min(lst_2))"
   ]
  },
  {
   "cell_type": "code",
   "execution_count": 96,
   "id": "7d61ca92-0a4b-40a3-ba4e-096d33d3e6f4",
   "metadata": {},
   "outputs": [],
   "source": [
    "lst_3=[1,2,3,4,5]"
   ]
  },
  {
   "cell_type": "code",
   "execution_count": 97,
   "id": "2d9cd290-cfa6-4feb-8a0b-097010173045",
   "metadata": {},
   "outputs": [],
   "source": [
    "lst_3.append(\"akash\")"
   ]
  },
  {
   "cell_type": "code",
   "execution_count": 99,
   "id": "e1c72b86-4abc-4410-9dff-971e54dd6522",
   "metadata": {},
   "outputs": [
    {
     "data": {
      "text/plain": [
       "[1, 2, 3, 4, 5, 'akash']"
      ]
     },
     "execution_count": 99,
     "metadata": {},
     "output_type": "execute_result"
    }
   ],
   "source": [
    "lst_3"
   ]
  },
  {
   "cell_type": "code",
   "execution_count": 100,
   "id": "bb22db7a-fe90-45af-850f-bcf22363aa5f",
   "metadata": {},
   "outputs": [],
   "source": [
    "lst_3.append([\"hi\",'hello'])\n"
   ]
  },
  {
   "cell_type": "code",
   "execution_count": 101,
   "id": "b2c63cef-f2b3-4a8b-b44b-11f2e44c23f2",
   "metadata": {},
   "outputs": [
    {
     "data": {
      "text/plain": [
       "[1, 2, 3, 4, 5, 'akash', ['hi', 'hello']]"
      ]
     },
     "execution_count": 101,
     "metadata": {},
     "output_type": "execute_result"
    }
   ],
   "source": [
    "lst_3"
   ]
  },
  {
   "cell_type": "code",
   "execution_count": 102,
   "id": "c585f593-19c7-411e-bdf5-c64abde92b55",
   "metadata": {},
   "outputs": [
    {
     "data": {
      "text/plain": [
       "3"
      ]
     },
     "execution_count": 102,
     "metadata": {},
     "output_type": "execute_result"
    }
   ],
   "source": [
    "lst_3.pop(2)"
   ]
  },
  {
   "cell_type": "code",
   "execution_count": 103,
   "id": "0265eba7-b126-4fa9-bf48-76a19db3b2f7",
   "metadata": {},
   "outputs": [
    {
     "data": {
      "text/plain": [
       "[1, 2, 4, 5, 'akash', ['hi', 'hello']]"
      ]
     },
     "execution_count": 103,
     "metadata": {},
     "output_type": "execute_result"
    }
   ],
   "source": [
    "lst_3"
   ]
  },
  {
   "cell_type": "code",
   "execution_count": 104,
   "id": "80d845f0-a6f7-4a2d-9210-24c7f6cedc96",
   "metadata": {},
   "outputs": [
    {
     "data": {
      "text/plain": [
       "['a', 's', 'd', 'f']"
      ]
     },
     "execution_count": 104,
     "metadata": {},
     "output_type": "execute_result"
    }
   ],
   "source": [
    "new_list=[\"a\",'s','d','f']\n",
    "new_list"
   ]
  },
  {
   "cell_type": "code",
   "execution_count": 105,
   "id": "976ec80e-9bd9-4466-844a-8a7293d2cb4b",
   "metadata": {},
   "outputs": [],
   "source": [
    "new_list.sort()"
   ]
  },
  {
   "cell_type": "code",
   "execution_count": 107,
   "id": "ec9d67a0-6a42-439a-8e03-d9b0b4aba729",
   "metadata": {},
   "outputs": [
    {
     "data": {
      "text/plain": [
       "['a', 'd', 'f', 's']"
      ]
     },
     "execution_count": 107,
     "metadata": {},
     "output_type": "execute_result"
    }
   ],
   "source": [
    "new_list"
   ]
  },
  {
   "cell_type": "code",
   "execution_count": 109,
   "id": "6b38d6bd-0637-45ae-bd6d-8b1c3acc77ad",
   "metadata": {},
   "outputs": [],
   "source": [
    "## adding more than 2 elemets\n",
    "new_list.extend(['c','m'])"
   ]
  },
  {
   "cell_type": "code",
   "execution_count": 110,
   "id": "c6cc0d7a-d43d-492a-85c0-beab395dc6e8",
   "metadata": {},
   "outputs": [
    {
     "data": {
      "text/plain": [
       "['a', 'd', 'f', 's', 'c', 'm']"
      ]
     },
     "execution_count": 110,
     "metadata": {},
     "output_type": "execute_result"
    }
   ],
   "source": [
    "new_list"
   ]
  },
  {
   "cell_type": "code",
   "execution_count": 111,
   "id": "4a22e654-430d-413d-bd9e-236deb6ad216",
   "metadata": {},
   "outputs": [],
   "source": [
    "new_list.sort()"
   ]
  },
  {
   "cell_type": "code",
   "execution_count": 112,
   "id": "3f06279b-9a95-4df0-8925-05d693360a4e",
   "metadata": {},
   "outputs": [
    {
     "data": {
      "text/plain": [
       "['a', 'c', 'd', 'f', 'm', 's']"
      ]
     },
     "execution_count": 112,
     "metadata": {},
     "output_type": "execute_result"
    }
   ],
   "source": [
    "new_list"
   ]
  },
  {
   "cell_type": "markdown",
   "id": "021dc242-5619-460e-8736-bba30e4eb312",
   "metadata": {},
   "source": [
    "# nested list"
   ]
  },
  {
   "cell_type": "code",
   "execution_count": 113,
   "id": "cf64c766-cd79-4c22-9962-7ca9d11cfde0",
   "metadata": {},
   "outputs": [],
   "source": [
    "lst_5=[1,2,3]\n",
    "lst_6=[4,5,6]\n",
    "lst_7=[7,8,9]\n",
    "\n",
    "matrix=[lst_5,lst_6,lst_7]"
   ]
  },
  {
   "cell_type": "code",
   "execution_count": 114,
   "id": "5e8fb5d9-4aa3-40b7-b647-52d526d8269b",
   "metadata": {},
   "outputs": [
    {
     "data": {
      "text/plain": [
       "[[1, 2, 3], [4, 5, 6], [7, 8, 9]]"
      ]
     },
     "execution_count": 114,
     "metadata": {},
     "output_type": "execute_result"
    }
   ],
   "source": [
    "matrix"
   ]
  },
  {
   "cell_type": "code",
   "execution_count": 116,
   "id": "602b059c-d75c-4fc8-8a09-70714ff6259a",
   "metadata": {},
   "outputs": [
    {
     "data": {
      "text/plain": [
       "6"
      ]
     },
     "execution_count": 116,
     "metadata": {},
     "output_type": "execute_result"
    }
   ],
   "source": [
    "matrix[1][2]"
   ]
  },
  {
   "cell_type": "code",
   "execution_count": 117,
   "id": "3060c9f4-a76b-4368-82ea-a715fcc58088",
   "metadata": {},
   "outputs": [
    {
     "data": {
      "text/plain": [
       "[0, 1, 2, 3, 4, 5, 6, 7, 8, 9, 10, 11, 12, 13, 14, 15, 16, 17, 18, 19]"
      ]
     },
     "execution_count": 117,
     "metadata": {},
     "output_type": "execute_result"
    }
   ],
   "source": [
    "##list comprehension\n",
    "[i for i in range(20)]"
   ]
  },
  {
   "cell_type": "code",
   "execution_count": 118,
   "id": "b249b444-6461-49f3-a3dd-a00d620c21f1",
   "metadata": {},
   "outputs": [
    {
     "data": {
      "text/plain": [
       "[True,\n",
       " False,\n",
       " True,\n",
       " False,\n",
       " True,\n",
       " False,\n",
       " True,\n",
       " False,\n",
       " True,\n",
       " False,\n",
       " True,\n",
       " False,\n",
       " True,\n",
       " False,\n",
       " True,\n",
       " False,\n",
       " True,\n",
       " False,\n",
       " True,\n",
       " False]"
      ]
     },
     "execution_count": 118,
     "metadata": {},
     "output_type": "execute_result"
    }
   ],
   "source": [
    "[i%2==0 for i in range(20)]"
   ]
  },
  {
   "cell_type": "code",
   "execution_count": 14,
   "id": "cd70f3ec-a7b8-4cf5-85af-c2aa7a94c27b",
   "metadata": {},
   "outputs": [],
   "source": [
    "hello=\"my name\""
   ]
  },
  {
   "cell_type": "code",
   "execution_count": 15,
   "id": "fe6d08a2-3aae-4779-9c21-50d21602f764",
   "metadata": {},
   "outputs": [
    {
     "data": {
      "text/plain": [
       "['m', 'y', ' ', 'n', 'a', 'm', 'e']"
      ]
     },
     "execution_count": 15,
     "metadata": {},
     "output_type": "execute_result"
    }
   ],
   "source": [
    "list(hello)"
   ]
  },
  {
   "cell_type": "code",
   "execution_count": 21,
   "id": "104ef87f-6aaa-41b3-b9e6-6fceeaa9ced7",
   "metadata": {},
   "outputs": [
    {
     "ename": "NameError",
     "evalue": "name 'matrix' is not defined",
     "output_type": "error",
     "traceback": [
      "\u001b[0;31m---------------------------------------------------------------------------\u001b[0m",
      "\u001b[0;31mNameError\u001b[0m                                 Traceback (most recent call last)",
      "Cell \u001b[0;32mIn[21], line 1\u001b[0m\n\u001b[0;32m----> 1\u001b[0m \u001b[38;5;28mtype\u001b[39m(\u001b[43mmatrix\u001b[49m)\n",
      "\u001b[0;31mNameError\u001b[0m: name 'matrix' is not defined"
     ]
    }
   ],
   "source": [
    "type(matrix)"
   ]
  },
  {
   "cell_type": "code",
   "execution_count": null,
   "id": "d39d9041-5498-43a9-ae75-335fc1a4053b",
   "metadata": {},
   "outputs": [],
   "source": []
  }
 ],
 "metadata": {
  "kernelspec": {
   "display_name": "Python 3 (ipykernel)",
   "language": "python",
   "name": "python3"
  },
  "language_info": {
   "codemirror_mode": {
    "name": "ipython",
    "version": 3
   },
   "file_extension": ".py",
   "mimetype": "text/x-python",
   "name": "python",
   "nbconvert_exporter": "python",
   "pygments_lexer": "ipython3",
   "version": "3.10.8"
  }
 },
 "nbformat": 4,
 "nbformat_minor": 5
}
